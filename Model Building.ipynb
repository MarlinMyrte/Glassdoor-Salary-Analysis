{
 "cells": [
  {
   "cell_type": "code",
   "execution_count": 3,
   "id": "7f28b7ad",
   "metadata": {},
   "outputs": [],
   "source": [
    "import pandas as pd\n",
    "import numpy as np\n",
    "import matplotlib.pyplot as plt\n",
    "import seaborn as sns"
   ]
  },
  {
   "cell_type": "code",
   "execution_count": 4,
   "id": "44bf03fb",
   "metadata": {},
   "outputs": [],
   "source": [
    "data=pd.read_csv(\"cleaned_data.csv\")"
   ]
  },
  {
   "cell_type": "code",
   "execution_count": null,
   "id": "901ebe3a",
   "metadata": {},
   "outputs": [],
   "source": []
  },
  {
   "cell_type": "code",
   "execution_count": 5,
   "id": "de1bfa5b",
   "metadata": {},
   "outputs": [],
   "source": [
    "data=data.drop(columns=[\"Unnamed: 0\",\"Unnamed: 0.1\"])"
   ]
  },
  {
   "cell_type": "code",
   "execution_count": 6,
   "id": "0941455a",
   "metadata": {},
   "outputs": [],
   "source": [
    "# Choosing relevant columns\n",
    "df_model=data[[\"Salary_mean\",\"Rating\",\"Size\",\"Type of ownership\",\"Industry\",\"Sector\",\"Revenue\",\"Location State\",\"age\"\n",
    "               ,\"python\",\"spark\",\"excel\",\"clean_job_title\",\"desc_length\"]]"
   ]
  },
  {
   "cell_type": "code",
   "execution_count": 7,
   "id": "514d3d34",
   "metadata": {},
   "outputs": [],
   "source": [
    "# Get dummy variables\n",
    "df_dummies=pd.get_dummies(df_model)"
   ]
  },
  {
   "cell_type": "code",
   "execution_count": 8,
   "id": "84c9abb7",
   "metadata": {},
   "outputs": [],
   "source": [
    "# Train Test Split\n",
    "from sklearn.model_selection import train_test_split"
   ]
  },
  {
   "cell_type": "code",
   "execution_count": null,
   "id": "9083b018",
   "metadata": {},
   "outputs": [],
   "source": [
    "sns.scatterplot(x=df_model[\"Rating\"],y=df_model[\"Salary_mean\"])"
   ]
  },
  {
   "cell_type": "code",
   "execution_count": null,
   "id": "37b1922d",
   "metadata": {},
   "outputs": [],
   "source": [
    "df_model.corr()"
   ]
  },
  {
   "cell_type": "code",
   "execution_count": 9,
   "id": "a8bfb23c",
   "metadata": {},
   "outputs": [],
   "source": [
    "X=df_dummies.drop(columns=\"Salary_mean\")\n",
    "y=df_dummies[\"Salary_mean\"].values\n",
    "X_train, X_test, y_train, y_test = train_test_split(X, y, test_size=0.2, random_state=42)"
   ]
  },
  {
   "cell_type": "code",
   "execution_count": 10,
   "id": "e9e990d3",
   "metadata": {},
   "outputs": [],
   "source": [
    "# Multiple Linear Regression\n",
    "\n",
    "import statsmodels.api as sm"
   ]
  },
  {
   "cell_type": "code",
   "execution_count": 11,
   "id": "b49dc3f6",
   "metadata": {},
   "outputs": [
    {
     "name": "stderr",
     "output_type": "stream",
     "text": [
      "C:\\Users\\marli\\anaconda3\\lib\\site-packages\\statsmodels\\tsa\\tsatools.py:142: FutureWarning: In a future version of pandas all arguments of concat except for the argument 'objs' will be keyword-only\n",
      "  x = pd.concat(x[::order], 1)\n"
     ]
    }
   ],
   "source": [
    "X_sm=X=sm.add_constant(X)\n"
   ]
  },
  {
   "cell_type": "code",
   "execution_count": 12,
   "id": "0a7f8bd9",
   "metadata": {},
   "outputs": [
    {
     "data": {
      "text/html": [
       "<table class=\"simpletable\">\n",
       "<caption>OLS Regression Results</caption>\n",
       "<tr>\n",
       "  <th>Dep. Variable:</th>            <td>y</td>        <th>  R-squared:         </th> <td>   0.988</td>\n",
       "</tr>\n",
       "<tr>\n",
       "  <th>Model:</th>                   <td>OLS</td>       <th>  Adj. R-squared:    </th> <td>   0.984</td>\n",
       "</tr>\n",
       "<tr>\n",
       "  <th>Method:</th>             <td>Least Squares</td>  <th>  F-statistic:       </th> <td>   241.6</td>\n",
       "</tr>\n",
       "<tr>\n",
       "  <th>Date:</th>             <td>Fri, 07 Jan 2022</td> <th>  Prob (F-statistic):</th> <td>2.07e-48</td>\n",
       "</tr>\n",
       "<tr>\n",
       "  <th>Time:</th>                 <td>00:16:15</td>     <th>  Log-Likelihood:    </th> <td> -748.30</td>\n",
       "</tr>\n",
       "<tr>\n",
       "  <th>No. Observations:</th>      <td>    79</td>      <th>  AIC:               </th> <td>   1539.</td>\n",
       "</tr>\n",
       "<tr>\n",
       "  <th>Df Residuals:</th>          <td>    58</td>      <th>  BIC:               </th> <td>   1588.</td>\n",
       "</tr>\n",
       "<tr>\n",
       "  <th>Df Model:</th>              <td>    20</td>      <th>                     </th>     <td> </td>   \n",
       "</tr>\n",
       "<tr>\n",
       "  <th>Covariance Type:</th>      <td>nonrobust</td>    <th>                     </th>     <td> </td>   \n",
       "</tr>\n",
       "</table>\n",
       "<table class=\"simpletable\">\n",
       "<tr>\n",
       "                         <td></td>                           <th>coef</th>     <th>std err</th>      <th>t</th>      <th>P>|t|</th>  <th>[0.025</th>    <th>0.975]</th>  \n",
       "</tr>\n",
       "<tr>\n",
       "  <th>Rating</th>                                         <td>-3.692e+04</td> <td> 1510.513</td> <td>  -24.444</td> <td> 0.000</td> <td>-3.99e+04</td> <td>-3.39e+04</td>\n",
       "</tr>\n",
       "<tr>\n",
       "  <th>age</th>                                            <td> 2039.2036</td> <td>  228.127</td> <td>    8.939</td> <td> 0.000</td> <td> 1582.557</td> <td> 2495.850</td>\n",
       "</tr>\n",
       "<tr>\n",
       "  <th>python</th>                                         <td>-3.997e+04</td> <td> 4456.411</td> <td>   -8.968</td> <td> 0.000</td> <td>-4.89e+04</td> <td> -3.1e+04</td>\n",
       "</tr>\n",
       "<tr>\n",
       "  <th>spark</th>                                          <td> 7165.2366</td> <td> 1266.642</td> <td>    5.657</td> <td> 0.000</td> <td> 4629.777</td> <td> 9700.696</td>\n",
       "</tr>\n",
       "<tr>\n",
       "  <th>excel</th>                                          <td> 1.861e+04</td> <td> 2152.719</td> <td>    8.646</td> <td> 0.000</td> <td> 1.43e+04</td> <td> 2.29e+04</td>\n",
       "</tr>\n",
       "<tr>\n",
       "  <th>desc_length</th>                                    <td>   -6.4775</td> <td>    0.590</td> <td>  -10.987</td> <td> 0.000</td> <td>   -7.658</td> <td>   -5.297</td>\n",
       "</tr>\n",
       "<tr>\n",
       "  <th>Size_1 to 50 Employees</th>                         <td> 3.425e+04</td> <td> 2103.137</td> <td>   16.287</td> <td> 0.000</td> <td>    3e+04</td> <td> 3.85e+04</td>\n",
       "</tr>\n",
       "<tr>\n",
       "  <th>Size_10000+ Employees</th>                          <td>-3.626e+04</td> <td> 6955.643</td> <td>   -5.212</td> <td> 0.000</td> <td>-5.02e+04</td> <td>-2.23e+04</td>\n",
       "</tr>\n",
       "<tr>\n",
       "  <th>Size_1001 to 5000 Employees</th>                    <td> 3158.5171</td> <td> 2021.560</td> <td>    1.562</td> <td> 0.124</td> <td> -888.076</td> <td> 7205.110</td>\n",
       "</tr>\n",
       "<tr>\n",
       "  <th>Size_201 to 500 Employees</th>                      <td> 2.399e+04</td> <td> 1889.362</td> <td>   12.695</td> <td> 0.000</td> <td> 2.02e+04</td> <td> 2.78e+04</td>\n",
       "</tr>\n",
       "<tr>\n",
       "  <th>Size_5001 to 10000 Employees</th>                   <td> 3.631e+04</td> <td> 2490.785</td> <td>   14.579</td> <td> 0.000</td> <td> 3.13e+04</td> <td> 4.13e+04</td>\n",
       "</tr>\n",
       "<tr>\n",
       "  <th>Size_501 to 1000 Employees</th>                     <td> 1.561e+04</td> <td> 1469.453</td> <td>   10.624</td> <td> 0.000</td> <td> 1.27e+04</td> <td> 1.86e+04</td>\n",
       "</tr>\n",
       "<tr>\n",
       "  <th>Size_51 to 200 Employees</th>                       <td>-1241.9757</td> <td> 2318.465</td> <td>   -0.536</td> <td> 0.594</td> <td>-5882.888</td> <td> 3398.937</td>\n",
       "</tr>\n",
       "<tr>\n",
       "  <th>Size_Unknown</th>                                   <td> 5341.6120</td> <td> 1801.581</td> <td>    2.965</td> <td> 0.004</td> <td> 1735.357</td> <td> 8947.867</td>\n",
       "</tr>\n",
       "<tr>\n",
       "  <th>Type of ownership_College / University</th>         <td>-5.501e+04</td> <td> 6813.918</td> <td>   -8.073</td> <td> 0.000</td> <td>-6.86e+04</td> <td>-4.14e+04</td>\n",
       "</tr>\n",
       "<tr>\n",
       "  <th>Type of ownership_Company - Private</th>            <td> 4.929e+04</td> <td> 2499.169</td> <td>   19.721</td> <td> 0.000</td> <td> 4.43e+04</td> <td> 5.43e+04</td>\n",
       "</tr>\n",
       "<tr>\n",
       "  <th>Type of ownership_Company - Public</th>             <td> 1.003e+05</td> <td> 6481.912</td> <td>   15.473</td> <td> 0.000</td> <td> 8.73e+04</td> <td> 1.13e+05</td>\n",
       "</tr>\n",
       "<tr>\n",
       "  <th>Type of ownership_Government</th>                   <td> 4.165e+04</td> <td> 1899.513</td> <td>   21.929</td> <td> 0.000</td> <td> 3.79e+04</td> <td> 4.55e+04</td>\n",
       "</tr>\n",
       "<tr>\n",
       "  <th>Type of ownership_Nonprofit Organization</th>       <td>-8.154e+04</td> <td> 6182.605</td> <td>  -13.189</td> <td> 0.000</td> <td>-9.39e+04</td> <td>-6.92e+04</td>\n",
       "</tr>\n",
       "<tr>\n",
       "  <th>Type of ownership_Unknown</th>                      <td> 2.648e+04</td> <td> 2166.615</td> <td>   12.222</td> <td> 0.000</td> <td> 2.21e+04</td> <td> 3.08e+04</td>\n",
       "</tr>\n",
       "<tr>\n",
       "  <th>Industry_-1</th>                                    <td> 7773.2729</td> <td>  936.665</td> <td>    8.299</td> <td> 0.000</td> <td> 5898.335</td> <td> 9648.211</td>\n",
       "</tr>\n",
       "<tr>\n",
       "  <th>Industry_Colleges & Universities</th>               <td>-5.501e+04</td> <td> 6813.918</td> <td>   -8.073</td> <td> 0.000</td> <td>-6.86e+04</td> <td>-4.14e+04</td>\n",
       "</tr>\n",
       "<tr>\n",
       "  <th>Industry_Computer Hardware & Software</th>          <td> 1.164e+04</td> <td> 1660.832</td> <td>    7.010</td> <td> 0.000</td> <td> 8318.711</td> <td>  1.5e+04</td>\n",
       "</tr>\n",
       "<tr>\n",
       "  <th>Industry_Consumer Product Rental</th>               <td> 5310.0971</td> <td> 1776.792</td> <td>    2.989</td> <td> 0.004</td> <td> 1753.462</td> <td> 8866.732</td>\n",
       "</tr>\n",
       "<tr>\n",
       "  <th>Industry_Fast-Food & Quick-Service Restaurants</th> <td>-2.327e+04</td> <td> 2864.404</td> <td>   -8.124</td> <td> 0.000</td> <td> -2.9e+04</td> <td>-1.75e+04</td>\n",
       "</tr>\n",
       "<tr>\n",
       "  <th>Industry_Federal Agencies</th>                      <td> 3.631e+04</td> <td> 2490.785</td> <td>   14.579</td> <td> 0.000</td> <td> 3.13e+04</td> <td> 4.13e+04</td>\n",
       "</tr>\n",
       "<tr>\n",
       "  <th>Industry_Health Care Services & Hospitals</th>      <td> 5.029e+04</td> <td> 2477.071</td> <td>   20.302</td> <td> 0.000</td> <td> 4.53e+04</td> <td> 5.52e+04</td>\n",
       "</tr>\n",
       "<tr>\n",
       "  <th>Industry_Internet</th>                              <td> 1.163e+04</td> <td> 3684.474</td> <td>    3.155</td> <td> 0.003</td> <td> 4250.994</td> <td>  1.9e+04</td>\n",
       "</tr>\n",
       "<tr>\n",
       "  <th>Industry_Lending</th>                               <td> 2.399e+04</td> <td> 1889.362</td> <td>   12.695</td> <td> 0.000</td> <td> 2.02e+04</td> <td> 2.78e+04</td>\n",
       "</tr>\n",
       "<tr>\n",
       "  <th>Industry_Municipal Governments</th>                 <td> 5341.6120</td> <td> 1801.581</td> <td>    2.965</td> <td> 0.004</td> <td> 1735.357</td> <td> 8947.867</td>\n",
       "</tr>\n",
       "<tr>\n",
       "  <th>Industry_Video Games</th>                           <td> 7165.2366</td> <td> 1266.642</td> <td>    5.657</td> <td> 0.000</td> <td> 4629.777</td> <td> 9700.696</td>\n",
       "</tr>\n",
       "<tr>\n",
       "  <th>Sector_-1</th>                                      <td> 7773.2729</td> <td>  936.665</td> <td>    8.299</td> <td> 0.000</td> <td> 5898.335</td> <td> 9648.211</td>\n",
       "</tr>\n",
       "<tr>\n",
       "  <th>Sector_Consumer Services</th>                       <td> 5310.0971</td> <td> 1776.792</td> <td>    2.989</td> <td> 0.004</td> <td> 1753.462</td> <td> 8866.732</td>\n",
       "</tr>\n",
       "<tr>\n",
       "  <th>Sector_Education</th>                               <td>-5.501e+04</td> <td> 6813.918</td> <td>   -8.073</td> <td> 0.000</td> <td>-6.86e+04</td> <td>-4.14e+04</td>\n",
       "</tr>\n",
       "<tr>\n",
       "  <th>Sector_Finance</th>                                 <td> 2.399e+04</td> <td> 1889.362</td> <td>   12.695</td> <td> 0.000</td> <td> 2.02e+04</td> <td> 2.78e+04</td>\n",
       "</tr>\n",
       "<tr>\n",
       "  <th>Sector_Government</th>                              <td> 4.165e+04</td> <td> 1899.513</td> <td>   21.929</td> <td> 0.000</td> <td> 3.79e+04</td> <td> 4.55e+04</td>\n",
       "</tr>\n",
       "<tr>\n",
       "  <th>Sector_Health Care</th>                             <td> 5.029e+04</td> <td> 2477.071</td> <td>   20.302</td> <td> 0.000</td> <td> 4.53e+04</td> <td> 5.52e+04</td>\n",
       "</tr>\n",
       "<tr>\n",
       "  <th>Sector_Information Technology</th>                  <td> 2.327e+04</td> <td> 2517.231</td> <td>    9.244</td> <td> 0.000</td> <td> 1.82e+04</td> <td> 2.83e+04</td>\n",
       "</tr>\n",
       "<tr>\n",
       "  <th>Sector_Media</th>                                   <td> 7165.2366</td> <td> 1266.642</td> <td>    5.657</td> <td> 0.000</td> <td> 4629.777</td> <td> 9700.696</td>\n",
       "</tr>\n",
       "<tr>\n",
       "  <th>Sector_Restaurants, Bars & Food Services</th>       <td>-2.327e+04</td> <td> 2864.404</td> <td>   -8.124</td> <td> 0.000</td> <td> -2.9e+04</td> <td>-1.75e+04</td>\n",
       "</tr>\n",
       "<tr>\n",
       "  <th>Revenue_-1</th>                                     <td> 3.174e+04</td> <td> 2923.095</td> <td>   10.858</td> <td> 0.000</td> <td> 2.59e+04</td> <td> 3.76e+04</td>\n",
       "</tr>\n",
       "<tr>\n",
       "  <th>Revenue_Unknown / Non-Applicable</th>               <td> 4.943e+04</td> <td> 1909.979</td> <td>   25.878</td> <td> 0.000</td> <td> 4.56e+04</td> <td> 5.33e+04</td>\n",
       "</tr>\n",
       "<tr>\n",
       "  <th>Location State_ CA</th>                             <td> 8.117e+04</td> <td> 2444.090</td> <td>   33.209</td> <td> 0.000</td> <td> 7.63e+04</td> <td> 8.61e+04</td>\n",
       "</tr>\n",
       "<tr>\n",
       "  <th>clean_job_title_data scientist</th>                 <td> 8.894e+04</td> <td> 2129.881</td> <td>   41.758</td> <td> 0.000</td> <td> 8.47e+04</td> <td> 9.32e+04</td>\n",
       "</tr>\n",
       "<tr>\n",
       "  <th>clean_job_title_manager</th>                        <td> 2.643e+04</td> <td> 2343.059</td> <td>   11.280</td> <td> 0.000</td> <td> 2.17e+04</td> <td> 3.11e+04</td>\n",
       "</tr>\n",
       "<tr>\n",
       "  <th>clean_job_title_na</th>                             <td> -3.42e+04</td> <td> 3491.771</td> <td>   -9.795</td> <td> 0.000</td> <td>-4.12e+04</td> <td>-2.72e+04</td>\n",
       "</tr>\n",
       "</table>\n",
       "<table class=\"simpletable\">\n",
       "<tr>\n",
       "  <th>Omnibus:</th>       <td>37.155</td> <th>  Durbin-Watson:     </th> <td>   1.743</td> \n",
       "</tr>\n",
       "<tr>\n",
       "  <th>Prob(Omnibus):</th> <td> 0.000</td> <th>  Jarque-Bera (JB):  </th> <td>1274.756</td> \n",
       "</tr>\n",
       "<tr>\n",
       "  <th>Skew:</th>          <td> 0.045</td> <th>  Prob(JB):          </th> <td>1.55e-277</td>\n",
       "</tr>\n",
       "<tr>\n",
       "  <th>Kurtosis:</th>      <td>22.679</td> <th>  Cond. No.          </th> <td>1.14e+16</td> \n",
       "</tr>\n",
       "</table><br/><br/>Notes:<br/>[1] Standard Errors assume that the covariance matrix of the errors is correctly specified.<br/>[2] The smallest eigenvalue is 1.24e-23. This might indicate that there are<br/>strong multicollinearity problems or that the design matrix is singular."
      ],
      "text/plain": [
       "<class 'statsmodels.iolib.summary.Summary'>\n",
       "\"\"\"\n",
       "                            OLS Regression Results                            \n",
       "==============================================================================\n",
       "Dep. Variable:                      y   R-squared:                       0.988\n",
       "Model:                            OLS   Adj. R-squared:                  0.984\n",
       "Method:                 Least Squares   F-statistic:                     241.6\n",
       "Date:                Fri, 07 Jan 2022   Prob (F-statistic):           2.07e-48\n",
       "Time:                        00:16:15   Log-Likelihood:                -748.30\n",
       "No. Observations:                  79   AIC:                             1539.\n",
       "Df Residuals:                      58   BIC:                             1588.\n",
       "Df Model:                          20                                         \n",
       "Covariance Type:            nonrobust                                         \n",
       "==================================================================================================================\n",
       "                                                     coef    std err          t      P>|t|      [0.025      0.975]\n",
       "------------------------------------------------------------------------------------------------------------------\n",
       "Rating                                         -3.692e+04   1510.513    -24.444      0.000   -3.99e+04   -3.39e+04\n",
       "age                                             2039.2036    228.127      8.939      0.000    1582.557    2495.850\n",
       "python                                         -3.997e+04   4456.411     -8.968      0.000   -4.89e+04    -3.1e+04\n",
       "spark                                           7165.2366   1266.642      5.657      0.000    4629.777    9700.696\n",
       "excel                                           1.861e+04   2152.719      8.646      0.000    1.43e+04    2.29e+04\n",
       "desc_length                                       -6.4775      0.590    -10.987      0.000      -7.658      -5.297\n",
       "Size_1 to 50 Employees                          3.425e+04   2103.137     16.287      0.000       3e+04    3.85e+04\n",
       "Size_10000+ Employees                          -3.626e+04   6955.643     -5.212      0.000   -5.02e+04   -2.23e+04\n",
       "Size_1001 to 5000 Employees                     3158.5171   2021.560      1.562      0.124    -888.076    7205.110\n",
       "Size_201 to 500 Employees                       2.399e+04   1889.362     12.695      0.000    2.02e+04    2.78e+04\n",
       "Size_5001 to 10000 Employees                    3.631e+04   2490.785     14.579      0.000    3.13e+04    4.13e+04\n",
       "Size_501 to 1000 Employees                      1.561e+04   1469.453     10.624      0.000    1.27e+04    1.86e+04\n",
       "Size_51 to 200 Employees                       -1241.9757   2318.465     -0.536      0.594   -5882.888    3398.937\n",
       "Size_Unknown                                    5341.6120   1801.581      2.965      0.004    1735.357    8947.867\n",
       "Type of ownership_College / University         -5.501e+04   6813.918     -8.073      0.000   -6.86e+04   -4.14e+04\n",
       "Type of ownership_Company - Private             4.929e+04   2499.169     19.721      0.000    4.43e+04    5.43e+04\n",
       "Type of ownership_Company - Public              1.003e+05   6481.912     15.473      0.000    8.73e+04    1.13e+05\n",
       "Type of ownership_Government                    4.165e+04   1899.513     21.929      0.000    3.79e+04    4.55e+04\n",
       "Type of ownership_Nonprofit Organization       -8.154e+04   6182.605    -13.189      0.000   -9.39e+04   -6.92e+04\n",
       "Type of ownership_Unknown                       2.648e+04   2166.615     12.222      0.000    2.21e+04    3.08e+04\n",
       "Industry_-1                                     7773.2729    936.665      8.299      0.000    5898.335    9648.211\n",
       "Industry_Colleges & Universities               -5.501e+04   6813.918     -8.073      0.000   -6.86e+04   -4.14e+04\n",
       "Industry_Computer Hardware & Software           1.164e+04   1660.832      7.010      0.000    8318.711     1.5e+04\n",
       "Industry_Consumer Product Rental                5310.0971   1776.792      2.989      0.004    1753.462    8866.732\n",
       "Industry_Fast-Food & Quick-Service Restaurants -2.327e+04   2864.404     -8.124      0.000    -2.9e+04   -1.75e+04\n",
       "Industry_Federal Agencies                       3.631e+04   2490.785     14.579      0.000    3.13e+04    4.13e+04\n",
       "Industry_Health Care Services & Hospitals       5.029e+04   2477.071     20.302      0.000    4.53e+04    5.52e+04\n",
       "Industry_Internet                               1.163e+04   3684.474      3.155      0.003    4250.994     1.9e+04\n",
       "Industry_Lending                                2.399e+04   1889.362     12.695      0.000    2.02e+04    2.78e+04\n",
       "Industry_Municipal Governments                  5341.6120   1801.581      2.965      0.004    1735.357    8947.867\n",
       "Industry_Video Games                            7165.2366   1266.642      5.657      0.000    4629.777    9700.696\n",
       "Sector_-1                                       7773.2729    936.665      8.299      0.000    5898.335    9648.211\n",
       "Sector_Consumer Services                        5310.0971   1776.792      2.989      0.004    1753.462    8866.732\n",
       "Sector_Education                               -5.501e+04   6813.918     -8.073      0.000   -6.86e+04   -4.14e+04\n",
       "Sector_Finance                                  2.399e+04   1889.362     12.695      0.000    2.02e+04    2.78e+04\n",
       "Sector_Government                               4.165e+04   1899.513     21.929      0.000    3.79e+04    4.55e+04\n",
       "Sector_Health Care                              5.029e+04   2477.071     20.302      0.000    4.53e+04    5.52e+04\n",
       "Sector_Information Technology                   2.327e+04   2517.231      9.244      0.000    1.82e+04    2.83e+04\n",
       "Sector_Media                                    7165.2366   1266.642      5.657      0.000    4629.777    9700.696\n",
       "Sector_Restaurants, Bars & Food Services       -2.327e+04   2864.404     -8.124      0.000    -2.9e+04   -1.75e+04\n",
       "Revenue_-1                                      3.174e+04   2923.095     10.858      0.000    2.59e+04    3.76e+04\n",
       "Revenue_Unknown / Non-Applicable                4.943e+04   1909.979     25.878      0.000    4.56e+04    5.33e+04\n",
       "Location State_ CA                              8.117e+04   2444.090     33.209      0.000    7.63e+04    8.61e+04\n",
       "clean_job_title_data scientist                  8.894e+04   2129.881     41.758      0.000    8.47e+04    9.32e+04\n",
       "clean_job_title_manager                         2.643e+04   2343.059     11.280      0.000    2.17e+04    3.11e+04\n",
       "clean_job_title_na                              -3.42e+04   3491.771     -9.795      0.000   -4.12e+04   -2.72e+04\n",
       "==============================================================================\n",
       "Omnibus:                       37.155   Durbin-Watson:                   1.743\n",
       "Prob(Omnibus):                  0.000   Jarque-Bera (JB):             1274.756\n",
       "Skew:                           0.045   Prob(JB):                    1.55e-277\n",
       "Kurtosis:                      22.679   Cond. No.                     1.14e+16\n",
       "==============================================================================\n",
       "\n",
       "Notes:\n",
       "[1] Standard Errors assume that the covariance matrix of the errors is correctly specified.\n",
       "[2] The smallest eigenvalue is 1.24e-23. This might indicate that there are\n",
       "strong multicollinearity problems or that the design matrix is singular.\n",
       "\"\"\""
      ]
     },
     "execution_count": 12,
     "metadata": {},
     "output_type": "execute_result"
    }
   ],
   "source": [
    "model = sm.OLS(y,X_sm,missing=\"raise\")\n",
    "model.fit().summary()"
   ]
  },
  {
   "cell_type": "code",
   "execution_count": 13,
   "id": "5b3b3bd6",
   "metadata": {},
   "outputs": [],
   "source": [
    "from sklearn.linear_model import LinearRegression\n",
    "from sklearn.model_selection import cross_val_score"
   ]
  },
  {
   "cell_type": "code",
   "execution_count": 14,
   "id": "ff0cd54c",
   "metadata": {},
   "outputs": [
    {
     "data": {
      "text/plain": [
       "-1713656649815.1458"
      ]
     },
     "execution_count": 14,
     "metadata": {},
     "output_type": "execute_result"
    }
   ],
   "source": [
    "lm=LinearRegression().fit(X_train, y_train)\n",
    "np.mean(cross_val_score(lm,X_train, y_train, scoring='neg_mean_absolute_error',cv=3))"
   ]
  },
  {
   "cell_type": "markdown",
   "id": "87cb1b5a",
   "metadata": {},
   "source": [
    "#### We are off by about $20.613 on average"
   ]
  },
  {
   "cell_type": "code",
   "execution_count": 15,
   "id": "e424453e",
   "metadata": {},
   "outputs": [],
   "source": [
    "# Lasso Regression\n",
    "from sklearn.linear_model import Lasso"
   ]
  },
  {
   "cell_type": "code",
   "execution_count": 16,
   "id": "e62aea33",
   "metadata": {},
   "outputs": [],
   "source": [
    "lm_lasso=Lasso()"
   ]
  },
  {
   "cell_type": "code",
   "execution_count": 17,
   "id": "80651fc0",
   "metadata": {},
   "outputs": [
    {
     "name": "stderr",
     "output_type": "stream",
     "text": [
      "C:\\Users\\marli\\anaconda3\\lib\\site-packages\\sklearn\\linear_model\\_coordinate_descent.py:530: ConvergenceWarning: Objective did not converge. You might want to increase the number of iterations. Duality gap: 96651011.78232297, tolerance: 4161553.810728\n",
      "  model = cd_fast.enet_coordinate_descent(\n",
      "C:\\Users\\marli\\anaconda3\\lib\\site-packages\\sklearn\\linear_model\\_coordinate_descent.py:530: ConvergenceWarning: Objective did not converge. You might want to increase the number of iterations. Duality gap: 84311547.69472498, tolerance: 3986064.507592\n",
      "  model = cd_fast.enet_coordinate_descent(\n",
      "C:\\Users\\marli\\anaconda3\\lib\\site-packages\\sklearn\\linear_model\\_coordinate_descent.py:530: ConvergenceWarning: Objective did not converge. You might want to increase the number of iterations. Duality gap: 99119435.06416012, tolerance: 4489557.82605\n",
      "  model = cd_fast.enet_coordinate_descent(\n",
      "C:\\Users\\marli\\anaconda3\\lib\\site-packages\\sklearn\\linear_model\\_coordinate_descent.py:530: ConvergenceWarning: Objective did not converge. You might want to increase the number of iterations. Duality gap: 109945300.3778324, tolerance: 4822638.278329412\n",
      "  model = cd_fast.enet_coordinate_descent(\n",
      "C:\\Users\\marli\\anaconda3\\lib\\site-packages\\sklearn\\linear_model\\_coordinate_descent.py:530: ConvergenceWarning: Objective did not converge. You might want to increase the number of iterations. Duality gap: 64663273.9875028, tolerance: 4001682.1988745104\n",
      "  model = cd_fast.enet_coordinate_descent(\n"
     ]
    },
    {
     "data": {
      "text/plain": [
       "-10637.909517955264"
      ]
     },
     "execution_count": 17,
     "metadata": {},
     "output_type": "execute_result"
    }
   ],
   "source": [
    "np.mean(cross_val_score(lm_lasso,X_train, y_train, scoring='neg_mean_absolute_error'))"
   ]
  },
  {
   "cell_type": "code",
   "execution_count": 18,
   "id": "e596aaf5",
   "metadata": {},
   "outputs": [
    {
     "name": "stderr",
     "output_type": "stream",
     "text": [
      "C:\\Users\\marli\\anaconda3\\lib\\site-packages\\sklearn\\linear_model\\_coordinate_descent.py:530: ConvergenceWarning: Objective did not converge. You might want to increase the number of iterations. Duality gap: 36261439.33087404, tolerance: 4161553.810728\n",
      "  model = cd_fast.enet_coordinate_descent(\n",
      "C:\\Users\\marli\\anaconda3\\lib\\site-packages\\sklearn\\linear_model\\_coordinate_descent.py:530: ConvergenceWarning: Objective did not converge. You might want to increase the number of iterations. Duality gap: 33628495.0029758, tolerance: 3986064.507592\n",
      "  model = cd_fast.enet_coordinate_descent(\n",
      "C:\\Users\\marli\\anaconda3\\lib\\site-packages\\sklearn\\linear_model\\_coordinate_descent.py:530: ConvergenceWarning: Objective did not converge. You might want to increase the number of iterations. Duality gap: 45160278.41981999, tolerance: 4489557.82605\n",
      "  model = cd_fast.enet_coordinate_descent(\n",
      "C:\\Users\\marli\\anaconda3\\lib\\site-packages\\sklearn\\linear_model\\_coordinate_descent.py:530: ConvergenceWarning: Objective did not converge. You might want to increase the number of iterations. Duality gap: 48700532.938002564, tolerance: 4822638.278329412\n",
      "  model = cd_fast.enet_coordinate_descent(\n",
      "C:\\Users\\marli\\anaconda3\\lib\\site-packages\\sklearn\\linear_model\\_coordinate_descent.py:530: ConvergenceWarning: Objective did not converge. You might want to increase the number of iterations. Duality gap: 7083574.965085455, tolerance: 4001682.1988745104\n",
      "  model = cd_fast.enet_coordinate_descent(\n",
      "C:\\Users\\marli\\anaconda3\\lib\\site-packages\\sklearn\\linear_model\\_coordinate_descent.py:530: ConvergenceWarning: Objective did not converge. You might want to increase the number of iterations. Duality gap: 36934467.38739698, tolerance: 4161553.810728\n",
      "  model = cd_fast.enet_coordinate_descent(\n",
      "C:\\Users\\marli\\anaconda3\\lib\\site-packages\\sklearn\\linear_model\\_coordinate_descent.py:530: ConvergenceWarning: Objective did not converge. You might want to increase the number of iterations. Duality gap: 34239833.60309252, tolerance: 3986064.507592\n",
      "  model = cd_fast.enet_coordinate_descent(\n",
      "C:\\Users\\marli\\anaconda3\\lib\\site-packages\\sklearn\\linear_model\\_coordinate_descent.py:530: ConvergenceWarning: Objective did not converge. You might want to increase the number of iterations. Duality gap: 45688414.82753689, tolerance: 4489557.82605\n",
      "  model = cd_fast.enet_coordinate_descent(\n",
      "C:\\Users\\marli\\anaconda3\\lib\\site-packages\\sklearn\\linear_model\\_coordinate_descent.py:530: ConvergenceWarning: Objective did not converge. You might want to increase the number of iterations. Duality gap: 49339907.50653552, tolerance: 4822638.278329412\n",
      "  model = cd_fast.enet_coordinate_descent(\n",
      "C:\\Users\\marli\\anaconda3\\lib\\site-packages\\sklearn\\linear_model\\_coordinate_descent.py:530: ConvergenceWarning: Objective did not converge. You might want to increase the number of iterations. Duality gap: 7700037.158301852, tolerance: 4001682.1988745104\n",
      "  model = cd_fast.enet_coordinate_descent(\n",
      "C:\\Users\\marli\\anaconda3\\lib\\site-packages\\sklearn\\linear_model\\_coordinate_descent.py:530: ConvergenceWarning: Objective did not converge. You might want to increase the number of iterations. Duality gap: 37602217.84372945, tolerance: 4161553.810728\n",
      "  model = cd_fast.enet_coordinate_descent(\n",
      "C:\\Users\\marli\\anaconda3\\lib\\site-packages\\sklearn\\linear_model\\_coordinate_descent.py:530: ConvergenceWarning: Objective did not converge. You might want to increase the number of iterations. Duality gap: 34844114.58143097, tolerance: 3986064.507592\n",
      "  model = cd_fast.enet_coordinate_descent(\n",
      "C:\\Users\\marli\\anaconda3\\lib\\site-packages\\sklearn\\linear_model\\_coordinate_descent.py:530: ConvergenceWarning: Objective did not converge. You might want to increase the number of iterations. Duality gap: 46208130.463562176, tolerance: 4489557.82605\n",
      "  model = cd_fast.enet_coordinate_descent(\n",
      "C:\\Users\\marli\\anaconda3\\lib\\site-packages\\sklearn\\linear_model\\_coordinate_descent.py:530: ConvergenceWarning: Objective did not converge. You might want to increase the number of iterations. Duality gap: 49979199.59714687, tolerance: 4822638.278329412\n",
      "  model = cd_fast.enet_coordinate_descent(\n",
      "C:\\Users\\marli\\anaconda3\\lib\\site-packages\\sklearn\\linear_model\\_coordinate_descent.py:530: ConvergenceWarning: Objective did not converge. You might want to increase the number of iterations. Duality gap: 8309433.766382511, tolerance: 4001682.1988745104\n",
      "  model = cd_fast.enet_coordinate_descent(\n",
      "C:\\Users\\marli\\anaconda3\\lib\\site-packages\\sklearn\\linear_model\\_coordinate_descent.py:530: ConvergenceWarning: Objective did not converge. You might want to increase the number of iterations. Duality gap: 38263662.51792775, tolerance: 4161553.810728\n",
      "  model = cd_fast.enet_coordinate_descent(\n",
      "C:\\Users\\marli\\anaconda3\\lib\\site-packages\\sklearn\\linear_model\\_coordinate_descent.py:530: ConvergenceWarning: Objective did not converge. You might want to increase the number of iterations. Duality gap: 35441328.235356465, tolerance: 3986064.507592\n",
      "  model = cd_fast.enet_coordinate_descent(\n",
      "C:\\Users\\marli\\anaconda3\\lib\\site-packages\\sklearn\\linear_model\\_coordinate_descent.py:530: ConvergenceWarning: Objective did not converge. You might want to increase the number of iterations. Duality gap: 46724787.83766305, tolerance: 4489557.82605\n",
      "  model = cd_fast.enet_coordinate_descent(\n",
      "C:\\Users\\marli\\anaconda3\\lib\\site-packages\\sklearn\\linear_model\\_coordinate_descent.py:530: ConvergenceWarning: Objective did not converge. You might want to increase the number of iterations. Duality gap: 50633018.51038413, tolerance: 4822638.278329412\n",
      "  model = cd_fast.enet_coordinate_descent(\n",
      "C:\\Users\\marli\\anaconda3\\lib\\site-packages\\sklearn\\linear_model\\_coordinate_descent.py:530: ConvergenceWarning: Objective did not converge. You might want to increase the number of iterations. Duality gap: 8912460.891569868, tolerance: 4001682.1988745104\n",
      "  model = cd_fast.enet_coordinate_descent(\n",
      "C:\\Users\\marli\\anaconda3\\lib\\site-packages\\sklearn\\linear_model\\_coordinate_descent.py:530: ConvergenceWarning: Objective did not converge. You might want to increase the number of iterations. Duality gap: 38934415.186919056, tolerance: 4161553.810728\n",
      "  model = cd_fast.enet_coordinate_descent(\n",
      "C:\\Users\\marli\\anaconda3\\lib\\site-packages\\sklearn\\linear_model\\_coordinate_descent.py:530: ConvergenceWarning: Objective did not converge. You might want to increase the number of iterations. Duality gap: 36027919.91392742, tolerance: 3986064.507592\n",
      "  model = cd_fast.enet_coordinate_descent(\n",
      "C:\\Users\\marli\\anaconda3\\lib\\site-packages\\sklearn\\linear_model\\_coordinate_descent.py:530: ConvergenceWarning: Objective did not converge. You might want to increase the number of iterations. Duality gap: 47236004.93061386, tolerance: 4489557.82605\n",
      "  model = cd_fast.enet_coordinate_descent(\n",
      "C:\\Users\\marli\\anaconda3\\lib\\site-packages\\sklearn\\linear_model\\_coordinate_descent.py:530: ConvergenceWarning: Objective did not converge. You might want to increase the number of iterations. Duality gap: 51289683.34099344, tolerance: 4822638.278329412\n",
      "  model = cd_fast.enet_coordinate_descent(\n",
      "C:\\Users\\marli\\anaconda3\\lib\\site-packages\\sklearn\\linear_model\\_coordinate_descent.py:530: ConvergenceWarning: Objective did not converge. You might want to increase the number of iterations. Duality gap: 9517347.328156294, tolerance: 4001682.1988745104\n",
      "  model = cd_fast.enet_coordinate_descent(\n",
      "C:\\Users\\marli\\anaconda3\\lib\\site-packages\\sklearn\\linear_model\\_coordinate_descent.py:530: ConvergenceWarning: Objective did not converge. You might want to increase the number of iterations. Duality gap: 39588534.45973485, tolerance: 4161553.810728\n",
      "  model = cd_fast.enet_coordinate_descent(\n",
      "C:\\Users\\marli\\anaconda3\\lib\\site-packages\\sklearn\\linear_model\\_coordinate_descent.py:530: ConvergenceWarning: Objective did not converge. You might want to increase the number of iterations. Duality gap: 36608409.01151728, tolerance: 3986064.507592\n",
      "  model = cd_fast.enet_coordinate_descent(\n",
      "C:\\Users\\marli\\anaconda3\\lib\\site-packages\\sklearn\\linear_model\\_coordinate_descent.py:530: ConvergenceWarning: Objective did not converge. You might want to increase the number of iterations. Duality gap: 47741133.19563751, tolerance: 4489557.82605\n",
      "  model = cd_fast.enet_coordinate_descent(\n",
      "C:\\Users\\marli\\anaconda3\\lib\\site-packages\\sklearn\\linear_model\\_coordinate_descent.py:530: ConvergenceWarning: Objective did not converge. You might want to increase the number of iterations. Duality gap: 51936097.266158506, tolerance: 4822638.278329412\n",
      "  model = cd_fast.enet_coordinate_descent(\n"
     ]
    },
    {
     "name": "stderr",
     "output_type": "stream",
     "text": [
      "C:\\Users\\marli\\anaconda3\\lib\\site-packages\\sklearn\\linear_model\\_coordinate_descent.py:530: ConvergenceWarning: Objective did not converge. You might want to increase the number of iterations. Duality gap: 10121203.530438399, tolerance: 4001682.1988745104\n",
      "  model = cd_fast.enet_coordinate_descent(\n",
      "C:\\Users\\marli\\anaconda3\\lib\\site-packages\\sklearn\\linear_model\\_coordinate_descent.py:530: ConvergenceWarning: Objective did not converge. You might want to increase the number of iterations. Duality gap: 40238246.716493756, tolerance: 4161553.810728\n",
      "  model = cd_fast.enet_coordinate_descent(\n",
      "C:\\Users\\marli\\anaconda3\\lib\\site-packages\\sklearn\\linear_model\\_coordinate_descent.py:530: ConvergenceWarning: Objective did not converge. You might want to increase the number of iterations. Duality gap: 37200796.43799232, tolerance: 3986064.507592\n",
      "  model = cd_fast.enet_coordinate_descent(\n",
      "C:\\Users\\marli\\anaconda3\\lib\\site-packages\\sklearn\\linear_model\\_coordinate_descent.py:530: ConvergenceWarning: Objective did not converge. You might want to increase the number of iterations. Duality gap: 48239785.6611206, tolerance: 4489557.82605\n",
      "  model = cd_fast.enet_coordinate_descent(\n",
      "C:\\Users\\marli\\anaconda3\\lib\\site-packages\\sklearn\\linear_model\\_coordinate_descent.py:530: ConvergenceWarning: Objective did not converge. You might want to increase the number of iterations. Duality gap: 52567306.511349924, tolerance: 4822638.278329412\n",
      "  model = cd_fast.enet_coordinate_descent(\n",
      "C:\\Users\\marli\\anaconda3\\lib\\site-packages\\sklearn\\linear_model\\_coordinate_descent.py:530: ConvergenceWarning: Objective did not converge. You might want to increase the number of iterations. Duality gap: 10736686.146100402, tolerance: 4001682.1988745104\n",
      "  model = cd_fast.enet_coordinate_descent(\n",
      "C:\\Users\\marli\\anaconda3\\lib\\site-packages\\sklearn\\linear_model\\_coordinate_descent.py:530: ConvergenceWarning: Objective did not converge. You might want to increase the number of iterations. Duality gap: 40886098.20530362, tolerance: 4161553.810728\n",
      "  model = cd_fast.enet_coordinate_descent(\n",
      "C:\\Users\\marli\\anaconda3\\lib\\site-packages\\sklearn\\linear_model\\_coordinate_descent.py:530: ConvergenceWarning: Objective did not converge. You might want to increase the number of iterations. Duality gap: 37820427.41997025, tolerance: 3986064.507592\n",
      "  model = cd_fast.enet_coordinate_descent(\n",
      "C:\\Users\\marli\\anaconda3\\lib\\site-packages\\sklearn\\linear_model\\_coordinate_descent.py:530: ConvergenceWarning: Objective did not converge. You might want to increase the number of iterations. Duality gap: 48732145.56225707, tolerance: 4489557.82605\n",
      "  model = cd_fast.enet_coordinate_descent(\n",
      "C:\\Users\\marli\\anaconda3\\lib\\site-packages\\sklearn\\linear_model\\_coordinate_descent.py:530: ConvergenceWarning: Objective did not converge. You might want to increase the number of iterations. Duality gap: 53195328.56313498, tolerance: 4822638.278329412\n",
      "  model = cd_fast.enet_coordinate_descent(\n",
      "C:\\Users\\marli\\anaconda3\\lib\\site-packages\\sklearn\\linear_model\\_coordinate_descent.py:530: ConvergenceWarning: Objective did not converge. You might want to increase the number of iterations. Duality gap: 11381646.704691296, tolerance: 4001682.1988745104\n",
      "  model = cd_fast.enet_coordinate_descent(\n",
      "C:\\Users\\marli\\anaconda3\\lib\\site-packages\\sklearn\\linear_model\\_coordinate_descent.py:530: ConvergenceWarning: Objective did not converge. You might want to increase the number of iterations. Duality gap: 41545175.75621144, tolerance: 4161553.810728\n",
      "  model = cd_fast.enet_coordinate_descent(\n",
      "C:\\Users\\marli\\anaconda3\\lib\\site-packages\\sklearn\\linear_model\\_coordinate_descent.py:530: ConvergenceWarning: Objective did not converge. You might want to increase the number of iterations. Duality gap: 38424138.78711188, tolerance: 3986064.507592\n",
      "  model = cd_fast.enet_coordinate_descent(\n",
      "C:\\Users\\marli\\anaconda3\\lib\\site-packages\\sklearn\\linear_model\\_coordinate_descent.py:530: ConvergenceWarning: Objective did not converge. You might want to increase the number of iterations. Duality gap: 49284779.13337909, tolerance: 4489557.82605\n",
      "  model = cd_fast.enet_coordinate_descent(\n",
      "C:\\Users\\marli\\anaconda3\\lib\\site-packages\\sklearn\\linear_model\\_coordinate_descent.py:530: ConvergenceWarning: Objective did not converge. You might want to increase the number of iterations. Duality gap: 53819506.086739354, tolerance: 4822638.278329412\n",
      "  model = cd_fast.enet_coordinate_descent(\n",
      "C:\\Users\\marli\\anaconda3\\lib\\site-packages\\sklearn\\linear_model\\_coordinate_descent.py:530: ConvergenceWarning: Objective did not converge. You might want to increase the number of iterations. Duality gap: 12009964.956309035, tolerance: 4001682.1988745104\n",
      "  model = cd_fast.enet_coordinate_descent(\n",
      "C:\\Users\\marli\\anaconda3\\lib\\site-packages\\sklearn\\linear_model\\_coordinate_descent.py:530: ConvergenceWarning: Objective did not converge. You might want to increase the number of iterations. Duality gap: 42197818.3938886, tolerance: 4161553.810728\n",
      "  model = cd_fast.enet_coordinate_descent(\n",
      "C:\\Users\\marli\\anaconda3\\lib\\site-packages\\sklearn\\linear_model\\_coordinate_descent.py:530: ConvergenceWarning: Objective did not converge. You might want to increase the number of iterations. Duality gap: 39017728.046005644, tolerance: 3986064.507592\n",
      "  model = cd_fast.enet_coordinate_descent(\n",
      "C:\\Users\\marli\\anaconda3\\lib\\site-packages\\sklearn\\linear_model\\_coordinate_descent.py:530: ConvergenceWarning: Objective did not converge. You might want to increase the number of iterations. Duality gap: 49835324.868242666, tolerance: 4489557.82605\n",
      "  model = cd_fast.enet_coordinate_descent(\n",
      "C:\\Users\\marli\\anaconda3\\lib\\site-packages\\sklearn\\linear_model\\_coordinate_descent.py:530: ConvergenceWarning: Objective did not converge. You might want to increase the number of iterations. Duality gap: 54439789.26378996, tolerance: 4822638.278329412\n",
      "  model = cd_fast.enet_coordinate_descent(\n",
      "C:\\Users\\marli\\anaconda3\\lib\\site-packages\\sklearn\\linear_model\\_coordinate_descent.py:530: ConvergenceWarning: Objective did not converge. You might want to increase the number of iterations. Duality gap: 12627614.221410286, tolerance: 4001682.1988745104\n",
      "  model = cd_fast.enet_coordinate_descent(\n",
      "C:\\Users\\marli\\anaconda3\\lib\\site-packages\\sklearn\\linear_model\\_coordinate_descent.py:530: ConvergenceWarning: Objective did not converge. You might want to increase the number of iterations. Duality gap: 42844516.66748679, tolerance: 4161553.810728\n",
      "  model = cd_fast.enet_coordinate_descent(\n",
      "C:\\Users\\marli\\anaconda3\\lib\\site-packages\\sklearn\\linear_model\\_coordinate_descent.py:530: ConvergenceWarning: Objective did not converge. You might want to increase the number of iterations. Duality gap: 39603036.48456333, tolerance: 3986064.507592\n",
      "  model = cd_fast.enet_coordinate_descent(\n",
      "C:\\Users\\marli\\anaconda3\\lib\\site-packages\\sklearn\\linear_model\\_coordinate_descent.py:530: ConvergenceWarning: Objective did not converge. You might want to increase the number of iterations. Duality gap: 50373530.49985219, tolerance: 4489557.82605\n",
      "  model = cd_fast.enet_coordinate_descent(\n",
      "C:\\Users\\marli\\anaconda3\\lib\\site-packages\\sklearn\\linear_model\\_coordinate_descent.py:530: ConvergenceWarning: Objective did not converge. You might want to increase the number of iterations. Duality gap: 55056150.77960824, tolerance: 4822638.278329412\n",
      "  model = cd_fast.enet_coordinate_descent(\n",
      "C:\\Users\\marli\\anaconda3\\lib\\site-packages\\sklearn\\linear_model\\_coordinate_descent.py:530: ConvergenceWarning: Objective did not converge. You might want to increase the number of iterations. Duality gap: 13236761.012642995, tolerance: 4001682.1988745104\n",
      "  model = cd_fast.enet_coordinate_descent(\n",
      "C:\\Users\\marli\\anaconda3\\lib\\site-packages\\sklearn\\linear_model\\_coordinate_descent.py:530: ConvergenceWarning: Objective did not converge. You might want to increase the number of iterations. Duality gap: 43485709.87468608, tolerance: 4161553.810728\n",
      "  model = cd_fast.enet_coordinate_descent(\n",
      "C:\\Users\\marli\\anaconda3\\lib\\site-packages\\sklearn\\linear_model\\_coordinate_descent.py:530: ConvergenceWarning: Objective did not converge. You might want to increase the number of iterations. Duality gap: 40181514.644497864, tolerance: 3986064.507592\n",
      "  model = cd_fast.enet_coordinate_descent(\n",
      "C:\\Users\\marli\\anaconda3\\lib\\site-packages\\sklearn\\linear_model\\_coordinate_descent.py:530: ConvergenceWarning: Objective did not converge. You might want to increase the number of iterations. Duality gap: 50903312.61998993, tolerance: 4489557.82605\n",
      "  model = cd_fast.enet_coordinate_descent(\n"
     ]
    },
    {
     "name": "stderr",
     "output_type": "stream",
     "text": [
      "C:\\Users\\marli\\anaconda3\\lib\\site-packages\\sklearn\\linear_model\\_coordinate_descent.py:530: ConvergenceWarning: Objective did not converge. You might want to increase the number of iterations. Duality gap: 55667653.08586907, tolerance: 4822638.278329412\n",
      "  model = cd_fast.enet_coordinate_descent(\n",
      "C:\\Users\\marli\\anaconda3\\lib\\site-packages\\sklearn\\linear_model\\_coordinate_descent.py:530: ConvergenceWarning: Objective did not converge. You might want to increase the number of iterations. Duality gap: 13838864.905119438, tolerance: 4001682.1988745104\n",
      "  model = cd_fast.enet_coordinate_descent(\n",
      "C:\\Users\\marli\\anaconda3\\lib\\site-packages\\sklearn\\linear_model\\_coordinate_descent.py:530: ConvergenceWarning: Objective did not converge. You might want to increase the number of iterations. Duality gap: 44121894.106998235, tolerance: 4161553.810728\n",
      "  model = cd_fast.enet_coordinate_descent(\n",
      "C:\\Users\\marli\\anaconda3\\lib\\site-packages\\sklearn\\linear_model\\_coordinate_descent.py:530: ConvergenceWarning: Objective did not converge. You might want to increase the number of iterations. Duality gap: 40753484.874228425, tolerance: 3986064.507592\n",
      "  model = cd_fast.enet_coordinate_descent(\n",
      "C:\\Users\\marli\\anaconda3\\lib\\site-packages\\sklearn\\linear_model\\_coordinate_descent.py:530: ConvergenceWarning: Objective did not converge. You might want to increase the number of iterations. Duality gap: 51431391.11659059, tolerance: 4489557.82605\n",
      "  model = cd_fast.enet_coordinate_descent(\n",
      "C:\\Users\\marli\\anaconda3\\lib\\site-packages\\sklearn\\linear_model\\_coordinate_descent.py:530: ConvergenceWarning: Objective did not converge. You might want to increase the number of iterations. Duality gap: 56275470.17477974, tolerance: 4822638.278329412\n",
      "  model = cd_fast.enet_coordinate_descent(\n",
      "C:\\Users\\marli\\anaconda3\\lib\\site-packages\\sklearn\\linear_model\\_coordinate_descent.py:530: ConvergenceWarning: Objective did not converge. You might want to increase the number of iterations. Duality gap: 14434619.213301666, tolerance: 4001682.1988745104\n",
      "  model = cd_fast.enet_coordinate_descent(\n",
      "C:\\Users\\marli\\anaconda3\\lib\\site-packages\\sklearn\\linear_model\\_coordinate_descent.py:530: ConvergenceWarning: Objective did not converge. You might want to increase the number of iterations. Duality gap: 44753622.78937797, tolerance: 4161553.810728\n",
      "  model = cd_fast.enet_coordinate_descent(\n",
      "C:\\Users\\marli\\anaconda3\\lib\\site-packages\\sklearn\\linear_model\\_coordinate_descent.py:530: ConvergenceWarning: Objective did not converge. You might want to increase the number of iterations. Duality gap: 41319399.04359516, tolerance: 3986064.507592\n",
      "  model = cd_fast.enet_coordinate_descent(\n",
      "C:\\Users\\marli\\anaconda3\\lib\\site-packages\\sklearn\\linear_model\\_coordinate_descent.py:530: ConvergenceWarning: Objective did not converge. You might want to increase the number of iterations. Duality gap: 51940602.37899464, tolerance: 4489557.82605\n",
      "  model = cd_fast.enet_coordinate_descent(\n",
      "C:\\Users\\marli\\anaconda3\\lib\\site-packages\\sklearn\\linear_model\\_coordinate_descent.py:530: ConvergenceWarning: Objective did not converge. You might want to increase the number of iterations. Duality gap: 56910093.1940983, tolerance: 4822638.278329412\n",
      "  model = cd_fast.enet_coordinate_descent(\n",
      "C:\\Users\\marli\\anaconda3\\lib\\site-packages\\sklearn\\linear_model\\_coordinate_descent.py:530: ConvergenceWarning: Objective did not converge. You might want to increase the number of iterations. Duality gap: 15024398.223911315, tolerance: 4001682.1988745104\n",
      "  model = cd_fast.enet_coordinate_descent(\n",
      "C:\\Users\\marli\\anaconda3\\lib\\site-packages\\sklearn\\linear_model\\_coordinate_descent.py:530: ConvergenceWarning: Objective did not converge. You might want to increase the number of iterations. Duality gap: 45380611.71865946, tolerance: 4161553.810728\n",
      "  model = cd_fast.enet_coordinate_descent(\n",
      "C:\\Users\\marli\\anaconda3\\lib\\site-packages\\sklearn\\linear_model\\_coordinate_descent.py:530: ConvergenceWarning: Objective did not converge. You might want to increase the number of iterations. Duality gap: 41879412.66317715, tolerance: 3986064.507592\n",
      "  model = cd_fast.enet_coordinate_descent(\n",
      "C:\\Users\\marli\\anaconda3\\lib\\site-packages\\sklearn\\linear_model\\_coordinate_descent.py:530: ConvergenceWarning: Objective did not converge. You might want to increase the number of iterations. Duality gap: 52463389.27900413, tolerance: 4489557.82605\n",
      "  model = cd_fast.enet_coordinate_descent(\n",
      "C:\\Users\\marli\\anaconda3\\lib\\site-packages\\sklearn\\linear_model\\_coordinate_descent.py:530: ConvergenceWarning: Objective did not converge. You might want to increase the number of iterations. Duality gap: 57601960.002152205, tolerance: 4822638.278329412\n",
      "  model = cd_fast.enet_coordinate_descent(\n",
      "C:\\Users\\marli\\anaconda3\\lib\\site-packages\\sklearn\\linear_model\\_coordinate_descent.py:530: ConvergenceWarning: Objective did not converge. You might want to increase the number of iterations. Duality gap: 15610774.689596083, tolerance: 4001682.1988745104\n",
      "  model = cd_fast.enet_coordinate_descent(\n",
      "C:\\Users\\marli\\anaconda3\\lib\\site-packages\\sklearn\\linear_model\\_coordinate_descent.py:530: ConvergenceWarning: Objective did not converge. You might want to increase the number of iterations. Duality gap: 46006627.81483916, tolerance: 4161553.810728\n",
      "  model = cd_fast.enet_coordinate_descent(\n",
      "C:\\Users\\marli\\anaconda3\\lib\\site-packages\\sklearn\\linear_model\\_coordinate_descent.py:530: ConvergenceWarning: Objective did not converge. You might want to increase the number of iterations. Duality gap: 42433926.96764161, tolerance: 3986064.507592\n",
      "  model = cd_fast.enet_coordinate_descent(\n",
      "C:\\Users\\marli\\anaconda3\\lib\\site-packages\\sklearn\\linear_model\\_coordinate_descent.py:530: ConvergenceWarning: Objective did not converge. You might want to increase the number of iterations. Duality gap: 52980003.945314124, tolerance: 4489557.82605\n",
      "  model = cd_fast.enet_coordinate_descent(\n",
      "C:\\Users\\marli\\anaconda3\\lib\\site-packages\\sklearn\\linear_model\\_coordinate_descent.py:530: ConvergenceWarning: Objective did not converge. You might want to increase the number of iterations. Duality gap: 58280710.317536324, tolerance: 4822638.278329412\n",
      "  model = cd_fast.enet_coordinate_descent(\n",
      "C:\\Users\\marli\\anaconda3\\lib\\site-packages\\sklearn\\linear_model\\_coordinate_descent.py:530: ConvergenceWarning: Objective did not converge. You might want to increase the number of iterations. Duality gap: 16200507.633015852, tolerance: 4001682.1988745104\n",
      "  model = cd_fast.enet_coordinate_descent(\n",
      "C:\\Users\\marli\\anaconda3\\lib\\site-packages\\sklearn\\linear_model\\_coordinate_descent.py:530: ConvergenceWarning: Objective did not converge. You might want to increase the number of iterations. Duality gap: 46707216.290864706, tolerance: 4161553.810728\n",
      "  model = cd_fast.enet_coordinate_descent(\n",
      "C:\\Users\\marli\\anaconda3\\lib\\site-packages\\sklearn\\linear_model\\_coordinate_descent.py:530: ConvergenceWarning: Objective did not converge. You might want to increase the number of iterations. Duality gap: 42982752.98913949, tolerance: 3986064.507592\n",
      "  model = cd_fast.enet_coordinate_descent(\n",
      "C:\\Users\\marli\\anaconda3\\lib\\site-packages\\sklearn\\linear_model\\_coordinate_descent.py:530: ConvergenceWarning: Objective did not converge. You might want to increase the number of iterations. Duality gap: 53490832.88635224, tolerance: 4489557.82605\n",
      "  model = cd_fast.enet_coordinate_descent(\n",
      "C:\\Users\\marli\\anaconda3\\lib\\site-packages\\sklearn\\linear_model\\_coordinate_descent.py:530: ConvergenceWarning: Objective did not converge. You might want to increase the number of iterations. Duality gap: 58949438.52560128, tolerance: 4822638.278329412\n",
      "  model = cd_fast.enet_coordinate_descent(\n",
      "C:\\Users\\marli\\anaconda3\\lib\\site-packages\\sklearn\\linear_model\\_coordinate_descent.py:530: ConvergenceWarning: Objective did not converge. You might want to increase the number of iterations. Duality gap: 16787581.135347106, tolerance: 4001682.1988745104\n",
      "  model = cd_fast.enet_coordinate_descent(\n",
      "C:\\Users\\marli\\anaconda3\\lib\\site-packages\\sklearn\\linear_model\\_coordinate_descent.py:530: ConvergenceWarning: Objective did not converge. You might want to increase the number of iterations. Duality gap: 47395354.63963072, tolerance: 4161553.810728\n",
      "  model = cd_fast.enet_coordinate_descent(\n",
      "C:\\Users\\marli\\anaconda3\\lib\\site-packages\\sklearn\\linear_model\\_coordinate_descent.py:530: ConvergenceWarning: Objective did not converge. You might want to increase the number of iterations. Duality gap: 43526621.03983621, tolerance: 3986064.507592\n",
      "  model = cd_fast.enet_coordinate_descent(\n"
     ]
    },
    {
     "name": "stderr",
     "output_type": "stream",
     "text": [
      "C:\\Users\\marli\\anaconda3\\lib\\site-packages\\sklearn\\linear_model\\_coordinate_descent.py:530: ConvergenceWarning: Objective did not converge. You might want to increase the number of iterations. Duality gap: 54003939.14662293, tolerance: 4489557.82605\n",
      "  model = cd_fast.enet_coordinate_descent(\n",
      "C:\\Users\\marli\\anaconda3\\lib\\site-packages\\sklearn\\linear_model\\_coordinate_descent.py:530: ConvergenceWarning: Objective did not converge. You might want to increase the number of iterations. Duality gap: 59610089.58883387, tolerance: 4822638.278329412\n",
      "  model = cd_fast.enet_coordinate_descent(\n",
      "C:\\Users\\marli\\anaconda3\\lib\\site-packages\\sklearn\\linear_model\\_coordinate_descent.py:530: ConvergenceWarning: Objective did not converge. You might want to increase the number of iterations. Duality gap: 17373834.269548435, tolerance: 4001682.1988745104\n",
      "  model = cd_fast.enet_coordinate_descent(\n",
      "C:\\Users\\marli\\anaconda3\\lib\\site-packages\\sklearn\\linear_model\\_coordinate_descent.py:530: ConvergenceWarning: Objective did not converge. You might want to increase the number of iterations. Duality gap: 48088310.22781736, tolerance: 4161553.810728\n",
      "  model = cd_fast.enet_coordinate_descent(\n",
      "C:\\Users\\marli\\anaconda3\\lib\\site-packages\\sklearn\\linear_model\\_coordinate_descent.py:530: ConvergenceWarning: Objective did not converge. You might want to increase the number of iterations. Duality gap: 44074937.599855706, tolerance: 3986064.507592\n",
      "  model = cd_fast.enet_coordinate_descent(\n",
      "C:\\Users\\marli\\anaconda3\\lib\\site-packages\\sklearn\\linear_model\\_coordinate_descent.py:530: ConvergenceWarning: Objective did not converge. You might want to increase the number of iterations. Duality gap: 54570926.78034874, tolerance: 4489557.82605\n",
      "  model = cd_fast.enet_coordinate_descent(\n",
      "C:\\Users\\marli\\anaconda3\\lib\\site-packages\\sklearn\\linear_model\\_coordinate_descent.py:530: ConvergenceWarning: Objective did not converge. You might want to increase the number of iterations. Duality gap: 60263728.62694717, tolerance: 4822638.278329412\n",
      "  model = cd_fast.enet_coordinate_descent(\n",
      "C:\\Users\\marli\\anaconda3\\lib\\site-packages\\sklearn\\linear_model\\_coordinate_descent.py:530: ConvergenceWarning: Objective did not converge. You might want to increase the number of iterations. Duality gap: 17976357.52529161, tolerance: 4001682.1988745104\n",
      "  model = cd_fast.enet_coordinate_descent(\n",
      "C:\\Users\\marli\\anaconda3\\lib\\site-packages\\sklearn\\linear_model\\_coordinate_descent.py:530: ConvergenceWarning: Objective did not converge. You might want to increase the number of iterations. Duality gap: 48772368.748308584, tolerance: 4161553.810728\n",
      "  model = cd_fast.enet_coordinate_descent(\n",
      "C:\\Users\\marli\\anaconda3\\lib\\site-packages\\sklearn\\linear_model\\_coordinate_descent.py:530: ConvergenceWarning: Objective did not converge. You might want to increase the number of iterations. Duality gap: 44616435.32194584, tolerance: 3986064.507592\n",
      "  model = cd_fast.enet_coordinate_descent(\n",
      "C:\\Users\\marli\\anaconda3\\lib\\site-packages\\sklearn\\linear_model\\_coordinate_descent.py:530: ConvergenceWarning: Objective did not converge. You might want to increase the number of iterations. Duality gap: 55138213.86241542, tolerance: 4489557.82605\n",
      "  model = cd_fast.enet_coordinate_descent(\n",
      "C:\\Users\\marli\\anaconda3\\lib\\site-packages\\sklearn\\linear_model\\_coordinate_descent.py:530: ConvergenceWarning: Objective did not converge. You might want to increase the number of iterations. Duality gap: 60911262.82904839, tolerance: 4822638.278329412\n",
      "  model = cd_fast.enet_coordinate_descent(\n",
      "C:\\Users\\marli\\anaconda3\\lib\\site-packages\\sklearn\\linear_model\\_coordinate_descent.py:530: ConvergenceWarning: Objective did not converge. You might want to increase the number of iterations. Duality gap: 18594237.854628757, tolerance: 4001682.1988745104\n",
      "  model = cd_fast.enet_coordinate_descent(\n",
      "C:\\Users\\marli\\anaconda3\\lib\\site-packages\\sklearn\\linear_model\\_coordinate_descent.py:530: ConvergenceWarning: Objective did not converge. You might want to increase the number of iterations. Duality gap: 49447142.05003661, tolerance: 4161553.810728\n",
      "  model = cd_fast.enet_coordinate_descent(\n",
      "C:\\Users\\marli\\anaconda3\\lib\\site-packages\\sklearn\\linear_model\\_coordinate_descent.py:530: ConvergenceWarning: Objective did not converge. You might want to increase the number of iterations. Duality gap: 45152368.33609468, tolerance: 3986064.507592\n",
      "  model = cd_fast.enet_coordinate_descent(\n",
      "C:\\Users\\marli\\anaconda3\\lib\\site-packages\\sklearn\\linear_model\\_coordinate_descent.py:530: ConvergenceWarning: Objective did not converge. You might want to increase the number of iterations. Duality gap: 55698780.63413998, tolerance: 4489557.82605\n",
      "  model = cd_fast.enet_coordinate_descent(\n",
      "C:\\Users\\marli\\anaconda3\\lib\\site-packages\\sklearn\\linear_model\\_coordinate_descent.py:530: ConvergenceWarning: Objective did not converge. You might want to increase the number of iterations. Duality gap: 61552990.03934689, tolerance: 4822638.278329412\n",
      "  model = cd_fast.enet_coordinate_descent(\n",
      "C:\\Users\\marli\\anaconda3\\lib\\site-packages\\sklearn\\linear_model\\_coordinate_descent.py:530: ConvergenceWarning: Objective did not converge. You might want to increase the number of iterations. Duality gap: 19205177.13181725, tolerance: 4001682.1988745104\n",
      "  model = cd_fast.enet_coordinate_descent(\n",
      "C:\\Users\\marli\\anaconda3\\lib\\site-packages\\sklearn\\linear_model\\_coordinate_descent.py:530: ConvergenceWarning: Objective did not converge. You might want to increase the number of iterations. Duality gap: 50114804.74661271, tolerance: 4161553.810728\n",
      "  model = cd_fast.enet_coordinate_descent(\n",
      "C:\\Users\\marli\\anaconda3\\lib\\site-packages\\sklearn\\linear_model\\_coordinate_descent.py:530: ConvergenceWarning: Objective did not converge. You might want to increase the number of iterations. Duality gap: 45682752.1494976, tolerance: 3986064.507592\n",
      "  model = cd_fast.enet_coordinate_descent(\n",
      "C:\\Users\\marli\\anaconda3\\lib\\site-packages\\sklearn\\linear_model\\_coordinate_descent.py:530: ConvergenceWarning: Objective did not converge. You might want to increase the number of iterations. Duality gap: 56254016.07359532, tolerance: 4489557.82605\n",
      "  model = cd_fast.enet_coordinate_descent(\n",
      "C:\\Users\\marli\\anaconda3\\lib\\site-packages\\sklearn\\linear_model\\_coordinate_descent.py:530: ConvergenceWarning: Objective did not converge. You might want to increase the number of iterations. Duality gap: 62190148.98879668, tolerance: 4822638.278329412\n",
      "  model = cd_fast.enet_coordinate_descent(\n",
      "C:\\Users\\marli\\anaconda3\\lib\\site-packages\\sklearn\\linear_model\\_coordinate_descent.py:530: ConvergenceWarning: Objective did not converge. You might want to increase the number of iterations. Duality gap: 19835217.89051233, tolerance: 4001682.1988745104\n",
      "  model = cd_fast.enet_coordinate_descent(\n",
      "C:\\Users\\marli\\anaconda3\\lib\\site-packages\\sklearn\\linear_model\\_coordinate_descent.py:530: ConvergenceWarning: Objective did not converge. You might want to increase the number of iterations. Duality gap: 50776207.98251492, tolerance: 4161553.810728\n",
      "  model = cd_fast.enet_coordinate_descent(\n",
      "C:\\Users\\marli\\anaconda3\\lib\\site-packages\\sklearn\\linear_model\\_coordinate_descent.py:530: ConvergenceWarning: Objective did not converge. You might want to increase the number of iterations. Duality gap: 46206810.83997607, tolerance: 3986064.507592\n",
      "  model = cd_fast.enet_coordinate_descent(\n",
      "C:\\Users\\marli\\anaconda3\\lib\\site-packages\\sklearn\\linear_model\\_coordinate_descent.py:530: ConvergenceWarning: Objective did not converge. You might want to increase the number of iterations. Duality gap: 56804624.59399133, tolerance: 4489557.82605\n",
      "  model = cd_fast.enet_coordinate_descent(\n",
      "C:\\Users\\marli\\anaconda3\\lib\\site-packages\\sklearn\\linear_model\\_coordinate_descent.py:530: ConvergenceWarning: Objective did not converge. You might want to increase the number of iterations. Duality gap: 62816625.608033925, tolerance: 4822638.278329412\n",
      "  model = cd_fast.enet_coordinate_descent(\n",
      "C:\\Users\\marli\\anaconda3\\lib\\site-packages\\sklearn\\linear_model\\_coordinate_descent.py:530: ConvergenceWarning: Objective did not converge. You might want to increase the number of iterations. Duality gap: 20461067.924801975, tolerance: 4001682.1988745104\n",
      "  model = cd_fast.enet_coordinate_descent(\n",
      "C:\\Users\\marli\\anaconda3\\lib\\site-packages\\sklearn\\linear_model\\_coordinate_descent.py:530: ConvergenceWarning: Objective did not converge. You might want to increase the number of iterations. Duality gap: 51431039.13509878, tolerance: 4161553.810728\n",
      "  model = cd_fast.enet_coordinate_descent(\n"
     ]
    },
    {
     "name": "stderr",
     "output_type": "stream",
     "text": [
      "C:\\Users\\marli\\anaconda3\\lib\\site-packages\\sklearn\\linear_model\\_coordinate_descent.py:530: ConvergenceWarning: Objective did not converge. You might want to increase the number of iterations. Duality gap: 46726188.60669529, tolerance: 3986064.507592\n",
      "  model = cd_fast.enet_coordinate_descent(\n",
      "C:\\Users\\marli\\anaconda3\\lib\\site-packages\\sklearn\\linear_model\\_coordinate_descent.py:530: ConvergenceWarning: Objective did not converge. You might want to increase the number of iterations. Duality gap: 57349759.99267952, tolerance: 4489557.82605\n",
      "  model = cd_fast.enet_coordinate_descent(\n",
      "C:\\Users\\marli\\anaconda3\\lib\\site-packages\\sklearn\\linear_model\\_coordinate_descent.py:530: ConvergenceWarning: Objective did not converge. You might want to increase the number of iterations. Duality gap: 63445177.48098935, tolerance: 4822638.278329412\n",
      "  model = cd_fast.enet_coordinate_descent(\n",
      "C:\\Users\\marli\\anaconda3\\lib\\site-packages\\sklearn\\linear_model\\_coordinate_descent.py:530: ConvergenceWarning: Objective did not converge. You might want to increase the number of iterations. Duality gap: 21082163.990026027, tolerance: 4001682.1988745104\n",
      "  model = cd_fast.enet_coordinate_descent(\n",
      "C:\\Users\\marli\\anaconda3\\lib\\site-packages\\sklearn\\linear_model\\_coordinate_descent.py:530: ConvergenceWarning: Objective did not converge. You might want to increase the number of iterations. Duality gap: 52080977.27561495, tolerance: 4161553.810728\n",
      "  model = cd_fast.enet_coordinate_descent(\n",
      "C:\\Users\\marli\\anaconda3\\lib\\site-packages\\sklearn\\linear_model\\_coordinate_descent.py:530: ConvergenceWarning: Objective did not converge. You might want to increase the number of iterations. Duality gap: 47248104.602929175, tolerance: 3986064.507592\n",
      "  model = cd_fast.enet_coordinate_descent(\n",
      "C:\\Users\\marli\\anaconda3\\lib\\site-packages\\sklearn\\linear_model\\_coordinate_descent.py:530: ConvergenceWarning: Objective did not converge. You might want to increase the number of iterations. Duality gap: 57891115.33986178, tolerance: 4489557.82605\n",
      "  model = cd_fast.enet_coordinate_descent(\n",
      "C:\\Users\\marli\\anaconda3\\lib\\site-packages\\sklearn\\linear_model\\_coordinate_descent.py:530: ConvergenceWarning: Objective did not converge. You might want to increase the number of iterations. Duality gap: 64096733.55285313, tolerance: 4822638.278329412\n",
      "  model = cd_fast.enet_coordinate_descent(\n",
      "C:\\Users\\marli\\anaconda3\\lib\\site-packages\\sklearn\\linear_model\\_coordinate_descent.py:530: ConvergenceWarning: Objective did not converge. You might want to increase the number of iterations. Duality gap: 21698326.597467, tolerance: 4001682.1988745104\n",
      "  model = cd_fast.enet_coordinate_descent(\n",
      "C:\\Users\\marli\\anaconda3\\lib\\site-packages\\sklearn\\linear_model\\_coordinate_descent.py:530: ConvergenceWarning: Objective did not converge. You might want to increase the number of iterations. Duality gap: 52725987.37544115, tolerance: 4161553.810728\n",
      "  model = cd_fast.enet_coordinate_descent(\n",
      "C:\\Users\\marli\\anaconda3\\lib\\site-packages\\sklearn\\linear_model\\_coordinate_descent.py:530: ConvergenceWarning: Objective did not converge. You might want to increase the number of iterations. Duality gap: 47767259.08732737, tolerance: 3986064.507592\n",
      "  model = cd_fast.enet_coordinate_descent(\n",
      "C:\\Users\\marli\\anaconda3\\lib\\site-packages\\sklearn\\linear_model\\_coordinate_descent.py:530: ConvergenceWarning: Objective did not converge. You might want to increase the number of iterations. Duality gap: 58428511.87107698, tolerance: 4489557.82605\n",
      "  model = cd_fast.enet_coordinate_descent(\n",
      "C:\\Users\\marli\\anaconda3\\lib\\site-packages\\sklearn\\linear_model\\_coordinate_descent.py:530: ConvergenceWarning: Objective did not converge. You might want to increase the number of iterations. Duality gap: 64738055.799179055, tolerance: 4822638.278329412\n",
      "  model = cd_fast.enet_coordinate_descent(\n",
      "C:\\Users\\marli\\anaconda3\\lib\\site-packages\\sklearn\\linear_model\\_coordinate_descent.py:530: ConvergenceWarning: Objective did not converge. You might want to increase the number of iterations. Duality gap: 22310758.079504922, tolerance: 4001682.1988745104\n",
      "  model = cd_fast.enet_coordinate_descent(\n",
      "C:\\Users\\marli\\anaconda3\\lib\\site-packages\\sklearn\\linear_model\\_coordinate_descent.py:530: ConvergenceWarning: Objective did not converge. You might want to increase the number of iterations. Duality gap: 53366880.82162466, tolerance: 4161553.810728\n",
      "  model = cd_fast.enet_coordinate_descent(\n",
      "C:\\Users\\marli\\anaconda3\\lib\\site-packages\\sklearn\\linear_model\\_coordinate_descent.py:530: ConvergenceWarning: Objective did not converge. You might want to increase the number of iterations. Duality gap: 48284869.80478583, tolerance: 3986064.507592\n",
      "  model = cd_fast.enet_coordinate_descent(\n",
      "C:\\Users\\marli\\anaconda3\\lib\\site-packages\\sklearn\\linear_model\\_coordinate_descent.py:530: ConvergenceWarning: Objective did not converge. You might want to increase the number of iterations. Duality gap: 58962321.97217654, tolerance: 4489557.82605\n",
      "  model = cd_fast.enet_coordinate_descent(\n",
      "C:\\Users\\marli\\anaconda3\\lib\\site-packages\\sklearn\\linear_model\\_coordinate_descent.py:530: ConvergenceWarning: Objective did not converge. You might want to increase the number of iterations. Duality gap: 65383035.71552873, tolerance: 4822638.278329412\n",
      "  model = cd_fast.enet_coordinate_descent(\n",
      "C:\\Users\\marli\\anaconda3\\lib\\site-packages\\sklearn\\linear_model\\_coordinate_descent.py:530: ConvergenceWarning: Objective did not converge. You might want to increase the number of iterations. Duality gap: 22919616.97261517, tolerance: 4001682.1988745104\n",
      "  model = cd_fast.enet_coordinate_descent(\n",
      "C:\\Users\\marli\\anaconda3\\lib\\site-packages\\sklearn\\linear_model\\_coordinate_descent.py:530: ConvergenceWarning: Objective did not converge. You might want to increase the number of iterations. Duality gap: 54003495.70235339, tolerance: 4161553.810728\n",
      "  model = cd_fast.enet_coordinate_descent(\n",
      "C:\\Users\\marli\\anaconda3\\lib\\site-packages\\sklearn\\linear_model\\_coordinate_descent.py:530: ConvergenceWarning: Objective did not converge. You might want to increase the number of iterations. Duality gap: 48797115.498490624, tolerance: 3986064.507592\n",
      "  model = cd_fast.enet_coordinate_descent(\n",
      "C:\\Users\\marli\\anaconda3\\lib\\site-packages\\sklearn\\linear_model\\_coordinate_descent.py:530: ConvergenceWarning: Objective did not converge. You might want to increase the number of iterations. Duality gap: 59492037.7907953, tolerance: 4489557.82605\n",
      "  model = cd_fast.enet_coordinate_descent(\n",
      "C:\\Users\\marli\\anaconda3\\lib\\site-packages\\sklearn\\linear_model\\_coordinate_descent.py:530: ConvergenceWarning: Objective did not converge. You might want to increase the number of iterations. Duality gap: 66054782.8926206, tolerance: 4822638.278329412\n",
      "  model = cd_fast.enet_coordinate_descent(\n",
      "C:\\Users\\marli\\anaconda3\\lib\\site-packages\\sklearn\\linear_model\\_coordinate_descent.py:530: ConvergenceWarning: Objective did not converge. You might want to increase the number of iterations. Duality gap: 23525032.327276573, tolerance: 4001682.1988745104\n",
      "  model = cd_fast.enet_coordinate_descent(\n",
      "C:\\Users\\marli\\anaconda3\\lib\\site-packages\\sklearn\\linear_model\\_coordinate_descent.py:530: ConvergenceWarning: Objective did not converge. You might want to increase the number of iterations. Duality gap: 54635788.62936729, tolerance: 4161553.810728\n",
      "  model = cd_fast.enet_coordinate_descent(\n",
      "C:\\Users\\marli\\anaconda3\\lib\\site-packages\\sklearn\\linear_model\\_coordinate_descent.py:530: ConvergenceWarning: Objective did not converge. You might want to increase the number of iterations. Duality gap: 49319843.93693219, tolerance: 3986064.507592\n",
      "  model = cd_fast.enet_coordinate_descent(\n",
      "C:\\Users\\marli\\anaconda3\\lib\\site-packages\\sklearn\\linear_model\\_coordinate_descent.py:530: ConvergenceWarning: Objective did not converge. You might want to increase the number of iterations. Duality gap: 60035679.821189955, tolerance: 4489557.82605\n",
      "  model = cd_fast.enet_coordinate_descent(\n",
      "C:\\Users\\marli\\anaconda3\\lib\\site-packages\\sklearn\\linear_model\\_coordinate_descent.py:530: ConvergenceWarning: Objective did not converge. You might want to increase the number of iterations. Duality gap: 66719129.469786726, tolerance: 4822638.278329412\n",
      "  model = cd_fast.enet_coordinate_descent(\n",
      "C:\\Users\\marli\\anaconda3\\lib\\site-packages\\sklearn\\linear_model\\_coordinate_descent.py:530: ConvergenceWarning: Objective did not converge. You might want to increase the number of iterations. Duality gap: 24127613.17119938, tolerance: 4001682.1988745104\n",
      "  model = cd_fast.enet_coordinate_descent(\n"
     ]
    },
    {
     "name": "stderr",
     "output_type": "stream",
     "text": [
      "C:\\Users\\marli\\anaconda3\\lib\\site-packages\\sklearn\\linear_model\\_coordinate_descent.py:530: ConvergenceWarning: Objective did not converge. You might want to increase the number of iterations. Duality gap: 55264349.52479928, tolerance: 4161553.810728\n",
      "  model = cd_fast.enet_coordinate_descent(\n",
      "C:\\Users\\marli\\anaconda3\\lib\\site-packages\\sklearn\\linear_model\\_coordinate_descent.py:530: ConvergenceWarning: Objective did not converge. You might want to increase the number of iterations. Duality gap: 49838991.524100505, tolerance: 3986064.507592\n",
      "  model = cd_fast.enet_coordinate_descent(\n",
      "C:\\Users\\marli\\anaconda3\\lib\\site-packages\\sklearn\\linear_model\\_coordinate_descent.py:530: ConvergenceWarning: Objective did not converge. You might want to increase the number of iterations. Duality gap: 60591226.584367916, tolerance: 4489557.82605\n",
      "  model = cd_fast.enet_coordinate_descent(\n",
      "C:\\Users\\marli\\anaconda3\\lib\\site-packages\\sklearn\\linear_model\\_coordinate_descent.py:530: ConvergenceWarning: Objective did not converge. You might want to increase the number of iterations. Duality gap: 67378939.89421624, tolerance: 4822638.278329412\n",
      "  model = cd_fast.enet_coordinate_descent(\n",
      "C:\\Users\\marli\\anaconda3\\lib\\site-packages\\sklearn\\linear_model\\_coordinate_descent.py:530: ConvergenceWarning: Objective did not converge. You might want to increase the number of iterations. Duality gap: 24739526.36611157, tolerance: 4001682.1988745104\n",
      "  model = cd_fast.enet_coordinate_descent(\n",
      "C:\\Users\\marli\\anaconda3\\lib\\site-packages\\sklearn\\linear_model\\_coordinate_descent.py:530: ConvergenceWarning: Objective did not converge. You might want to increase the number of iterations. Duality gap: 55889060.267635934, tolerance: 4161553.810728\n",
      "  model = cd_fast.enet_coordinate_descent(\n",
      "C:\\Users\\marli\\anaconda3\\lib\\site-packages\\sklearn\\linear_model\\_coordinate_descent.py:530: ConvergenceWarning: Objective did not converge. You might want to increase the number of iterations. Duality gap: 50353249.996143736, tolerance: 3986064.507592\n",
      "  model = cd_fast.enet_coordinate_descent(\n",
      "C:\\Users\\marli\\anaconda3\\lib\\site-packages\\sklearn\\linear_model\\_coordinate_descent.py:530: ConvergenceWarning: Objective did not converge. You might want to increase the number of iterations. Duality gap: 61160658.09685363, tolerance: 4489557.82605\n",
      "  model = cd_fast.enet_coordinate_descent(\n",
      "C:\\Users\\marli\\anaconda3\\lib\\site-packages\\sklearn\\linear_model\\_coordinate_descent.py:530: ConvergenceWarning: Objective did not converge. You might want to increase the number of iterations. Duality gap: 68034156.45416375, tolerance: 4822638.278329412\n",
      "  model = cd_fast.enet_coordinate_descent(\n",
      "C:\\Users\\marli\\anaconda3\\lib\\site-packages\\sklearn\\linear_model\\_coordinate_descent.py:530: ConvergenceWarning: Objective did not converge. You might want to increase the number of iterations. Duality gap: 25344141.123398636, tolerance: 4001682.1988745104\n",
      "  model = cd_fast.enet_coordinate_descent(\n",
      "C:\\Users\\marli\\anaconda3\\lib\\site-packages\\sklearn\\linear_model\\_coordinate_descent.py:530: ConvergenceWarning: Objective did not converge. You might want to increase the number of iterations. Duality gap: 56510359.73014866, tolerance: 4161553.810728\n",
      "  model = cd_fast.enet_coordinate_descent(\n",
      "C:\\Users\\marli\\anaconda3\\lib\\site-packages\\sklearn\\linear_model\\_coordinate_descent.py:530: ConvergenceWarning: Objective did not converge. You might want to increase the number of iterations. Duality gap: 50862742.27991512, tolerance: 3986064.507592\n",
      "  model = cd_fast.enet_coordinate_descent(\n",
      "C:\\Users\\marli\\anaconda3\\lib\\site-packages\\sklearn\\linear_model\\_coordinate_descent.py:530: ConvergenceWarning: Objective did not converge. You might want to increase the number of iterations. Duality gap: 61726518.34730403, tolerance: 4489557.82605\n",
      "  model = cd_fast.enet_coordinate_descent(\n",
      "C:\\Users\\marli\\anaconda3\\lib\\site-packages\\sklearn\\linear_model\\_coordinate_descent.py:530: ConvergenceWarning: Objective did not converge. You might want to increase the number of iterations. Duality gap: 68684943.18588695, tolerance: 4822638.278329412\n",
      "  model = cd_fast.enet_coordinate_descent(\n",
      "C:\\Users\\marli\\anaconda3\\lib\\site-packages\\sklearn\\linear_model\\_coordinate_descent.py:530: ConvergenceWarning: Objective did not converge. You might want to increase the number of iterations. Duality gap: 25945402.018214367, tolerance: 4001682.1988745104\n",
      "  model = cd_fast.enet_coordinate_descent(\n",
      "C:\\Users\\marli\\anaconda3\\lib\\site-packages\\sklearn\\linear_model\\_coordinate_descent.py:530: ConvergenceWarning: Objective did not converge. You might want to increase the number of iterations. Duality gap: 57127619.08096045, tolerance: 4161553.810728\n",
      "  model = cd_fast.enet_coordinate_descent(\n",
      "C:\\Users\\marli\\anaconda3\\lib\\site-packages\\sklearn\\linear_model\\_coordinate_descent.py:530: ConvergenceWarning: Objective did not converge. You might want to increase the number of iterations. Duality gap: 51363029.992265925, tolerance: 3986064.507592\n",
      "  model = cd_fast.enet_coordinate_descent(\n",
      "C:\\Users\\marli\\anaconda3\\lib\\site-packages\\sklearn\\linear_model\\_coordinate_descent.py:530: ConvergenceWarning: Objective did not converge. You might want to increase the number of iterations. Duality gap: 62291371.45276444, tolerance: 4489557.82605\n",
      "  model = cd_fast.enet_coordinate_descent(\n",
      "C:\\Users\\marli\\anaconda3\\lib\\site-packages\\sklearn\\linear_model\\_coordinate_descent.py:530: ConvergenceWarning: Objective did not converge. You might want to increase the number of iterations. Duality gap: 69327166.36493023, tolerance: 4822638.278329412\n",
      "  model = cd_fast.enet_coordinate_descent(\n",
      "C:\\Users\\marli\\anaconda3\\lib\\site-packages\\sklearn\\linear_model\\_coordinate_descent.py:530: ConvergenceWarning: Objective did not converge. You might want to increase the number of iterations. Duality gap: 26544653.852712445, tolerance: 4001682.1988745104\n",
      "  model = cd_fast.enet_coordinate_descent(\n",
      "C:\\Users\\marli\\anaconda3\\lib\\site-packages\\sklearn\\linear_model\\_coordinate_descent.py:530: ConvergenceWarning: Objective did not converge. You might want to increase the number of iterations. Duality gap: 57741454.60816455, tolerance: 4161553.810728\n",
      "  model = cd_fast.enet_coordinate_descent(\n",
      "C:\\Users\\marli\\anaconda3\\lib\\site-packages\\sklearn\\linear_model\\_coordinate_descent.py:530: ConvergenceWarning: Objective did not converge. You might want to increase the number of iterations. Duality gap: 51862227.05437155, tolerance: 3986064.507592\n",
      "  model = cd_fast.enet_coordinate_descent(\n",
      "C:\\Users\\marli\\anaconda3\\lib\\site-packages\\sklearn\\linear_model\\_coordinate_descent.py:530: ConvergenceWarning: Objective did not converge. You might want to increase the number of iterations. Duality gap: 62853086.84456284, tolerance: 4489557.82605\n",
      "  model = cd_fast.enet_coordinate_descent(\n",
      "C:\\Users\\marli\\anaconda3\\lib\\site-packages\\sklearn\\linear_model\\_coordinate_descent.py:530: ConvergenceWarning: Objective did not converge. You might want to increase the number of iterations. Duality gap: 69940059.07689285, tolerance: 4822638.278329412\n",
      "  model = cd_fast.enet_coordinate_descent(\n",
      "C:\\Users\\marli\\anaconda3\\lib\\site-packages\\sklearn\\linear_model\\_coordinate_descent.py:530: ConvergenceWarning: Objective did not converge. You might want to increase the number of iterations. Duality gap: 27142628.833820835, tolerance: 4001682.1988745104\n",
      "  model = cd_fast.enet_coordinate_descent(\n",
      "C:\\Users\\marli\\anaconda3\\lib\\site-packages\\sklearn\\linear_model\\_coordinate_descent.py:530: ConvergenceWarning: Objective did not converge. You might want to increase the number of iterations. Duality gap: 58351671.87210493, tolerance: 4161553.810728\n",
      "  model = cd_fast.enet_coordinate_descent(\n",
      "C:\\Users\\marli\\anaconda3\\lib\\site-packages\\sklearn\\linear_model\\_coordinate_descent.py:530: ConvergenceWarning: Objective did not converge. You might want to increase the number of iterations. Duality gap: 52360433.04041912, tolerance: 3986064.507592\n",
      "  model = cd_fast.enet_coordinate_descent(\n",
      "C:\\Users\\marli\\anaconda3\\lib\\site-packages\\sklearn\\linear_model\\_coordinate_descent.py:530: ConvergenceWarning: Objective did not converge. You might want to increase the number of iterations. Duality gap: 63411774.01430409, tolerance: 4489557.82605\n",
      "  model = cd_fast.enet_coordinate_descent(\n",
      "C:\\Users\\marli\\anaconda3\\lib\\site-packages\\sklearn\\linear_model\\_coordinate_descent.py:530: ConvergenceWarning: Objective did not converge. You might want to increase the number of iterations. Duality gap: 70550397.90486202, tolerance: 4822638.278329412\n",
      "  model = cd_fast.enet_coordinate_descent(\n",
      "C:\\Users\\marli\\anaconda3\\lib\\site-packages\\sklearn\\linear_model\\_coordinate_descent.py:530: ConvergenceWarning: Objective did not converge. You might want to increase the number of iterations. Duality gap: 27739425.800638136, tolerance: 4001682.1988745104\n",
      "  model = cd_fast.enet_coordinate_descent(\n"
     ]
    },
    {
     "name": "stderr",
     "output_type": "stream",
     "text": [
      "C:\\Users\\marli\\anaconda3\\lib\\site-packages\\sklearn\\linear_model\\_coordinate_descent.py:530: ConvergenceWarning: Objective did not converge. You might want to increase the number of iterations. Duality gap: 58958098.52012981, tolerance: 4161553.810728\n",
      "  model = cd_fast.enet_coordinate_descent(\n",
      "C:\\Users\\marli\\anaconda3\\lib\\site-packages\\sklearn\\linear_model\\_coordinate_descent.py:530: ConvergenceWarning: Objective did not converge. You might want to increase the number of iterations. Duality gap: 52855017.42256668, tolerance: 3986064.507592\n",
      "  model = cd_fast.enet_coordinate_descent(\n",
      "C:\\Users\\marli\\anaconda3\\lib\\site-packages\\sklearn\\linear_model\\_coordinate_descent.py:530: ConvergenceWarning: Objective did not converge. You might want to increase the number of iterations. Duality gap: 63967841.8686648, tolerance: 4489557.82605\n",
      "  model = cd_fast.enet_coordinate_descent(\n",
      "C:\\Users\\marli\\anaconda3\\lib\\site-packages\\sklearn\\linear_model\\_coordinate_descent.py:530: ConvergenceWarning: Objective did not converge. You might want to increase the number of iterations. Duality gap: 71177398.84125054, tolerance: 4822638.278329412\n",
      "  model = cd_fast.enet_coordinate_descent(\n",
      "C:\\Users\\marli\\anaconda3\\lib\\site-packages\\sklearn\\linear_model\\_coordinate_descent.py:530: ConvergenceWarning: Objective did not converge. You might want to increase the number of iterations. Duality gap: 28334790.758724354, tolerance: 4001682.1988745104\n",
      "  model = cd_fast.enet_coordinate_descent(\n",
      "C:\\Users\\marli\\anaconda3\\lib\\site-packages\\sklearn\\linear_model\\_coordinate_descent.py:530: ConvergenceWarning: Objective did not converge. You might want to increase the number of iterations. Duality gap: 59561490.01942461, tolerance: 4161553.810728\n",
      "  model = cd_fast.enet_coordinate_descent(\n",
      "C:\\Users\\marli\\anaconda3\\lib\\site-packages\\sklearn\\linear_model\\_coordinate_descent.py:530: ConvergenceWarning: Objective did not converge. You might want to increase the number of iterations. Duality gap: 53358919.56157409, tolerance: 3986064.507592\n",
      "  model = cd_fast.enet_coordinate_descent(\n",
      "C:\\Users\\marli\\anaconda3\\lib\\site-packages\\sklearn\\linear_model\\_coordinate_descent.py:530: ConvergenceWarning: Objective did not converge. You might want to increase the number of iterations. Duality gap: 64521855.404902846, tolerance: 4489557.82605\n",
      "  model = cd_fast.enet_coordinate_descent(\n",
      "C:\\Users\\marli\\anaconda3\\lib\\site-packages\\sklearn\\linear_model\\_coordinate_descent.py:530: ConvergenceWarning: Objective did not converge. You might want to increase the number of iterations. Duality gap: 71826621.44393982, tolerance: 4822638.278329412\n",
      "  model = cd_fast.enet_coordinate_descent(\n",
      "C:\\Users\\marli\\anaconda3\\lib\\site-packages\\sklearn\\linear_model\\_coordinate_descent.py:530: ConvergenceWarning: Objective did not converge. You might want to increase the number of iterations. Duality gap: 28928331.92196677, tolerance: 4001682.1988745104\n",
      "  model = cd_fast.enet_coordinate_descent(\n",
      "C:\\Users\\marli\\anaconda3\\lib\\site-packages\\sklearn\\linear_model\\_coordinate_descent.py:530: ConvergenceWarning: Objective did not converge. You might want to increase the number of iterations. Duality gap: 60160725.880696185, tolerance: 4161553.810728\n",
      "  model = cd_fast.enet_coordinate_descent(\n",
      "C:\\Users\\marli\\anaconda3\\lib\\site-packages\\sklearn\\linear_model\\_coordinate_descent.py:530: ConvergenceWarning: Objective did not converge. You might want to increase the number of iterations. Duality gap: 53876612.776356995, tolerance: 3986064.507592\n",
      "  model = cd_fast.enet_coordinate_descent(\n",
      "C:\\Users\\marli\\anaconda3\\lib\\site-packages\\sklearn\\linear_model\\_coordinate_descent.py:530: ConvergenceWarning: Objective did not converge. You might want to increase the number of iterations. Duality gap: 65072655.51730147, tolerance: 4489557.82605\n",
      "  model = cd_fast.enet_coordinate_descent(\n",
      "C:\\Users\\marli\\anaconda3\\lib\\site-packages\\sklearn\\linear_model\\_coordinate_descent.py:530: ConvergenceWarning: Objective did not converge. You might want to increase the number of iterations. Duality gap: 72474944.28201419, tolerance: 4822638.278329412\n",
      "  model = cd_fast.enet_coordinate_descent(\n",
      "C:\\Users\\marli\\anaconda3\\lib\\site-packages\\sklearn\\linear_model\\_coordinate_descent.py:530: ConvergenceWarning: Objective did not converge. You might want to increase the number of iterations. Duality gap: 29520528.245128937, tolerance: 4001682.1988745104\n",
      "  model = cd_fast.enet_coordinate_descent(\n",
      "C:\\Users\\marli\\anaconda3\\lib\\site-packages\\sklearn\\linear_model\\_coordinate_descent.py:530: ConvergenceWarning: Objective did not converge. You might want to increase the number of iterations. Duality gap: 60756752.91157045, tolerance: 4161553.810728\n",
      "  model = cd_fast.enet_coordinate_descent(\n",
      "C:\\Users\\marli\\anaconda3\\lib\\site-packages\\sklearn\\linear_model\\_coordinate_descent.py:530: ConvergenceWarning: Objective did not converge. You might want to increase the number of iterations. Duality gap: 54392109.27234501, tolerance: 3986064.507592\n",
      "  model = cd_fast.enet_coordinate_descent(\n",
      "C:\\Users\\marli\\anaconda3\\lib\\site-packages\\sklearn\\linear_model\\_coordinate_descent.py:530: ConvergenceWarning: Objective did not converge. You might want to increase the number of iterations. Duality gap: 65630251.827355295, tolerance: 4489557.82605\n",
      "  model = cd_fast.enet_coordinate_descent(\n",
      "C:\\Users\\marli\\anaconda3\\lib\\site-packages\\sklearn\\linear_model\\_coordinate_descent.py:530: ConvergenceWarning: Objective did not converge. You might want to increase the number of iterations. Duality gap: 73121250.92628977, tolerance: 4822638.278329412\n",
      "  model = cd_fast.enet_coordinate_descent(\n",
      "C:\\Users\\marli\\anaconda3\\lib\\site-packages\\sklearn\\linear_model\\_coordinate_descent.py:530: ConvergenceWarning: Objective did not converge. You might want to increase the number of iterations. Duality gap: 30111066.451669715, tolerance: 4001682.1988745104\n",
      "  model = cd_fast.enet_coordinate_descent(\n",
      "C:\\Users\\marli\\anaconda3\\lib\\site-packages\\sklearn\\linear_model\\_coordinate_descent.py:530: ConvergenceWarning: Objective did not converge. You might want to increase the number of iterations. Duality gap: 61349854.24658847, tolerance: 4161553.810728\n",
      "  model = cd_fast.enet_coordinate_descent(\n",
      "C:\\Users\\marli\\anaconda3\\lib\\site-packages\\sklearn\\linear_model\\_coordinate_descent.py:530: ConvergenceWarning: Objective did not converge. You might want to increase the number of iterations. Duality gap: 54905623.46654643, tolerance: 3986064.507592\n",
      "  model = cd_fast.enet_coordinate_descent(\n",
      "C:\\Users\\marli\\anaconda3\\lib\\site-packages\\sklearn\\linear_model\\_coordinate_descent.py:530: ConvergenceWarning: Objective did not converge. You might want to increase the number of iterations. Duality gap: 66190966.847696975, tolerance: 4489557.82605\n",
      "  model = cd_fast.enet_coordinate_descent(\n",
      "C:\\Users\\marli\\anaconda3\\lib\\site-packages\\sklearn\\linear_model\\_coordinate_descent.py:530: ConvergenceWarning: Objective did not converge. You might want to increase the number of iterations. Duality gap: 73765841.04847583, tolerance: 4822638.278329412\n",
      "  model = cd_fast.enet_coordinate_descent(\n",
      "C:\\Users\\marli\\anaconda3\\lib\\site-packages\\sklearn\\linear_model\\_coordinate_descent.py:530: ConvergenceWarning: Objective did not converge. You might want to increase the number of iterations. Duality gap: 30699830.3609558, tolerance: 4001682.1988745104\n",
      "  model = cd_fast.enet_coordinate_descent(\n",
      "C:\\Users\\marli\\anaconda3\\lib\\site-packages\\sklearn\\linear_model\\_coordinate_descent.py:530: ConvergenceWarning: Objective did not converge. You might want to increase the number of iterations. Duality gap: 61939946.28646607, tolerance: 4161553.810728\n",
      "  model = cd_fast.enet_coordinate_descent(\n",
      "C:\\Users\\marli\\anaconda3\\lib\\site-packages\\sklearn\\linear_model\\_coordinate_descent.py:530: ConvergenceWarning: Objective did not converge. You might want to increase the number of iterations. Duality gap: 55417081.33335006, tolerance: 3986064.507592\n",
      "  model = cd_fast.enet_coordinate_descent(\n",
      "C:\\Users\\marli\\anaconda3\\lib\\site-packages\\sklearn\\linear_model\\_coordinate_descent.py:530: ConvergenceWarning: Objective did not converge. You might want to increase the number of iterations. Duality gap: 66745417.493109636, tolerance: 4489557.82605\n",
      "  model = cd_fast.enet_coordinate_descent(\n",
      "C:\\Users\\marli\\anaconda3\\lib\\site-packages\\sklearn\\linear_model\\_coordinate_descent.py:530: ConvergenceWarning: Objective did not converge. You might want to increase the number of iterations. Duality gap: 74407712.30713402, tolerance: 4822638.278329412\n",
      "  model = cd_fast.enet_coordinate_descent(\n",
      "C:\\Users\\marli\\anaconda3\\lib\\site-packages\\sklearn\\linear_model\\_coordinate_descent.py:530: ConvergenceWarning: Objective did not converge. You might want to increase the number of iterations. Duality gap: 31291225.05894523, tolerance: 4001682.1988745104\n",
      "  model = cd_fast.enet_coordinate_descent(\n",
      "C:\\Users\\marli\\anaconda3\\lib\\site-packages\\sklearn\\linear_model\\_coordinate_descent.py:530: ConvergenceWarning: Objective did not converge. You might want to increase the number of iterations. Duality gap: 62528066.36659959, tolerance: 4161553.810728\n",
      "  model = cd_fast.enet_coordinate_descent(\n",
      "C:\\Users\\marli\\anaconda3\\lib\\site-packages\\sklearn\\linear_model\\_coordinate_descent.py:530: ConvergenceWarning: Objective did not converge. You might want to increase the number of iterations. Duality gap: 55926571.39681433, tolerance: 3986064.507592\n",
      "  model = cd_fast.enet_coordinate_descent(\n",
      "C:\\Users\\marli\\anaconda3\\lib\\site-packages\\sklearn\\linear_model\\_coordinate_descent.py:530: ConvergenceWarning: Objective did not converge. You might want to increase the number of iterations. Duality gap: 67299190.62787108, tolerance: 4489557.82605\n",
      "  model = cd_fast.enet_coordinate_descent(\n",
      "C:\\Users\\marli\\anaconda3\\lib\\site-packages\\sklearn\\linear_model\\_coordinate_descent.py:530: ConvergenceWarning: Objective did not converge. You might want to increase the number of iterations. Duality gap: 75046577.90861914, tolerance: 4822638.278329412\n",
      "  model = cd_fast.enet_coordinate_descent(\n",
      "C:\\Users\\marli\\anaconda3\\lib\\site-packages\\sklearn\\linear_model\\_coordinate_descent.py:530: ConvergenceWarning: Objective did not converge. You might want to increase the number of iterations. Duality gap: 31879680.96723799, tolerance: 4001682.1988745104\n",
      "  model = cd_fast.enet_coordinate_descent(\n",
      "C:\\Users\\marli\\anaconda3\\lib\\site-packages\\sklearn\\linear_model\\_coordinate_descent.py:530: ConvergenceWarning: Objective did not converge. You might want to increase the number of iterations. Duality gap: 63112625.90442236, tolerance: 4161553.810728\n",
      "  model = cd_fast.enet_coordinate_descent(\n",
      "C:\\Users\\marli\\anaconda3\\lib\\site-packages\\sklearn\\linear_model\\_coordinate_descent.py:530: ConvergenceWarning: Objective did not converge. You might want to increase the number of iterations. Duality gap: 56433832.44738263, tolerance: 3986064.507592\n",
      "  model = cd_fast.enet_coordinate_descent(\n",
      "C:\\Users\\marli\\anaconda3\\lib\\site-packages\\sklearn\\linear_model\\_coordinate_descent.py:530: ConvergenceWarning: Objective did not converge. You might want to increase the number of iterations. Duality gap: 67850507.79144233, tolerance: 4489557.82605\n",
      "  model = cd_fast.enet_coordinate_descent(\n",
      "C:\\Users\\marli\\anaconda3\\lib\\site-packages\\sklearn\\linear_model\\_coordinate_descent.py:530: ConvergenceWarning: Objective did not converge. You might want to increase the number of iterations. Duality gap: 75684216.85780515, tolerance: 4822638.278329412\n",
      "  model = cd_fast.enet_coordinate_descent(\n",
      "C:\\Users\\marli\\anaconda3\\lib\\site-packages\\sklearn\\linear_model\\_coordinate_descent.py:530: ConvergenceWarning: Objective did not converge. You might want to increase the number of iterations. Duality gap: 32468125.977598824, tolerance: 4001682.1988745104\n",
      "  model = cd_fast.enet_coordinate_descent(\n",
      "C:\\Users\\marli\\anaconda3\\lib\\site-packages\\sklearn\\linear_model\\_coordinate_descent.py:530: ConvergenceWarning: Objective did not converge. You might want to increase the number of iterations. Duality gap: 63737391.46698891, tolerance: 4161553.810728\n",
      "  model = cd_fast.enet_coordinate_descent(\n",
      "C:\\Users\\marli\\anaconda3\\lib\\site-packages\\sklearn\\linear_model\\_coordinate_descent.py:530: ConvergenceWarning: Objective did not converge. You might want to increase the number of iterations. Duality gap: 56938991.939912215, tolerance: 3986064.507592\n",
      "  model = cd_fast.enet_coordinate_descent(\n",
      "C:\\Users\\marli\\anaconda3\\lib\\site-packages\\sklearn\\linear_model\\_coordinate_descent.py:530: ConvergenceWarning: Objective did not converge. You might want to increase the number of iterations. Duality gap: 68402370.73838452, tolerance: 4489557.82605\n",
      "  model = cd_fast.enet_coordinate_descent(\n",
      "C:\\Users\\marli\\anaconda3\\lib\\site-packages\\sklearn\\linear_model\\_coordinate_descent.py:530: ConvergenceWarning: Objective did not converge. You might want to increase the number of iterations. Duality gap: 76319863.48850188, tolerance: 4822638.278329412\n",
      "  model = cd_fast.enet_coordinate_descent(\n",
      "C:\\Users\\marli\\anaconda3\\lib\\site-packages\\sklearn\\linear_model\\_coordinate_descent.py:530: ConvergenceWarning: Objective did not converge. You might want to increase the number of iterations. Duality gap: 33053156.213427432, tolerance: 4001682.1988745104\n",
      "  model = cd_fast.enet_coordinate_descent(\n",
      "C:\\Users\\marli\\anaconda3\\lib\\site-packages\\sklearn\\linear_model\\_coordinate_descent.py:530: ConvergenceWarning: Objective did not converge. You might want to increase the number of iterations. Duality gap: 64365222.139066935, tolerance: 4161553.810728\n",
      "  model = cd_fast.enet_coordinate_descent(\n",
      "C:\\Users\\marli\\anaconda3\\lib\\site-packages\\sklearn\\linear_model\\_coordinate_descent.py:530: ConvergenceWarning: Objective did not converge. You might want to increase the number of iterations. Duality gap: 57442529.50730766, tolerance: 3986064.507592\n",
      "  model = cd_fast.enet_coordinate_descent(\n",
      "C:\\Users\\marli\\anaconda3\\lib\\site-packages\\sklearn\\linear_model\\_coordinate_descent.py:530: ConvergenceWarning: Objective did not converge. You might want to increase the number of iterations. Duality gap: 68956613.03457552, tolerance: 4489557.82605\n",
      "  model = cd_fast.enet_coordinate_descent(\n",
      "C:\\Users\\marli\\anaconda3\\lib\\site-packages\\sklearn\\linear_model\\_coordinate_descent.py:530: ConvergenceWarning: Objective did not converge. You might want to increase the number of iterations. Duality gap: 76952526.11673331, tolerance: 4822638.278329412\n",
      "  model = cd_fast.enet_coordinate_descent(\n",
      "C:\\Users\\marli\\anaconda3\\lib\\site-packages\\sklearn\\linear_model\\_coordinate_descent.py:530: ConvergenceWarning: Objective did not converge. You might want to increase the number of iterations. Duality gap: 33636575.90109476, tolerance: 4001682.1988745104\n",
      "  model = cd_fast.enet_coordinate_descent(\n",
      "C:\\Users\\marli\\anaconda3\\lib\\site-packages\\sklearn\\linear_model\\_coordinate_descent.py:530: ConvergenceWarning: Objective did not converge. You might want to increase the number of iterations. Duality gap: 64993297.766838074, tolerance: 4161553.810728\n",
      "  model = cd_fast.enet_coordinate_descent(\n",
      "C:\\Users\\marli\\anaconda3\\lib\\site-packages\\sklearn\\linear_model\\_coordinate_descent.py:530: ConvergenceWarning: Objective did not converge. You might want to increase the number of iterations. Duality gap: 57943809.11281048, tolerance: 3986064.507592\n",
      "  model = cd_fast.enet_coordinate_descent(\n",
      "C:\\Users\\marli\\anaconda3\\lib\\site-packages\\sklearn\\linear_model\\_coordinate_descent.py:530: ConvergenceWarning: Objective did not converge. You might want to increase the number of iterations. Duality gap: 69508642.1105518, tolerance: 4489557.82605\n",
      "  model = cd_fast.enet_coordinate_descent(\n",
      "C:\\Users\\marli\\anaconda3\\lib\\site-packages\\sklearn\\linear_model\\_coordinate_descent.py:530: ConvergenceWarning: Objective did not converge. You might want to increase the number of iterations. Duality gap: 77583069.6680922, tolerance: 4822638.278329412\n",
      "  model = cd_fast.enet_coordinate_descent(\n",
      "C:\\Users\\marli\\anaconda3\\lib\\site-packages\\sklearn\\linear_model\\_coordinate_descent.py:530: ConvergenceWarning: Objective did not converge. You might want to increase the number of iterations. Duality gap: 34218742.88292359, tolerance: 4001682.1988745104\n",
      "  model = cd_fast.enet_coordinate_descent(\n",
      "C:\\Users\\marli\\anaconda3\\lib\\site-packages\\sklearn\\linear_model\\_coordinate_descent.py:530: ConvergenceWarning: Objective did not converge. You might want to increase the number of iterations. Duality gap: 65619825.77101402, tolerance: 4161553.810728\n",
      "  model = cd_fast.enet_coordinate_descent(\n"
     ]
    },
    {
     "name": "stderr",
     "output_type": "stream",
     "text": [
      "C:\\Users\\marli\\anaconda3\\lib\\site-packages\\sklearn\\linear_model\\_coordinate_descent.py:530: ConvergenceWarning: Objective did not converge. You might want to increase the number of iterations. Duality gap: 58443060.44687857, tolerance: 3986064.507592\n",
      "  model = cd_fast.enet_coordinate_descent(\n",
      "C:\\Users\\marli\\anaconda3\\lib\\site-packages\\sklearn\\linear_model\\_coordinate_descent.py:530: ConvergenceWarning: Objective did not converge. You might want to increase the number of iterations. Duality gap: 70059615.7413657, tolerance: 4489557.82605\n",
      "  model = cd_fast.enet_coordinate_descent(\n",
      "C:\\Users\\marli\\anaconda3\\lib\\site-packages\\sklearn\\linear_model\\_coordinate_descent.py:530: ConvergenceWarning: Objective did not converge. You might want to increase the number of iterations. Duality gap: 78213290.63405342, tolerance: 4822638.278329412\n",
      "  model = cd_fast.enet_coordinate_descent(\n",
      "C:\\Users\\marli\\anaconda3\\lib\\site-packages\\sklearn\\linear_model\\_coordinate_descent.py:530: ConvergenceWarning: Objective did not converge. You might want to increase the number of iterations. Duality gap: 34799266.00465557, tolerance: 4001682.1988745104\n",
      "  model = cd_fast.enet_coordinate_descent(\n",
      "C:\\Users\\marli\\anaconda3\\lib\\site-packages\\sklearn\\linear_model\\_coordinate_descent.py:530: ConvergenceWarning: Objective did not converge. You might want to increase the number of iterations. Duality gap: 66244114.81944691, tolerance: 4161553.810728\n",
      "  model = cd_fast.enet_coordinate_descent(\n",
      "C:\\Users\\marli\\anaconda3\\lib\\site-packages\\sklearn\\linear_model\\_coordinate_descent.py:530: ConvergenceWarning: Objective did not converge. You might want to increase the number of iterations. Duality gap: 58940332.23208189, tolerance: 3986064.507592\n",
      "  model = cd_fast.enet_coordinate_descent(\n",
      "C:\\Users\\marli\\anaconda3\\lib\\site-packages\\sklearn\\linear_model\\_coordinate_descent.py:530: ConvergenceWarning: Objective did not converge. You might want to increase the number of iterations. Duality gap: 70613459.28638628, tolerance: 4489557.82605\n",
      "  model = cd_fast.enet_coordinate_descent(\n",
      "C:\\Users\\marli\\anaconda3\\lib\\site-packages\\sklearn\\linear_model\\_coordinate_descent.py:530: ConvergenceWarning: Objective did not converge. You might want to increase the number of iterations. Duality gap: 78843507.85894126, tolerance: 4822638.278329412\n",
      "  model = cd_fast.enet_coordinate_descent(\n",
      "C:\\Users\\marli\\anaconda3\\lib\\site-packages\\sklearn\\linear_model\\_coordinate_descent.py:530: ConvergenceWarning: Objective did not converge. You might want to increase the number of iterations. Duality gap: 35377883.81636248, tolerance: 4001682.1988745104\n",
      "  model = cd_fast.enet_coordinate_descent(\n",
      "C:\\Users\\marli\\anaconda3\\lib\\site-packages\\sklearn\\linear_model\\_coordinate_descent.py:530: ConvergenceWarning: Objective did not converge. You might want to increase the number of iterations. Duality gap: 66866082.09110823, tolerance: 4161553.810728\n",
      "  model = cd_fast.enet_coordinate_descent(\n",
      "C:\\Users\\marli\\anaconda3\\lib\\site-packages\\sklearn\\linear_model\\_coordinate_descent.py:530: ConvergenceWarning: Objective did not converge. You might want to increase the number of iterations. Duality gap: 59435536.67686442, tolerance: 3986064.507592\n",
      "  model = cd_fast.enet_coordinate_descent(\n",
      "C:\\Users\\marli\\anaconda3\\lib\\site-packages\\sklearn\\linear_model\\_coordinate_descent.py:530: ConvergenceWarning: Objective did not converge. You might want to increase the number of iterations. Duality gap: 71177729.17130426, tolerance: 4489557.82605\n",
      "  model = cd_fast.enet_coordinate_descent(\n",
      "C:\\Users\\marli\\anaconda3\\lib\\site-packages\\sklearn\\linear_model\\_coordinate_descent.py:530: ConvergenceWarning: Objective did not converge. You might want to increase the number of iterations. Duality gap: 79469763.11817764, tolerance: 4822638.278329412\n",
      "  model = cd_fast.enet_coordinate_descent(\n",
      "C:\\Users\\marli\\anaconda3\\lib\\site-packages\\sklearn\\linear_model\\_coordinate_descent.py:530: ConvergenceWarning: Objective did not converge. You might want to increase the number of iterations. Duality gap: 35955959.02121732, tolerance: 4001682.1988745104\n",
      "  model = cd_fast.enet_coordinate_descent(\n"
     ]
    }
   ],
   "source": [
    "alpha=[]\n",
    "error=[]\n",
    "for i in range(1,50):\n",
    "    alpha.append(i/100)\n",
    "    lm_l=Lasso(alpha=i/100)\n",
    "    error.append(np.mean(cross_val_score(lm_l,X_train, y_train, scoring='neg_mean_absolute_error')))"
   ]
  },
  {
   "cell_type": "code",
   "execution_count": 19,
   "id": "0c4c72ae",
   "metadata": {},
   "outputs": [
    {
     "data": {
      "text/plain": [
       "[<matplotlib.lines.Line2D at 0x13491960910>]"
      ]
     },
     "execution_count": 19,
     "metadata": {},
     "output_type": "execute_result"
    },
    {
     "data": {
      "image/png": "[encoded data removed]",
      "text/plain": [
       "<Figure size 432x288 with 1 Axes>"
      ]
     },
     "metadata": {
      "needs_background": "light"
     },
     "output_type": "display_data"
    }
   ],
   "source": [
    "plt.plot(alpha,error)"
   ]
  },
  {
   "cell_type": "code",
   "execution_count": 20,
   "id": "6e2a9c77",
   "metadata": {},
   "outputs": [
    {
     "data": {
      "text/html": [
       "<div>\n",
       "<style scoped>\n",
       "    .dataframe tbody tr th:only-of-type {\n",
       "        vertical-align: middle;\n",
       "    }\n",
       "\n",
       "    .dataframe tbody tr th {\n",
       "        vertical-align: top;\n",
       "    }\n",
       "\n",
       "    .dataframe thead th {\n",
       "        text-align: right;\n",
       "    }\n",
       "</style>\n",
       "<table border=\"1\" class=\"dataframe\">\n",
       "  <thead>\n",
       "    <tr style=\"text-align: right;\">\n",
       "      <th></th>\n",
       "      <th>alpha</th>\n",
       "      <th>error</th>\n",
       "    </tr>\n",
       "  </thead>\n",
       "  <tbody>\n",
       "    <tr>\n",
       "      <th>17</th>\n",
       "      <td>0.18</td>\n",
       "      <td>-10494.384433</td>\n",
       "    </tr>\n",
       "  </tbody>\n",
       "</table>\n",
       "</div>"
      ],
      "text/plain": [
       "    alpha         error\n",
       "17   0.18 -10494.384433"
      ]
     },
     "execution_count": 20,
     "metadata": {},
     "output_type": "execute_result"
    }
   ],
   "source": [
    "err=tuple(zip(alpha,error))\n",
    "df_err=pd.DataFrame(err,columns=[\"alpha\",\"error\"])\n",
    "df_err[df_err[\"error\"]==df_err[\"error\"].max()]"
   ]
  },
  {
   "cell_type": "code",
   "execution_count": null,
   "id": "28bf47f4",
   "metadata": {},
   "outputs": [],
   "source": []
  },
  {
   "cell_type": "code",
   "execution_count": 24,
   "id": "c7e5d9d4",
   "metadata": {},
   "outputs": [
    {
     "name": "stderr",
     "output_type": "stream",
     "text": [
      "C:\\Users\\marli\\anaconda3\\lib\\site-packages\\sklearn\\linear_model\\_coordinate_descent.py:530: ConvergenceWarning: Objective did not converge. You might want to increase the number of iterations. Duality gap: 59610978.89436226, tolerance: 5387348.398971428\n",
      "  model = cd_fast.enet_coordinate_descent(\n"
     ]
    }
   ],
   "source": [
    "lm_lasso=Lasso(alpha=df_err.iloc[df_err[\"error\"].idxmax(),0]).fit(X_train,y_train)"
   ]
  },
  {
   "cell_type": "markdown",
   "id": "c89798bd",
   "metadata": {},
   "source": [
    "#### With the Lasso technique and an alpha of 0.04, we are off by about $20.000, which is an improvement from the OLS"
   ]
  },
  {
   "cell_type": "code",
   "execution_count": 25,
   "id": "42cfb158",
   "metadata": {},
   "outputs": [],
   "source": [
    "# Random Forest\n",
    "from sklearn.ensemble import RandomForestRegressor"
   ]
  },
  {
   "cell_type": "code",
   "execution_count": 26,
   "id": "e1e58e08",
   "metadata": {},
   "outputs": [
    {
     "data": {
      "text/plain": [
       "-3610.1993076923072"
      ]
     },
     "execution_count": 26,
     "metadata": {},
     "output_type": "execute_result"
    }
   ],
   "source": [
    "rf=RandomForestRegressor()\n",
    "(np.mean(cross_val_score(rf,X_train, y_train, scoring='neg_mean_absolute_error')))"
   ]
  },
  {
   "cell_type": "markdown",
   "id": "81a2d77b",
   "metadata": {},
   "source": [
    "#### With the Random Forest algorithm we get an error of about $14.500"
   ]
  },
  {
   "cell_type": "code",
   "execution_count": 27,
   "id": "ffe987ac",
   "metadata": {},
   "outputs": [],
   "source": [
    "# Tune models Gridsearch CV\n",
    "from sklearn.model_selection import GridSearchCV"
   ]
  },
  {
   "cell_type": "code",
   "execution_count": 28,
   "id": "53fd2798",
   "metadata": {},
   "outputs": [
    {
     "data": {
      "text/plain": [
       "GridSearchCV(estimator=RandomForestRegressor(),\n",
       "             param_grid={'criterion': ('mse', 'mae'),\n",
       "                         'max_features': ('auto', 'sqrt', 'log2'),\n",
       "                         'n_estimators': range(10, 300, 10)},\n",
       "             scoring='neg_mean_absolute_error')"
      ]
     },
     "execution_count": 28,
     "metadata": {},
     "output_type": "execute_result"
    }
   ],
   "source": [
    "parameters = {'n_estimators':range(10,300,10),'criterion':('mse','mae'), 'max_features':('auto','sqrt','log2')}\n",
    "\n",
    "gs=GridSearchCV(rf,parameters,scoring=\"neg_mean_absolute_error\")\n",
    "gs.fit(X_train,y_train)"
   ]
  },
  {
   "cell_type": "code",
   "execution_count": 29,
   "id": "16e5bc44",
   "metadata": {},
   "outputs": [
    {
     "data": {
      "text/plain": [
       "RandomForestRegressor(n_estimators=240)"
      ]
     },
     "execution_count": 29,
     "metadata": {},
     "output_type": "execute_result"
    }
   ],
   "source": [
    "gs.best_score_\n",
    "gs.best_estimator_"
   ]
  },
  {
   "cell_type": "markdown",
   "id": "50298665",
   "metadata": {},
   "source": [
    "#### After tuning the parameters of the Random Forest, we come up with an error of about $13.950"
   ]
  },
  {
   "cell_type": "code",
   "execution_count": 30,
   "id": "73e79cb5",
   "metadata": {},
   "outputs": [],
   "source": [
    "# Test ensembles\n",
    "tpred=lm.predict(X_test)\n",
    "tpred_lasso=lm_lasso.predict(X_test)\n",
    "tpred_rf=gs.best_estimator_.predict(X_test)"
   ]
  },
  {
   "cell_type": "code",
   "execution_count": 31,
   "id": "ddf77d91",
   "metadata": {},
   "outputs": [
    {
     "data": {
      "text/plain": [
       "48553184735219.18"
      ]
     },
     "execution_count": 31,
     "metadata": {},
     "output_type": "execute_result"
    }
   ],
   "source": [
    "from sklearn.metrics import mean_absolute_error\n",
    "\n",
    "mean_absolute_error(y_test,tpred)"
   ]
  },
  {
   "cell_type": "code",
   "execution_count": 32,
   "id": "dafffa0e",
   "metadata": {},
   "outputs": [
    {
     "data": {
      "text/plain": [
       "8684.844827593648"
      ]
     },
     "execution_count": 32,
     "metadata": {},
     "output_type": "execute_result"
    }
   ],
   "source": [
    "mean_absolute_error(y_test,tpred_lasso)"
   ]
  },
  {
   "cell_type": "code",
   "execution_count": 33,
   "id": "b28ca9e3",
   "metadata": {},
   "outputs": [
    {
     "data": {
      "text/plain": [
       "5218.335677083334"
      ]
     },
     "execution_count": 33,
     "metadata": {},
     "output_type": "execute_result"
    }
   ],
   "source": [
    "mean_absolute_error(y_test,tpred_rf)"
   ]
  },
  {
   "cell_type": "markdown",
   "id": "ca01a3f7",
   "metadata": {},
   "source": [
    "### So, the Random Forest model produces the best results"
   ]
  },
  {
   "cell_type": "code",
   "execution_count": 34,
   "id": "3694c13d",
   "metadata": {},
   "outputs": [
    {
     "data": {
      "text/plain": [
       "6208.1332156111075"
      ]
     },
     "execution_count": 34,
     "metadata": {},
     "output_type": "execute_result"
    }
   ],
   "source": [
    "# We can try to combine the above models\n",
    "mean_absolute_error(y_test,(tpred_lasso+tpred_rf)/2)"
   ]
  },
  {
   "cell_type": "code",
   "execution_count": null,
   "id": "828a55eb",
   "metadata": {},
   "outputs": [],
   "source": []
  }
 ],
 "metadata": {
  "kernelspec": {
   "display_name": "Python 3 (ipykernel)",
   "language": "python",
   "name": "python3"
  },
  "language_info": {
   "codemirror_mode": {
    "name": "ipython",
    "version": 3
   },
   "file_extension": ".py",
   "mimetype": "text/x-python",
   "name": "python",
   "nbconvert_exporter": "python",
   "pygments_lexer": "ipython3",
   "version": "3.9.7"
  }
 },
 "nbformat": 4,
 "nbformat_minor": 5
}
