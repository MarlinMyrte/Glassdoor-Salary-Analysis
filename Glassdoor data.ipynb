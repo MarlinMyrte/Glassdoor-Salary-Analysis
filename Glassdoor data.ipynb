{
 "cells": [
  {
   "cell_type": "code",
   "execution_count": 2,
   "id": "97824a45",
   "metadata": {},
   "outputs": [],
   "source": [
    "import pandas as pd"
   ]
  },
  {
   "cell_type": "code",
   "execution_count": 3,
   "id": "0fccdf50",
   "metadata": {},
   "outputs": [
    {
     "data": {
      "text/html": [
       "<div>\n",
       "<style scoped>\n",
       "    .dataframe tbody tr th:only-of-type {\n",
       "        vertical-align: middle;\n",
       "    }\n",
       "\n",
       "    .dataframe tbody tr th {\n",
       "        vertical-align: top;\n",
       "    }\n",
       "\n",
       "    .dataframe thead th {\n",
       "        text-align: right;\n",
       "    }\n",
       "</style>\n",
       "<table border=\"1\" class=\"dataframe\">\n",
       "  <thead>\n",
       "    <tr style=\"text-align: right;\">\n",
       "      <th></th>\n",
       "      <th>Unnamed: 0</th>\n",
       "      <th>Job Title</th>\n",
       "      <th>Salary Estimate</th>\n",
       "      <th>Job Description</th>\n",
       "      <th>Rating</th>\n",
       "      <th>Company Name</th>\n",
       "      <th>Location</th>\n",
       "      <th>Headquarters</th>\n",
       "      <th>Size</th>\n",
       "      <th>Founded</th>\n",
       "      <th>Type of ownership</th>\n",
       "      <th>Industry</th>\n",
       "      <th>Sector</th>\n",
       "      <th>Revenue</th>\n",
       "      <th>Competitors</th>\n",
       "    </tr>\n",
       "  </thead>\n",
       "  <tbody>\n",
       "    <tr>\n",
       "      <th>0</th>\n",
       "      <td>0</td>\n",
       "      <td>Data Scientist</td>\n",
       "      <td>$53K-$91K (Glassdoor est.)</td>\n",
       "      <td>Data Scientist\\nLocation: Albuquerque, NM\\nEdu...</td>\n",
       "      <td>3.8</td>\n",
       "      <td>Tecolote Research\\n3.8</td>\n",
       "      <td>Albuquerque, NM</td>\n",
       "      <td>Goleta, CA</td>\n",
       "      <td>501 to 1000 employees</td>\n",
       "      <td>1973</td>\n",
       "      <td>Company - Private</td>\n",
       "      <td>Aerospace &amp; Defense</td>\n",
       "      <td>Aerospace &amp; Defense</td>\n",
       "      <td>$50 to $100 million (USD)</td>\n",
       "      <td>-1</td>\n",
       "    </tr>\n",
       "    <tr>\n",
       "      <th>1</th>\n",
       "      <td>1</td>\n",
       "      <td>Healthcare Data Scientist</td>\n",
       "      <td>$63K-$112K (Glassdoor est.)</td>\n",
       "      <td>What You Will Do:\\n\\nI. General Summary\\n\\nThe...</td>\n",
       "      <td>3.4</td>\n",
       "      <td>University of Maryland Medical System\\n3.4</td>\n",
       "      <td>Linthicum, MD</td>\n",
       "      <td>Baltimore, MD</td>\n",
       "      <td>10000+ employees</td>\n",
       "      <td>1984</td>\n",
       "      <td>Other Organization</td>\n",
       "      <td>Health Care Services &amp; Hospitals</td>\n",
       "      <td>Health Care</td>\n",
       "      <td>$2 to $5 billion (USD)</td>\n",
       "      <td>-1</td>\n",
       "    </tr>\n",
       "    <tr>\n",
       "      <th>2</th>\n",
       "      <td>2</td>\n",
       "      <td>Data Scientist</td>\n",
       "      <td>$80K-$90K (Glassdoor est.)</td>\n",
       "      <td>KnowBe4, Inc. is a high growth information sec...</td>\n",
       "      <td>4.8</td>\n",
       "      <td>KnowBe4\\n4.8</td>\n",
       "      <td>Clearwater, FL</td>\n",
       "      <td>Clearwater, FL</td>\n",
       "      <td>501 to 1000 employees</td>\n",
       "      <td>2010</td>\n",
       "      <td>Company - Private</td>\n",
       "      <td>Security Services</td>\n",
       "      <td>Business Services</td>\n",
       "      <td>$100 to $500 million (USD)</td>\n",
       "      <td>-1</td>\n",
       "    </tr>\n",
       "    <tr>\n",
       "      <th>3</th>\n",
       "      <td>3</td>\n",
       "      <td>Data Scientist</td>\n",
       "      <td>$56K-$97K (Glassdoor est.)</td>\n",
       "      <td>*Organization and Job ID**\\nJob ID: 310709\\n\\n...</td>\n",
       "      <td>3.8</td>\n",
       "      <td>PNNL\\n3.8</td>\n",
       "      <td>Richland, WA</td>\n",
       "      <td>Richland, WA</td>\n",
       "      <td>1001 to 5000 employees</td>\n",
       "      <td>1965</td>\n",
       "      <td>Government</td>\n",
       "      <td>Energy</td>\n",
       "      <td>Oil, Gas, Energy &amp; Utilities</td>\n",
       "      <td>$500 million to $1 billion (USD)</td>\n",
       "      <td>Oak Ridge National Laboratory, National Renewa...</td>\n",
       "    </tr>\n",
       "    <tr>\n",
       "      <th>4</th>\n",
       "      <td>4</td>\n",
       "      <td>Data Scientist</td>\n",
       "      <td>$86K-$143K (Glassdoor est.)</td>\n",
       "      <td>Data Scientist\\nAffinity Solutions / Marketing...</td>\n",
       "      <td>2.9</td>\n",
       "      <td>Affinity Solutions\\n2.9</td>\n",
       "      <td>New York, NY</td>\n",
       "      <td>New York, NY</td>\n",
       "      <td>51 to 200 employees</td>\n",
       "      <td>1998</td>\n",
       "      <td>Company - Private</td>\n",
       "      <td>Advertising &amp; Marketing</td>\n",
       "      <td>Business Services</td>\n",
       "      <td>Unknown / Non-Applicable</td>\n",
       "      <td>Commerce Signals, Cardlytics, Yodlee</td>\n",
       "    </tr>\n",
       "    <tr>\n",
       "      <th>...</th>\n",
       "      <td>...</td>\n",
       "      <td>...</td>\n",
       "      <td>...</td>\n",
       "      <td>...</td>\n",
       "      <td>...</td>\n",
       "      <td>...</td>\n",
       "      <td>...</td>\n",
       "      <td>...</td>\n",
       "      <td>...</td>\n",
       "      <td>...</td>\n",
       "      <td>...</td>\n",
       "      <td>...</td>\n",
       "      <td>...</td>\n",
       "      <td>...</td>\n",
       "      <td>...</td>\n",
       "    </tr>\n",
       "    <tr>\n",
       "      <th>951</th>\n",
       "      <td>951</td>\n",
       "      <td>Senior Data Engineer</td>\n",
       "      <td>$72K-$133K (Glassdoor est.)</td>\n",
       "      <td>THE CHALLENGE\\nEventbrite has a world-class da...</td>\n",
       "      <td>4.4</td>\n",
       "      <td>Eventbrite\\n4.4</td>\n",
       "      <td>Nashville, TN</td>\n",
       "      <td>San Francisco, CA</td>\n",
       "      <td>1001 to 5000 employees</td>\n",
       "      <td>2006</td>\n",
       "      <td>Company - Public</td>\n",
       "      <td>Internet</td>\n",
       "      <td>Information Technology</td>\n",
       "      <td>$100 to $500 million (USD)</td>\n",
       "      <td>See Tickets, TicketWeb, Vendini</td>\n",
       "    </tr>\n",
       "    <tr>\n",
       "      <th>952</th>\n",
       "      <td>952</td>\n",
       "      <td>Project Scientist - Auton Lab, Robotics Institute</td>\n",
       "      <td>$56K-$91K (Glassdoor est.)</td>\n",
       "      <td>The Auton Lab at Carnegie Mellon University is...</td>\n",
       "      <td>2.6</td>\n",
       "      <td>Software Engineering Institute\\n2.6</td>\n",
       "      <td>Pittsburgh, PA</td>\n",
       "      <td>Pittsburgh, PA</td>\n",
       "      <td>501 to 1000 employees</td>\n",
       "      <td>1984</td>\n",
       "      <td>College / University</td>\n",
       "      <td>Colleges &amp; Universities</td>\n",
       "      <td>Education</td>\n",
       "      <td>Unknown / Non-Applicable</td>\n",
       "      <td>-1</td>\n",
       "    </tr>\n",
       "    <tr>\n",
       "      <th>953</th>\n",
       "      <td>953</td>\n",
       "      <td>Data Science Manager</td>\n",
       "      <td>$95K-$160K (Glassdoor est.)</td>\n",
       "      <td>Data Science ManagerResponsibilities:\\n\\nOvers...</td>\n",
       "      <td>3.2</td>\n",
       "      <td>Numeric, LLC\\n3.2</td>\n",
       "      <td>Allentown, PA</td>\n",
       "      <td>Chadds Ford, PA</td>\n",
       "      <td>1 to 50 employees</td>\n",
       "      <td>-1</td>\n",
       "      <td>Company - Private</td>\n",
       "      <td>Staffing &amp; Outsourcing</td>\n",
       "      <td>Business Services</td>\n",
       "      <td>$5 to $10 million (USD)</td>\n",
       "      <td>-1</td>\n",
       "    </tr>\n",
       "    <tr>\n",
       "      <th>954</th>\n",
       "      <td>954</td>\n",
       "      <td>Data Engineer</td>\n",
       "      <td>-1</td>\n",
       "      <td>Loading...\\n\\nTitle: Data Engineer\\n\\nLocation...</td>\n",
       "      <td>4.8</td>\n",
       "      <td>IGNW\\n4.8</td>\n",
       "      <td>Austin, TX</td>\n",
       "      <td>Portland, OR</td>\n",
       "      <td>201 to 500 employees</td>\n",
       "      <td>2015</td>\n",
       "      <td>Company - Private</td>\n",
       "      <td>IT Services</td>\n",
       "      <td>Information Technology</td>\n",
       "      <td>$25 to $50 million (USD)</td>\n",
       "      <td>Slalom</td>\n",
       "    </tr>\n",
       "    <tr>\n",
       "      <th>955</th>\n",
       "      <td>955</td>\n",
       "      <td>Research Scientist – Security and Privacy</td>\n",
       "      <td>$61K-$126K (Glassdoor est.)</td>\n",
       "      <td>Returning Candidate? Log back in to the Career...</td>\n",
       "      <td>3.6</td>\n",
       "      <td>Riverside Research Institute\\n3.6</td>\n",
       "      <td>Beavercreek, OH</td>\n",
       "      <td>Arlington, VA</td>\n",
       "      <td>501 to 1000 employees</td>\n",
       "      <td>1967</td>\n",
       "      <td>Nonprofit Organization</td>\n",
       "      <td>Federal Agencies</td>\n",
       "      <td>Government</td>\n",
       "      <td>$50 to $100 million (USD)</td>\n",
       "      <td>-1</td>\n",
       "    </tr>\n",
       "  </tbody>\n",
       "</table>\n",
       "<p>956 rows × 15 columns</p>\n",
       "</div>"
      ],
      "text/plain": [
       "     Unnamed: 0                                          Job Title  \\\n",
       "0             0                                     Data Scientist   \n",
       "1             1                          Healthcare Data Scientist   \n",
       "2             2                                     Data Scientist   \n",
       "3             3                                     Data Scientist   \n",
       "4             4                                     Data Scientist   \n",
       "..          ...                                                ...   \n",
       "951         951                               Senior Data Engineer   \n",
       "952         952  Project Scientist - Auton Lab, Robotics Institute   \n",
       "953         953                               Data Science Manager   \n",
       "954         954                                      Data Engineer   \n",
       "955         955          Research Scientist – Security and Privacy   \n",
       "\n",
       "                 Salary Estimate  \\\n",
       "0     $53K-$91K (Glassdoor est.)   \n",
       "1    $63K-$112K (Glassdoor est.)   \n",
       "2     $80K-$90K (Glassdoor est.)   \n",
       "3     $56K-$97K (Glassdoor est.)   \n",
       "4    $86K-$143K (Glassdoor est.)   \n",
       "..                           ...   \n",
       "951  $72K-$133K (Glassdoor est.)   \n",
       "952   $56K-$91K (Glassdoor est.)   \n",
       "953  $95K-$160K (Glassdoor est.)   \n",
       "954                           -1   \n",
       "955  $61K-$126K (Glassdoor est.)   \n",
       "\n",
       "                                       Job Description  Rating  \\\n",
       "0    Data Scientist\\nLocation: Albuquerque, NM\\nEdu...     3.8   \n",
       "1    What You Will Do:\\n\\nI. General Summary\\n\\nThe...     3.4   \n",
       "2    KnowBe4, Inc. is a high growth information sec...     4.8   \n",
       "3    *Organization and Job ID**\\nJob ID: 310709\\n\\n...     3.8   \n",
       "4    Data Scientist\\nAffinity Solutions / Marketing...     2.9   \n",
       "..                                                 ...     ...   \n",
       "951  THE CHALLENGE\\nEventbrite has a world-class da...     4.4   \n",
       "952  The Auton Lab at Carnegie Mellon University is...     2.6   \n",
       "953  Data Science ManagerResponsibilities:\\n\\nOvers...     3.2   \n",
       "954  Loading...\\n\\nTitle: Data Engineer\\n\\nLocation...     4.8   \n",
       "955  Returning Candidate? Log back in to the Career...     3.6   \n",
       "\n",
       "                                   Company Name         Location  \\\n",
       "0                        Tecolote Research\\n3.8  Albuquerque, NM   \n",
       "1    University of Maryland Medical System\\n3.4    Linthicum, MD   \n",
       "2                                  KnowBe4\\n4.8   Clearwater, FL   \n",
       "3                                     PNNL\\n3.8     Richland, WA   \n",
       "4                       Affinity Solutions\\n2.9     New York, NY   \n",
       "..                                          ...              ...   \n",
       "951                             Eventbrite\\n4.4    Nashville, TN   \n",
       "952         Software Engineering Institute\\n2.6   Pittsburgh, PA   \n",
       "953                           Numeric, LLC\\n3.2    Allentown, PA   \n",
       "954                                   IGNW\\n4.8       Austin, TX   \n",
       "955           Riverside Research Institute\\n3.6  Beavercreek, OH   \n",
       "\n",
       "          Headquarters                    Size  Founded  \\\n",
       "0           Goleta, CA   501 to 1000 employees     1973   \n",
       "1        Baltimore, MD        10000+ employees     1984   \n",
       "2       Clearwater, FL   501 to 1000 employees     2010   \n",
       "3         Richland, WA  1001 to 5000 employees     1965   \n",
       "4         New York, NY     51 to 200 employees     1998   \n",
       "..                 ...                     ...      ...   \n",
       "951  San Francisco, CA  1001 to 5000 employees     2006   \n",
       "952     Pittsburgh, PA   501 to 1000 employees     1984   \n",
       "953    Chadds Ford, PA       1 to 50 employees       -1   \n",
       "954       Portland, OR    201 to 500 employees     2015   \n",
       "955      Arlington, VA   501 to 1000 employees     1967   \n",
       "\n",
       "          Type of ownership                          Industry  \\\n",
       "0         Company - Private               Aerospace & Defense   \n",
       "1        Other Organization  Health Care Services & Hospitals   \n",
       "2         Company - Private                 Security Services   \n",
       "3                Government                            Energy   \n",
       "4         Company - Private           Advertising & Marketing   \n",
       "..                      ...                               ...   \n",
       "951        Company - Public                          Internet   \n",
       "952    College / University           Colleges & Universities   \n",
       "953       Company - Private            Staffing & Outsourcing   \n",
       "954       Company - Private                       IT Services   \n",
       "955  Nonprofit Organization                  Federal Agencies   \n",
       "\n",
       "                           Sector                           Revenue  \\\n",
       "0             Aerospace & Defense         $50 to $100 million (USD)   \n",
       "1                     Health Care            $2 to $5 billion (USD)   \n",
       "2               Business Services        $100 to $500 million (USD)   \n",
       "3    Oil, Gas, Energy & Utilities  $500 million to $1 billion (USD)   \n",
       "4               Business Services          Unknown / Non-Applicable   \n",
       "..                            ...                               ...   \n",
       "951        Information Technology        $100 to $500 million (USD)   \n",
       "952                     Education          Unknown / Non-Applicable   \n",
       "953             Business Services           $5 to $10 million (USD)   \n",
       "954        Information Technology          $25 to $50 million (USD)   \n",
       "955                    Government         $50 to $100 million (USD)   \n",
       "\n",
       "                                           Competitors  \n",
       "0                                                   -1  \n",
       "1                                                   -1  \n",
       "2                                                   -1  \n",
       "3    Oak Ridge National Laboratory, National Renewa...  \n",
       "4                 Commerce Signals, Cardlytics, Yodlee  \n",
       "..                                                 ...  \n",
       "951                    See Tickets, TicketWeb, Vendini  \n",
       "952                                                 -1  \n",
       "953                                                 -1  \n",
       "954                                             Slalom  \n",
       "955                                                 -1  \n",
       "\n",
       "[956 rows x 15 columns]"
      ]
     },
     "execution_count": 3,
     "metadata": {},
     "output_type": "execute_result"
    }
   ],
   "source": [
    "data=pd.read_csv(\"glassdoor_jobs.csv\")\n",
    "data"
   ]
  },
  {
   "cell_type": "code",
   "execution_count": 15,
   "id": "22203511",
   "metadata": {},
   "outputs": [
    {
     "data": {
      "text/html": [
       "<div>\n",
       "<style scoped>\n",
       "    .dataframe tbody tr th:only-of-type {\n",
       "        vertical-align: middle;\n",
       "    }\n",
       "\n",
       "    .dataframe tbody tr th {\n",
       "        vertical-align: top;\n",
       "    }\n",
       "\n",
       "    .dataframe thead th {\n",
       "        text-align: right;\n",
       "    }\n",
       "</style>\n",
       "<table border=\"1\" class=\"dataframe\">\n",
       "  <thead>\n",
       "    <tr style=\"text-align: right;\">\n",
       "      <th></th>\n",
       "      <th>Unnamed: 0</th>\n",
       "      <th>Job Title</th>\n",
       "      <th>Salary Estimate</th>\n",
       "      <th>Job Description</th>\n",
       "      <th>Rating</th>\n",
       "      <th>Company Name</th>\n",
       "      <th>Location</th>\n",
       "      <th>Headquarters</th>\n",
       "      <th>Size</th>\n",
       "      <th>Founded</th>\n",
       "      <th>Type of ownership</th>\n",
       "      <th>Industry</th>\n",
       "      <th>Sector</th>\n",
       "      <th>Revenue</th>\n",
       "      <th>Competitors</th>\n",
       "    </tr>\n",
       "  </thead>\n",
       "  <tbody>\n",
       "    <tr>\n",
       "      <th>33</th>\n",
       "      <td>33</td>\n",
       "      <td>Data Scientist / Machine Learning Expert</td>\n",
       "      <td>$86K-$143K (Glassdoor est.)</td>\n",
       "      <td>Posting Title\\nData Scientist / Machine Learni...</td>\n",
       "      <td>3.8</td>\n",
       "      <td>Novartis\\n3.8</td>\n",
       "      <td>Cambridge, MA</td>\n",
       "      <td>Basel, Switzerland</td>\n",
       "      <td>10000+ employees</td>\n",
       "      <td>1996</td>\n",
       "      <td>Company - Public</td>\n",
       "      <td>Biotech &amp; Pharmaceuticals</td>\n",
       "      <td>Biotech &amp; Pharmaceuticals</td>\n",
       "      <td>$10+ billion (USD)</td>\n",
       "      <td>-1</td>\n",
       "    </tr>\n",
       "    <tr>\n",
       "      <th>372</th>\n",
       "      <td>372</td>\n",
       "      <td>Senior Data Scientist: Causal &amp; Predictive ana...</td>\n",
       "      <td>$92K-$150K (Glassdoor est.)</td>\n",
       "      <td>21-Jan-2020\\n\\nJob ID\\n279463BR\\n{\"QuestionNam...</td>\n",
       "      <td>3.8</td>\n",
       "      <td>Novartis\\n3.8</td>\n",
       "      <td>Cambridge, MA</td>\n",
       "      <td>Basel, Switzerland</td>\n",
       "      <td>10000+ employees</td>\n",
       "      <td>1996</td>\n",
       "      <td>Company - Public</td>\n",
       "      <td>Biotech &amp; Pharmaceuticals</td>\n",
       "      <td>Biotech &amp; Pharmaceuticals</td>\n",
       "      <td>$10+ billion (USD)</td>\n",
       "      <td>-1</td>\n",
       "    </tr>\n",
       "    <tr>\n",
       "      <th>380</th>\n",
       "      <td>380</td>\n",
       "      <td>Data Scientist / Machine Learning Expert</td>\n",
       "      <td>$86K-$143K (Glassdoor est.)</td>\n",
       "      <td>Posting Title\\nData Scientist / Machine Learni...</td>\n",
       "      <td>3.8</td>\n",
       "      <td>Novartis\\n3.8</td>\n",
       "      <td>Cambridge, MA</td>\n",
       "      <td>Basel, Switzerland</td>\n",
       "      <td>10000+ employees</td>\n",
       "      <td>1996</td>\n",
       "      <td>Company - Public</td>\n",
       "      <td>Biotech &amp; Pharmaceuticals</td>\n",
       "      <td>Biotech &amp; Pharmaceuticals</td>\n",
       "      <td>$10+ billion (USD)</td>\n",
       "      <td>-1</td>\n",
       "    </tr>\n",
       "    <tr>\n",
       "      <th>441</th>\n",
       "      <td>441</td>\n",
       "      <td>Head Data Scientist – NLP lead, Novartis AI In...</td>\n",
       "      <td>-1</td>\n",
       "      <td>28-Jan-2020\\n\\nJob ID\\n279188BR\\n{\"QuestionNam...</td>\n",
       "      <td>3.8</td>\n",
       "      <td>Novartis\\n3.8</td>\n",
       "      <td>Cambridge, MA</td>\n",
       "      <td>Basel, Switzerland</td>\n",
       "      <td>10000+ employees</td>\n",
       "      <td>1996</td>\n",
       "      <td>Company - Public</td>\n",
       "      <td>Biotech &amp; Pharmaceuticals</td>\n",
       "      <td>Biotech &amp; Pharmaceuticals</td>\n",
       "      <td>$10+ billion (USD)</td>\n",
       "      <td>-1</td>\n",
       "    </tr>\n",
       "    <tr>\n",
       "      <th>460</th>\n",
       "      <td>460</td>\n",
       "      <td>Head Data Scientist – Image Analytics lead, No...</td>\n",
       "      <td>-1</td>\n",
       "      <td>06-Feb-2020\\n\\nJob ID\\n279186BR\\n{\"QuestionNam...</td>\n",
       "      <td>3.8</td>\n",
       "      <td>Novartis\\n3.8</td>\n",
       "      <td>Cambridge, MA</td>\n",
       "      <td>Basel, Switzerland</td>\n",
       "      <td>10000+ employees</td>\n",
       "      <td>1996</td>\n",
       "      <td>Company - Public</td>\n",
       "      <td>Biotech &amp; Pharmaceuticals</td>\n",
       "      <td>Biotech &amp; Pharmaceuticals</td>\n",
       "      <td>$10+ billion (USD)</td>\n",
       "      <td>-1</td>\n",
       "    </tr>\n",
       "    <tr>\n",
       "      <th>659</th>\n",
       "      <td>659</td>\n",
       "      <td>Head Data Scientist – NLP lead, Novartis AI In...</td>\n",
       "      <td>-1</td>\n",
       "      <td>28-Jan-2020\\n\\nJob ID\\n279188BR\\n{\"QuestionNam...</td>\n",
       "      <td>3.8</td>\n",
       "      <td>Novartis\\n3.8</td>\n",
       "      <td>Cambridge, MA</td>\n",
       "      <td>Basel, Switzerland</td>\n",
       "      <td>10000+ employees</td>\n",
       "      <td>1996</td>\n",
       "      <td>Company - Public</td>\n",
       "      <td>Biotech &amp; Pharmaceuticals</td>\n",
       "      <td>Biotech &amp; Pharmaceuticals</td>\n",
       "      <td>$10+ billion (USD)</td>\n",
       "      <td>-1</td>\n",
       "    </tr>\n",
       "    <tr>\n",
       "      <th>678</th>\n",
       "      <td>678</td>\n",
       "      <td>Sr Expert Data Science, Advanced Visual Analyt...</td>\n",
       "      <td>$80K-$133K (Glassdoor est.)</td>\n",
       "      <td>Posting Title\\nSr Expert Data Science, Advance...</td>\n",
       "      <td>3.8</td>\n",
       "      <td>Novartis\\n3.8</td>\n",
       "      <td>Cambridge, MA</td>\n",
       "      <td>Basel, Switzerland</td>\n",
       "      <td>10000+ employees</td>\n",
       "      <td>1996</td>\n",
       "      <td>Company - Public</td>\n",
       "      <td>Biotech &amp; Pharmaceuticals</td>\n",
       "      <td>Biotech &amp; Pharmaceuticals</td>\n",
       "      <td>$10+ billion (USD)</td>\n",
       "      <td>-1</td>\n",
       "    </tr>\n",
       "    <tr>\n",
       "      <th>686</th>\n",
       "      <td>686</td>\n",
       "      <td>Head Data Scientist – Image Analytics lead, No...</td>\n",
       "      <td>-1</td>\n",
       "      <td>06-Feb-2020\\n\\nJob ID\\n279186BR\\n{\"QuestionNam...</td>\n",
       "      <td>3.8</td>\n",
       "      <td>Novartis\\n3.8</td>\n",
       "      <td>Cambridge, MA</td>\n",
       "      <td>Basel, Switzerland</td>\n",
       "      <td>10000+ employees</td>\n",
       "      <td>1996</td>\n",
       "      <td>Company - Public</td>\n",
       "      <td>Biotech &amp; Pharmaceuticals</td>\n",
       "      <td>Biotech &amp; Pharmaceuticals</td>\n",
       "      <td>$10+ billion (USD)</td>\n",
       "      <td>-1</td>\n",
       "    </tr>\n",
       "    <tr>\n",
       "      <th>732</th>\n",
       "      <td>732</td>\n",
       "      <td>Data Scientist in Translational Medicine</td>\n",
       "      <td>$86K-$143K (Glassdoor est.)</td>\n",
       "      <td>29-Jan-2020\\n\\nJob ID\\n287818BR\\n{\"QuestionNam...</td>\n",
       "      <td>3.8</td>\n",
       "      <td>Novartis\\n3.8</td>\n",
       "      <td>Cambridge, MA</td>\n",
       "      <td>Basel, Switzerland</td>\n",
       "      <td>10000+ employees</td>\n",
       "      <td>1996</td>\n",
       "      <td>Company - Public</td>\n",
       "      <td>Biotech &amp; Pharmaceuticals</td>\n",
       "      <td>Biotech &amp; Pharmaceuticals</td>\n",
       "      <td>$10+ billion (USD)</td>\n",
       "      <td>-1</td>\n",
       "    </tr>\n",
       "    <tr>\n",
       "      <th>737</th>\n",
       "      <td>737</td>\n",
       "      <td>Senior Data Scientist – Visualization, Novarti...</td>\n",
       "      <td>$92K-$150K (Glassdoor est.)</td>\n",
       "      <td>10-Oct-2019\\n\\nJob ID\\n279466BR\\n{\"QuestionNam...</td>\n",
       "      <td>3.8</td>\n",
       "      <td>Novartis\\n3.8</td>\n",
       "      <td>Cambridge, MA</td>\n",
       "      <td>Basel, Switzerland</td>\n",
       "      <td>10000+ employees</td>\n",
       "      <td>1996</td>\n",
       "      <td>Company - Public</td>\n",
       "      <td>Biotech &amp; Pharmaceuticals</td>\n",
       "      <td>Biotech &amp; Pharmaceuticals</td>\n",
       "      <td>$10+ billion (USD)</td>\n",
       "      <td>-1</td>\n",
       "    </tr>\n",
       "    <tr>\n",
       "      <th>775</th>\n",
       "      <td>775</td>\n",
       "      <td>Head Data Scientist, Predictive Analytics Lead...</td>\n",
       "      <td>-1</td>\n",
       "      <td>10-Oct-2019\\n\\nJob ID\\n279335BR\\n{\"QuestionNam...</td>\n",
       "      <td>3.8</td>\n",
       "      <td>Novartis\\n3.8</td>\n",
       "      <td>Cambridge, MA</td>\n",
       "      <td>Basel, Switzerland</td>\n",
       "      <td>10000+ employees</td>\n",
       "      <td>1996</td>\n",
       "      <td>Company - Public</td>\n",
       "      <td>Biotech &amp; Pharmaceuticals</td>\n",
       "      <td>Biotech &amp; Pharmaceuticals</td>\n",
       "      <td>$10+ billion (USD)</td>\n",
       "      <td>-1</td>\n",
       "    </tr>\n",
       "    <tr>\n",
       "      <th>891</th>\n",
       "      <td>891</td>\n",
       "      <td>Head Data Scientist – NLP lead, Novartis AI In...</td>\n",
       "      <td>-1</td>\n",
       "      <td>28-Jan-2020\\n\\nJob ID\\n279188BR\\n{\"QuestionNam...</td>\n",
       "      <td>3.8</td>\n",
       "      <td>Novartis\\n3.8</td>\n",
       "      <td>Cambridge, MA</td>\n",
       "      <td>Basel, Switzerland</td>\n",
       "      <td>10000+ employees</td>\n",
       "      <td>1996</td>\n",
       "      <td>Company - Public</td>\n",
       "      <td>Biotech &amp; Pharmaceuticals</td>\n",
       "      <td>Biotech &amp; Pharmaceuticals</td>\n",
       "      <td>$10+ billion (USD)</td>\n",
       "      <td>-1</td>\n",
       "    </tr>\n",
       "    <tr>\n",
       "      <th>916</th>\n",
       "      <td>916</td>\n",
       "      <td>Sr Expert Data Science, Advanced Visual Analyt...</td>\n",
       "      <td>$80K-$133K (Glassdoor est.)</td>\n",
       "      <td>Posting Title\\nSr Expert Data Science, Advance...</td>\n",
       "      <td>3.8</td>\n",
       "      <td>Novartis\\n3.8</td>\n",
       "      <td>Cambridge, MA</td>\n",
       "      <td>Basel, Switzerland</td>\n",
       "      <td>10000+ employees</td>\n",
       "      <td>1996</td>\n",
       "      <td>Company - Public</td>\n",
       "      <td>Biotech &amp; Pharmaceuticals</td>\n",
       "      <td>Biotech &amp; Pharmaceuticals</td>\n",
       "      <td>$10+ billion (USD)</td>\n",
       "      <td>-1</td>\n",
       "    </tr>\n",
       "    <tr>\n",
       "      <th>927</th>\n",
       "      <td>927</td>\n",
       "      <td>Head Data Scientist – Image Analytics lead, No...</td>\n",
       "      <td>-1</td>\n",
       "      <td>06-Feb-2020\\n\\nJob ID\\n279186BR\\n{\"QuestionNam...</td>\n",
       "      <td>3.8</td>\n",
       "      <td>Novartis\\n3.8</td>\n",
       "      <td>Cambridge, MA</td>\n",
       "      <td>Basel, Switzerland</td>\n",
       "      <td>10000+ employees</td>\n",
       "      <td>1996</td>\n",
       "      <td>Company - Public</td>\n",
       "      <td>Biotech &amp; Pharmaceuticals</td>\n",
       "      <td>Biotech &amp; Pharmaceuticals</td>\n",
       "      <td>$10+ billion (USD)</td>\n",
       "      <td>-1</td>\n",
       "    </tr>\n",
       "  </tbody>\n",
       "</table>\n",
       "</div>"
      ],
      "text/plain": [
       "     Unnamed: 0                                          Job Title  \\\n",
       "33           33           Data Scientist / Machine Learning Expert   \n",
       "372         372  Senior Data Scientist: Causal & Predictive ana...   \n",
       "380         380           Data Scientist / Machine Learning Expert   \n",
       "441         441  Head Data Scientist – NLP lead, Novartis AI In...   \n",
       "460         460  Head Data Scientist – Image Analytics lead, No...   \n",
       "659         659  Head Data Scientist – NLP lead, Novartis AI In...   \n",
       "678         678  Sr Expert Data Science, Advanced Visual Analyt...   \n",
       "686         686  Head Data Scientist – Image Analytics lead, No...   \n",
       "732         732           Data Scientist in Translational Medicine   \n",
       "737         737  Senior Data Scientist – Visualization, Novarti...   \n",
       "775         775  Head Data Scientist, Predictive Analytics Lead...   \n",
       "891         891  Head Data Scientist – NLP lead, Novartis AI In...   \n",
       "916         916  Sr Expert Data Science, Advanced Visual Analyt...   \n",
       "927         927  Head Data Scientist – Image Analytics lead, No...   \n",
       "\n",
       "                 Salary Estimate  \\\n",
       "33   $86K-$143K (Glassdoor est.)   \n",
       "372  $92K-$150K (Glassdoor est.)   \n",
       "380  $86K-$143K (Glassdoor est.)   \n",
       "441                           -1   \n",
       "460                           -1   \n",
       "659                           -1   \n",
       "678  $80K-$133K (Glassdoor est.)   \n",
       "686                           -1   \n",
       "732  $86K-$143K (Glassdoor est.)   \n",
       "737  $92K-$150K (Glassdoor est.)   \n",
       "775                           -1   \n",
       "891                           -1   \n",
       "916  $80K-$133K (Glassdoor est.)   \n",
       "927                           -1   \n",
       "\n",
       "                                       Job Description  Rating   Company Name  \\\n",
       "33   Posting Title\\nData Scientist / Machine Learni...     3.8  Novartis\\n3.8   \n",
       "372  21-Jan-2020\\n\\nJob ID\\n279463BR\\n{\"QuestionNam...     3.8  Novartis\\n3.8   \n",
       "380  Posting Title\\nData Scientist / Machine Learni...     3.8  Novartis\\n3.8   \n",
       "441  28-Jan-2020\\n\\nJob ID\\n279188BR\\n{\"QuestionNam...     3.8  Novartis\\n3.8   \n",
       "460  06-Feb-2020\\n\\nJob ID\\n279186BR\\n{\"QuestionNam...     3.8  Novartis\\n3.8   \n",
       "659  28-Jan-2020\\n\\nJob ID\\n279188BR\\n{\"QuestionNam...     3.8  Novartis\\n3.8   \n",
       "678  Posting Title\\nSr Expert Data Science, Advance...     3.8  Novartis\\n3.8   \n",
       "686  06-Feb-2020\\n\\nJob ID\\n279186BR\\n{\"QuestionNam...     3.8  Novartis\\n3.8   \n",
       "732  29-Jan-2020\\n\\nJob ID\\n287818BR\\n{\"QuestionNam...     3.8  Novartis\\n3.8   \n",
       "737  10-Oct-2019\\n\\nJob ID\\n279466BR\\n{\"QuestionNam...     3.8  Novartis\\n3.8   \n",
       "775  10-Oct-2019\\n\\nJob ID\\n279335BR\\n{\"QuestionNam...     3.8  Novartis\\n3.8   \n",
       "891  28-Jan-2020\\n\\nJob ID\\n279188BR\\n{\"QuestionNam...     3.8  Novartis\\n3.8   \n",
       "916  Posting Title\\nSr Expert Data Science, Advance...     3.8  Novartis\\n3.8   \n",
       "927  06-Feb-2020\\n\\nJob ID\\n279186BR\\n{\"QuestionNam...     3.8  Novartis\\n3.8   \n",
       "\n",
       "          Location        Headquarters              Size  Founded  \\\n",
       "33   Cambridge, MA  Basel, Switzerland  10000+ employees     1996   \n",
       "372  Cambridge, MA  Basel, Switzerland  10000+ employees     1996   \n",
       "380  Cambridge, MA  Basel, Switzerland  10000+ employees     1996   \n",
       "441  Cambridge, MA  Basel, Switzerland  10000+ employees     1996   \n",
       "460  Cambridge, MA  Basel, Switzerland  10000+ employees     1996   \n",
       "659  Cambridge, MA  Basel, Switzerland  10000+ employees     1996   \n",
       "678  Cambridge, MA  Basel, Switzerland  10000+ employees     1996   \n",
       "686  Cambridge, MA  Basel, Switzerland  10000+ employees     1996   \n",
       "732  Cambridge, MA  Basel, Switzerland  10000+ employees     1996   \n",
       "737  Cambridge, MA  Basel, Switzerland  10000+ employees     1996   \n",
       "775  Cambridge, MA  Basel, Switzerland  10000+ employees     1996   \n",
       "891  Cambridge, MA  Basel, Switzerland  10000+ employees     1996   \n",
       "916  Cambridge, MA  Basel, Switzerland  10000+ employees     1996   \n",
       "927  Cambridge, MA  Basel, Switzerland  10000+ employees     1996   \n",
       "\n",
       "    Type of ownership                   Industry                     Sector  \\\n",
       "33   Company - Public  Biotech & Pharmaceuticals  Biotech & Pharmaceuticals   \n",
       "372  Company - Public  Biotech & Pharmaceuticals  Biotech & Pharmaceuticals   \n",
       "380  Company - Public  Biotech & Pharmaceuticals  Biotech & Pharmaceuticals   \n",
       "441  Company - Public  Biotech & Pharmaceuticals  Biotech & Pharmaceuticals   \n",
       "460  Company - Public  Biotech & Pharmaceuticals  Biotech & Pharmaceuticals   \n",
       "659  Company - Public  Biotech & Pharmaceuticals  Biotech & Pharmaceuticals   \n",
       "678  Company - Public  Biotech & Pharmaceuticals  Biotech & Pharmaceuticals   \n",
       "686  Company - Public  Biotech & Pharmaceuticals  Biotech & Pharmaceuticals   \n",
       "732  Company - Public  Biotech & Pharmaceuticals  Biotech & Pharmaceuticals   \n",
       "737  Company - Public  Biotech & Pharmaceuticals  Biotech & Pharmaceuticals   \n",
       "775  Company - Public  Biotech & Pharmaceuticals  Biotech & Pharmaceuticals   \n",
       "891  Company - Public  Biotech & Pharmaceuticals  Biotech & Pharmaceuticals   \n",
       "916  Company - Public  Biotech & Pharmaceuticals  Biotech & Pharmaceuticals   \n",
       "927  Company - Public  Biotech & Pharmaceuticals  Biotech & Pharmaceuticals   \n",
       "\n",
       "                Revenue Competitors  \n",
       "33   $10+ billion (USD)          -1  \n",
       "372  $10+ billion (USD)          -1  \n",
       "380  $10+ billion (USD)          -1  \n",
       "441  $10+ billion (USD)          -1  \n",
       "460  $10+ billion (USD)          -1  \n",
       "659  $10+ billion (USD)          -1  \n",
       "678  $10+ billion (USD)          -1  \n",
       "686  $10+ billion (USD)          -1  \n",
       "732  $10+ billion (USD)          -1  \n",
       "737  $10+ billion (USD)          -1  \n",
       "775  $10+ billion (USD)          -1  \n",
       "891  $10+ billion (USD)          -1  \n",
       "916  $10+ billion (USD)          -1  \n",
       "927  $10+ billion (USD)          -1  "
      ]
     },
     "execution_count": 15,
     "metadata": {},
     "output_type": "execute_result"
    }
   ],
   "source": [
    "data[data[\"Company Name\"]==\"Novartis\\n3.8\"]"
   ]
  },
  {
   "cell_type": "code",
   "execution_count": 3,
   "id": "a7b13caf",
   "metadata": {},
   "outputs": [],
   "source": [
    "# Getting rid of rows with Per hour salary\n",
    "to_drop=[]\n",
    "for i in range(len(data)):\n",
    "    if data.iloc[i,3].endswith(\"hr\") or data.iloc[i,3].endswith(\"mo\"):\n",
    "        to_drop.append(i)\n",
    "        \n",
    "data.drop(data.index[to_drop],inplace=True)"
   ]
  },
  {
   "cell_type": "code",
   "execution_count": 4,
   "id": "ca8602c5",
   "metadata": {},
   "outputs": [],
   "source": [
    "# Getting rid of rows with no salary\n",
    "to_drop=[]\n",
    "for i in range(len(data)):\n",
    "    if data.iloc[i,3]==\"-1\" and data.iloc[i,4]==\"-1\" and data.iloc[i,5]==\"-1\":\n",
    "        to_drop.append(i)\n",
    "        \n",
    "data.drop(data.index[to_drop],inplace=True)"
   ]
  },
  {
   "cell_type": "code",
   "execution_count": 5,
   "id": "2469bf31",
   "metadata": {},
   "outputs": [],
   "source": [
    "# Cleaning salary_min, salary_max and salary_mean\n",
    "def clean(salary):\n",
    "    if \"$\" in salary:\n",
    "        salary=salary.replace(\"$\",\"\")\n",
    "    if \"K\" in salary:\n",
    "        salary=salary.replace(\"K\",\"\")\n",
    "    if \"/yr (est.)\" in salary:\n",
    "        salary=salary.replace(\"/yr (est.)\",\"\")\n",
    "    if \"\\xa0\" in salary:\n",
    "        salary=salary.replace(\"\\xa0\",\"\")\n",
    "    if \",\" in salary:\n",
    "        salary=salary.replace(\",\",\"\")\n",
    "    \n",
    "    return salary"
   ]
  },
  {
   "cell_type": "code",
   "execution_count": 6,
   "id": "0c0ba9ff",
   "metadata": {},
   "outputs": [],
   "source": [
    "data[\"Salary_mean\"]=data[\"Salary_mean\"].apply(lambda x: clean(x))\n",
    "data[\"Salary_min\"]=data[\"Salary_min\"].apply(lambda x: clean(x))\n",
    "data[\"Salary_max\"]=data[\"Salary_max\"].apply(lambda x: clean(x))"
   ]
  },
  {
   "cell_type": "code",
   "execution_count": 7,
   "id": "f40f7d0e",
   "metadata": {},
   "outputs": [
    {
     "ename": "ValueError",
     "evalue": "Unable to parse string \"Size51 to 200 EmployeesFounded2007TypeNonprofit OrganizationIndustry-12 EducationSectorEducationRevenueUnknown / Non-Applicable\" at position 0",
     "output_type": "error",
     "traceback": [
      "\u001b[1;31m---------------------------------------------------------------------------\u001b[0m",
      "\u001b[1;31mValueError\u001b[0m                                Traceback (most recent call last)",
      "\u001b[1;32m~\\anaconda3\\lib\\site-packages\\pandas\\_libs\\lib.pyx\u001b[0m in \u001b[0;36mpandas._libs.lib.maybe_convert_numeric\u001b[1;34m()\u001b[0m\n",
      "\u001b[1;31mValueError\u001b[0m: Unable to parse string \"Size51 to 200 EmployeesFounded2007TypeNonprofit OrganizationIndustry-12 EducationSectorEducationRevenueUnknown / Non-Applicable\"",
      "\nDuring handling of the above exception, another exception occurred:\n",
      "\u001b[1;31mValueError\u001b[0m                                Traceback (most recent call last)",
      "\u001b[1;32m~\\AppData\\Local\\Temp/ipykernel_23316/202549275.py\u001b[0m in \u001b[0;36m<module>\u001b[1;34m\u001b[0m\n\u001b[0;32m      2\u001b[0m \u001b[0mdata\u001b[0m\u001b[1;33m[\u001b[0m\u001b[1;34m\"Salary_min\"\u001b[0m\u001b[1;33m]\u001b[0m\u001b[1;33m=\u001b[0m\u001b[0mpd\u001b[0m\u001b[1;33m.\u001b[0m\u001b[0mto_numeric\u001b[0m\u001b[1;33m(\u001b[0m\u001b[0mdata\u001b[0m\u001b[1;33m[\u001b[0m\u001b[1;34m\"Salary_min\"\u001b[0m\u001b[1;33m]\u001b[0m\u001b[1;33m)\u001b[0m\u001b[1;33m\u001b[0m\u001b[1;33m\u001b[0m\u001b[0m\n\u001b[0;32m      3\u001b[0m \u001b[0mdata\u001b[0m\u001b[1;33m[\u001b[0m\u001b[1;34m\"Salary_max\"\u001b[0m\u001b[1;33m]\u001b[0m\u001b[1;33m=\u001b[0m\u001b[0mpd\u001b[0m\u001b[1;33m.\u001b[0m\u001b[0mto_numeric\u001b[0m\u001b[1;33m(\u001b[0m\u001b[0mdata\u001b[0m\u001b[1;33m[\u001b[0m\u001b[1;34m\"Salary_max\"\u001b[0m\u001b[1;33m]\u001b[0m\u001b[1;33m)\u001b[0m\u001b[1;33m\u001b[0m\u001b[1;33m\u001b[0m\u001b[0m\n\u001b[1;32m----> 4\u001b[1;33m \u001b[0mdata\u001b[0m\u001b[1;33m[\u001b[0m\u001b[1;34m\"Salary_mean\"\u001b[0m\u001b[1;33m]\u001b[0m\u001b[1;33m=\u001b[0m\u001b[0mpd\u001b[0m\u001b[1;33m.\u001b[0m\u001b[0mto_numeric\u001b[0m\u001b[1;33m(\u001b[0m\u001b[0mdata\u001b[0m\u001b[1;33m[\u001b[0m\u001b[1;34m\"Salary_mean\"\u001b[0m\u001b[1;33m]\u001b[0m\u001b[1;33m)\u001b[0m\u001b[1;33m\u001b[0m\u001b[1;33m\u001b[0m\u001b[0m\n\u001b[0m",
      "\u001b[1;32m~\\anaconda3\\lib\\site-packages\\pandas\\core\\tools\\numeric.py\u001b[0m in \u001b[0;36mto_numeric\u001b[1;34m(arg, errors, downcast)\u001b[0m\n\u001b[0;32m    181\u001b[0m         \u001b[0mcoerce_numeric\u001b[0m \u001b[1;33m=\u001b[0m \u001b[0merrors\u001b[0m \u001b[1;32mnot\u001b[0m \u001b[1;32min\u001b[0m \u001b[1;33m(\u001b[0m\u001b[1;34m\"ignore\"\u001b[0m\u001b[1;33m,\u001b[0m \u001b[1;34m\"raise\"\u001b[0m\u001b[1;33m)\u001b[0m\u001b[1;33m\u001b[0m\u001b[1;33m\u001b[0m\u001b[0m\n\u001b[0;32m    182\u001b[0m         \u001b[1;32mtry\u001b[0m\u001b[1;33m:\u001b[0m\u001b[1;33m\u001b[0m\u001b[1;33m\u001b[0m\u001b[0m\n\u001b[1;32m--> 183\u001b[1;33m             values, _ = lib.maybe_convert_numeric(\n\u001b[0m\u001b[0;32m    184\u001b[0m                 \u001b[0mvalues\u001b[0m\u001b[1;33m,\u001b[0m \u001b[0mset\u001b[0m\u001b[1;33m(\u001b[0m\u001b[1;33m)\u001b[0m\u001b[1;33m,\u001b[0m \u001b[0mcoerce_numeric\u001b[0m\u001b[1;33m=\u001b[0m\u001b[0mcoerce_numeric\u001b[0m\u001b[1;33m\u001b[0m\u001b[1;33m\u001b[0m\u001b[0m\n\u001b[0;32m    185\u001b[0m             )\n",
      "\u001b[1;32m~\\anaconda3\\lib\\site-packages\\pandas\\_libs\\lib.pyx\u001b[0m in \u001b[0;36mpandas._libs.lib.maybe_convert_numeric\u001b[1;34m()\u001b[0m\n",
      "\u001b[1;31mValueError\u001b[0m: Unable to parse string \"Size51 to 200 EmployeesFounded2007TypeNonprofit OrganizationIndustry-12 EducationSectorEducationRevenueUnknown / Non-Applicable\" at position 0"
     ]
    }
   ],
   "source": [
    "# Converting Salaries to numbers\n",
    "data[\"Salary_min\"]=pd.to_numeric(data[\"Salary_min\"])\n",
    "data[\"Salary_max\"]=pd.to_numeric(data[\"Salary_max\"])\n",
    "data[\"Salary_mean\"]=pd.to_numeric(data[\"Salary_mean\"])"
   ]
  },
  {
   "cell_type": "code",
   "execution_count": 145,
   "id": "28ca05e9",
   "metadata": {},
   "outputs": [],
   "source": [
    "# Generating mean salary from min and max salary        \n",
    "#data[\"Salary_mean\"]=data[\"Salary_mean\"].apply(lambda x: (data))\n",
    "data[\"Salary_mean\"]=data[\"Salary_mean\"].where(data[\"Salary_mean\"]!=-1,(data[\"Salary_min\"]+data[\"Salary_max\"])/2*1000)"
   ]
  },
  {
   "cell_type": "code",
   "execution_count": null,
   "id": "aac3b7bb",
   "metadata": {},
   "outputs": [],
   "source": []
  },
  {
   "cell_type": "code",
   "execution_count": 147,
   "id": "294fad06",
   "metadata": {},
   "outputs": [],
   "source": [
    "# Getting rid of rows with -1 Rating\n",
    "to_drop=[]\n",
    "for i in range(len(data)):\n",
    "    if data.iloc[i,6]==-1:\n",
    "        to_drop.append(i)\n",
    "        \n",
    "data.drop(data.index[to_drop],inplace=True)"
   ]
  },
  {
   "cell_type": "code",
   "execution_count": 149,
   "id": "3b909d7a",
   "metadata": {
    "scrolled": true
   },
   "outputs": [],
   "source": [
    "# Separate city from state\n",
    "data[\"Location State\"]=data[\"Location\"].str.split(\",\").str[1]\n",
    "data[\"Location\"]=data[\"Location\"].str.split(\",\").str[0]"
   ]
  },
  {
   "cell_type": "code",
   "execution_count": 150,
   "id": "13a53944",
   "metadata": {},
   "outputs": [],
   "source": [
    "# Cleaning the company name field\n",
    "data[\"Company Name\"]=data[\"Company Name\"].str.split()\n"
   ]
  },
  {
   "cell_type": "code",
   "execution_count": 151,
   "id": "cacdfa18",
   "metadata": {},
   "outputs": [
    {
     "name": "stderr",
     "output_type": "stream",
     "text": [
      "C:\\Users\\marli\\AppData\\Local\\Temp/ipykernel_10116/735168316.py:2: SettingWithCopyWarning: \n",
      "A value is trying to be set on a copy of a slice from a DataFrame.\n",
      "Try using .loc[row_indexer,col_indexer] = value instead\n",
      "\n",
      "See the caveats in the documentation: https://pandas.pydata.org/pandas-docs/stable/user_guide/indexing.html#returning-a-view-versus-a-copy\n",
      "  data[\"Company Name\"]=data[\"Company Name\"].apply(lambda x: ' '.join(x[0:-1]))\n"
     ]
    }
   ],
   "source": [
    "data=data.dropna()\n",
    "data[\"Company Name\"]=data[\"Company Name\"].apply(lambda x: ' '.join(x[0:-1]))"
   ]
  },
  {
   "cell_type": "code",
   "execution_count": 155,
   "id": "4eaae90d",
   "metadata": {},
   "outputs": [
    {
     "name": "stderr",
     "output_type": "stream",
     "text": [
      "C:\\Users\\marli\\AppData\\Local\\Temp/ipykernel_10116/3680005145.py:1: SettingWithCopyWarning: \n",
      "A value is trying to be set on a copy of a slice from a DataFrame.\n",
      "Try using .loc[row_indexer,col_indexer] = value instead\n",
      "\n",
      "See the caveats in the documentation: https://pandas.pydata.org/pandas-docs/stable/user_guide/indexing.html#returning-a-view-versus-a-copy\n",
      "  data[\"Founded\"]=pd.to_numeric(data[\"Founded\"])\n",
      "C:\\Users\\marli\\AppData\\Local\\Temp/ipykernel_10116/3680005145.py:2: SettingWithCopyWarning: \n",
      "A value is trying to be set on a copy of a slice from a DataFrame.\n",
      "Try using .loc[row_indexer,col_indexer] = value instead\n",
      "\n",
      "See the caveats in the documentation: https://pandas.pydata.org/pandas-docs/stable/user_guide/indexing.html#returning-a-view-versus-a-copy\n",
      "  data[\"age\"]=data[\"Founded\"].apply(lambda x: 2022-x if x!=-1 else -1)\n"
     ]
    }
   ],
   "source": [
    "# Creating age column\n",
    "data[\"Founded\"]=pd.to_numeric(data[\"Founded\"])\n",
    "data[\"age\"]=data[\"Founded\"].apply(lambda x: 2022-x if x!=-1 else -1)"
   ]
  },
  {
   "cell_type": "code",
   "execution_count": 157,
   "id": "a24d28ac",
   "metadata": {},
   "outputs": [
    {
     "name": "stderr",
     "output_type": "stream",
     "text": [
      "C:\\Users\\marli\\AppData\\Local\\Temp/ipykernel_10116/1752247365.py:2: SettingWithCopyWarning: \n",
      "A value is trying to be set on a copy of a slice from a DataFrame.\n",
      "Try using .loc[row_indexer,col_indexer] = value instead\n",
      "\n",
      "See the caveats in the documentation: https://pandas.pydata.org/pandas-docs/stable/user_guide/indexing.html#returning-a-view-versus-a-copy\n",
      "  data[\"python\"]=data[\"Job Description\"].apply(lambda x: 1 if \"python\" in x.lower() else 0)\n"
     ]
    }
   ],
   "source": [
    "# Find if python is included in the job description\n",
    "data[\"python\"]=data[\"Job Description\"].apply(lambda x: 1 if \"python\" in x.lower() else 0)"
   ]
  },
  {
   "cell_type": "code",
   "execution_count": 180,
   "id": "210ef33a",
   "metadata": {},
   "outputs": [
    {
     "name": "stderr",
     "output_type": "stream",
     "text": [
      "C:\\Users\\marli\\AppData\\Local\\Temp/ipykernel_10116/2033754052.py:2: SettingWithCopyWarning: \n",
      "A value is trying to be set on a copy of a slice from a DataFrame.\n",
      "Try using .loc[row_indexer,col_indexer] = value instead\n",
      "\n",
      "See the caveats in the documentation: https://pandas.pydata.org/pandas-docs/stable/user_guide/indexing.html#returning-a-view-versus-a-copy\n",
      "  data[\"R\"]=data[\"Job Description\"].apply(lambda x: 1 if \" r \" in x.lower() or \".r \" in x.lower() or \" r.\" in x.lower() else 0)\n"
     ]
    }
   ],
   "source": [
    "# Find if R is included in the job description\n",
    "data[\"R\"]=data[\"Job Description\"].apply(lambda x: 1 if \" r \" in x.lower() or \".r \" in x.lower() or \" r.\" in x.lower() else 0)"
   ]
  },
  {
   "cell_type": "code",
   "execution_count": 159,
   "id": "2e0d9e3a",
   "metadata": {},
   "outputs": [
    {
     "name": "stderr",
     "output_type": "stream",
     "text": [
      "C:\\Users\\marli\\AppData\\Local\\Temp/ipykernel_10116/1595851719.py:2: SettingWithCopyWarning: \n",
      "A value is trying to be set on a copy of a slice from a DataFrame.\n",
      "Try using .loc[row_indexer,col_indexer] = value instead\n",
      "\n",
      "See the caveats in the documentation: https://pandas.pydata.org/pandas-docs/stable/user_guide/indexing.html#returning-a-view-versus-a-copy\n",
      "  data[\"r_studio\"]=data[\"Job Description\"].apply(lambda x: 1 if \"r studio\" in x.lower() else 0)\n"
     ]
    }
   ],
   "source": [
    "# Find if R Studio is included in the job description\n",
    "data[\"r_studio\"]=data[\"Job Description\"].apply(lambda x: 1 if \"r studio\" in x.lower() else 0)"
   ]
  },
  {
   "cell_type": "code",
   "execution_count": 160,
   "id": "f99ae509",
   "metadata": {},
   "outputs": [
    {
     "name": "stderr",
     "output_type": "stream",
     "text": [
      "C:\\Users\\marli\\AppData\\Local\\Temp/ipykernel_10116/3050218868.py:2: SettingWithCopyWarning: \n",
      "A value is trying to be set on a copy of a slice from a DataFrame.\n",
      "Try using .loc[row_indexer,col_indexer] = value instead\n",
      "\n",
      "See the caveats in the documentation: https://pandas.pydata.org/pandas-docs/stable/user_guide/indexing.html#returning-a-view-versus-a-copy\n",
      "  data[\"spark\"]=data[\"Job Description\"].apply(lambda x: 1 if \"spark\" in x.lower() else 0)\n"
     ]
    }
   ],
   "source": [
    "# Find if spark is included in the job description\n",
    "data[\"spark\"]=data[\"Job Description\"].apply(lambda x: 1 if \"spark\" in x.lower() else 0)"
   ]
  },
  {
   "cell_type": "code",
   "execution_count": 161,
   "id": "4e582cad",
   "metadata": {},
   "outputs": [
    {
     "name": "stderr",
     "output_type": "stream",
     "text": [
      "C:\\Users\\marli\\AppData\\Local\\Temp/ipykernel_10116/727124707.py:2: SettingWithCopyWarning: \n",
      "A value is trying to be set on a copy of a slice from a DataFrame.\n",
      "Try using .loc[row_indexer,col_indexer] = value instead\n",
      "\n",
      "See the caveats in the documentation: https://pandas.pydata.org/pandas-docs/stable/user_guide/indexing.html#returning-a-view-versus-a-copy\n",
      "  data[\"excel\"]=data[\"Job Description\"].apply(lambda x: 1 if \"excel\" in x.lower() else 0)\n"
     ]
    }
   ],
   "source": [
    "# Find if Excel is included in the job description\n",
    "data[\"excel\"]=data[\"Job Description\"].apply(lambda x: 1 if \"excel\" in x.lower() else 0)"
   ]
  },
  {
   "cell_type": "code",
   "execution_count": 162,
   "id": "47017cc8",
   "metadata": {},
   "outputs": [
    {
     "name": "stderr",
     "output_type": "stream",
     "text": [
      "C:\\Users\\marli\\AppData\\Local\\Temp/ipykernel_10116/1387601072.py:2: SettingWithCopyWarning: \n",
      "A value is trying to be set on a copy of a slice from a DataFrame.\n",
      "Try using .loc[row_indexer,col_indexer] = value instead\n",
      "\n",
      "See the caveats in the documentation: https://pandas.pydata.org/pandas-docs/stable/user_guide/indexing.html#returning-a-view-versus-a-copy\n",
      "  data[\"aws\"]=data[\"Job Description\"].apply(lambda x: 1 if \"aws\" in x.lower() else 0)\n"
     ]
    }
   ],
   "source": [
    "# Find if aws is included in the job description\n",
    "data[\"aws\"]=data[\"Job Description\"].apply(lambda x: 1 if \"aws\" in x.lower() else 0)"
   ]
  },
  {
   "cell_type": "code",
   "execution_count": 163,
   "id": "db690108",
   "metadata": {},
   "outputs": [
    {
     "name": "stderr",
     "output_type": "stream",
     "text": [
      "C:\\Users\\marli\\AppData\\Local\\Temp/ipykernel_10116/3918949926.py:19: SettingWithCopyWarning: \n",
      "A value is trying to be set on a copy of a slice from a DataFrame.\n",
      "Try using .loc[row_indexer,col_indexer] = value instead\n",
      "\n",
      "See the caveats in the documentation: https://pandas.pydata.org/pandas-docs/stable/user_guide/indexing.html#returning-a-view-versus-a-copy\n",
      "  data[\"clean_job_title\"]=data[\"Job Title\"].apply(lambda x: find_title(x))\n"
     ]
    }
   ],
   "source": [
    "# Cleaning Job title - Getting position\n",
    "\n",
    "def find_title(title):\n",
    "    if \"data scientist\" in title.lower():\n",
    "        return \"data scientist\"\n",
    "    elif \"data engineer\" in title.lower():\n",
    "        return \"data engineer\"\n",
    "    elif \"analyst\" in title.lower():\n",
    "        return \"analyst\"\n",
    "    elif \"machine learning\" in title.lower():\n",
    "        return \"mle\"\n",
    "    elif \"manager\" in title.lower():\n",
    "        return \"manager\"\n",
    "    elif \"director\" in title.lower():\n",
    "        return \"director\"\n",
    "    else:\n",
    "        return \"na\"\n",
    "    \n",
    "data[\"clean_job_title\"]=data[\"Job Title\"].apply(lambda x: find_title(x))"
   ]
  },
  {
   "cell_type": "code",
   "execution_count": 164,
   "id": "5a266dee",
   "metadata": {},
   "outputs": [
    {
     "name": "stderr",
     "output_type": "stream",
     "text": [
      "C:\\Users\\marli\\AppData\\Local\\Temp/ipykernel_10116/159415858.py:11: SettingWithCopyWarning: \n",
      "A value is trying to be set on a copy of a slice from a DataFrame.\n",
      "Try using .loc[row_indexer,col_indexer] = value instead\n",
      "\n",
      "See the caveats in the documentation: https://pandas.pydata.org/pandas-docs/stable/user_guide/indexing.html#returning-a-view-versus-a-copy\n",
      "  data[\"seniority\"]=data[\"Job Title\"].apply(lambda x: find_seniority(x))\n"
     ]
    }
   ],
   "source": [
    "# Cleaning Job title - Getting seniority\n",
    "\n",
    "def find_seniority(title):\n",
    "    if \"sr\" in title.lower() or \"senior\" in title.lower() or \"lead\" in title.lower() or \"principal\" in title.lower():\n",
    "        return \"senior\"\n",
    "    elif \"jr\" in title.lower() or \"junior\" in title.lower():\n",
    "        return \"junior\"\n",
    "    else:\n",
    "        return \"na\"\n",
    "    \n",
    "data[\"seniority\"]=data[\"Job Title\"].apply(lambda x: find_seniority(x))"
   ]
  },
  {
   "cell_type": "code",
   "execution_count": 27,
   "id": "54810c84",
   "metadata": {},
   "outputs": [
    {
     "name": "stderr",
     "output_type": "stream",
     "text": [
      "C:\\Users\\marli\\AppData\\Local\\Temp/ipykernel_8248/2136829178.py:2: SettingWithCopyWarning: \n",
      "A value is trying to be set on a copy of a slice from a DataFrame.\n",
      "Try using .loc[row_indexer,col_indexer] = value instead\n",
      "\n",
      "See the caveats in the documentation: https://pandas.pydata.org/pandas-docs/stable/user_guide/indexing.html#returning-a-view-versus-a-copy\n",
      "  data2[\"Location State\"]=data2[\"Location State\"].apply(lambda x: \" CA\" if x==\" Los Angeles\" else x)\n"
     ]
    }
   ],
   "source": [
    "# Fixing Los Angeles as a state\n",
    "data2[\"Location State\"]=data2[\"Location State\"].apply(lambda x: \" CA\" if x==\" Los Angeles\" else x)"
   ]
  },
  {
   "cell_type": "code",
   "execution_count": 166,
   "id": "af0866fa",
   "metadata": {},
   "outputs": [
    {
     "name": "stderr",
     "output_type": "stream",
     "text": [
      "C:\\Users\\marli\\AppData\\Local\\Temp/ipykernel_10116/1279693496.py:2: SettingWithCopyWarning: \n",
      "A value is trying to be set on a copy of a slice from a DataFrame.\n",
      "Try using .loc[row_indexer,col_indexer] = value instead\n",
      "\n",
      "See the caveats in the documentation: https://pandas.pydata.org/pandas-docs/stable/user_guide/indexing.html#returning-a-view-versus-a-copy\n",
      "  data[\"desc_length\"]=data[\"Job Description\"].apply(lambda x: len(x))\n"
     ]
    }
   ],
   "source": [
    "# Description length\n",
    "data[\"desc_length\"]=data[\"Job Description\"].apply(lambda x: len(x))"
   ]
  },
  {
   "cell_type": "markdown",
   "id": "d2ec1ce9",
   "metadata": {},
   "source": [
    "### EDA"
   ]
  },
  {
   "cell_type": "code",
   "execution_count": 167,
   "id": "646af9dd",
   "metadata": {},
   "outputs": [],
   "source": [
    "import matplotlib.pyplot as plt\n",
    "import seaborn as sns"
   ]
  },
  {
   "cell_type": "code",
   "execution_count": 181,
   "id": "086738de",
   "metadata": {},
   "outputs": [
    {
     "data": {
      "text/html": [
       "<div>\n",
       "<style scoped>\n",
       "    .dataframe tbody tr th:only-of-type {\n",
       "        vertical-align: middle;\n",
       "    }\n",
       "\n",
       "    .dataframe tbody tr th {\n",
       "        vertical-align: top;\n",
       "    }\n",
       "\n",
       "    .dataframe thead th {\n",
       "        text-align: right;\n",
       "    }\n",
       "</style>\n",
       "<table border=\"1\" class=\"dataframe\">\n",
       "  <thead>\n",
       "    <tr style=\"text-align: right;\">\n",
       "      <th></th>\n",
       "      <th>Unnamed: 0</th>\n",
       "      <th>Salary_min</th>\n",
       "      <th>Salary_max</th>\n",
       "      <th>Salary_mean</th>\n",
       "      <th>Rating</th>\n",
       "      <th>Founded</th>\n",
       "      <th>age</th>\n",
       "      <th>python</th>\n",
       "      <th>R</th>\n",
       "      <th>r_studio</th>\n",
       "      <th>spark</th>\n",
       "      <th>excel</th>\n",
       "      <th>aws</th>\n",
       "      <th>desc_length</th>\n",
       "    </tr>\n",
       "  </thead>\n",
       "  <tbody>\n",
       "    <tr>\n",
       "      <th>count</th>\n",
       "      <td>79.000000</td>\n",
       "      <td>79.000000</td>\n",
       "      <td>79.000000</td>\n",
       "      <td>79.000000</td>\n",
       "      <td>79.000000</td>\n",
       "      <td>79.000000</td>\n",
       "      <td>79.000000</td>\n",
       "      <td>79.000000</td>\n",
       "      <td>79.000000</td>\n",
       "      <td>79.0</td>\n",
       "      <td>79.000000</td>\n",
       "      <td>79.000000</td>\n",
       "      <td>79.0</td>\n",
       "      <td>79.000000</td>\n",
       "    </tr>\n",
       "    <tr>\n",
       "      <th>mean</th>\n",
       "      <td>104.835443</td>\n",
       "      <td>10.468354</td>\n",
       "      <td>10.468354</td>\n",
       "      <td>111082.316456</td>\n",
       "      <td>4.055696</td>\n",
       "      <td>1360.582278</td>\n",
       "      <td>20.911392</td>\n",
       "      <td>0.734177</td>\n",
       "      <td>0.240506</td>\n",
       "      <td>0.0</td>\n",
       "      <td>0.075949</td>\n",
       "      <td>0.379747</td>\n",
       "      <td>0.0</td>\n",
       "      <td>4011.025316</td>\n",
       "    </tr>\n",
       "    <tr>\n",
       "      <th>std</th>\n",
       "      <td>57.535369</td>\n",
       "      <td>40.258089</td>\n",
       "      <td>40.258089</td>\n",
       "      <td>29050.507032</td>\n",
       "      <td>0.589164</td>\n",
       "      <td>933.331235</td>\n",
       "      <td>45.151366</td>\n",
       "      <td>0.444593</td>\n",
       "      <td>0.430122</td>\n",
       "      <td>0.0</td>\n",
       "      <td>0.266610</td>\n",
       "      <td>0.488425</td>\n",
       "      <td>0.0</td>\n",
       "      <td>2108.311841</td>\n",
       "    </tr>\n",
       "    <tr>\n",
       "      <th>min</th>\n",
       "      <td>1.000000</td>\n",
       "      <td>-1.000000</td>\n",
       "      <td>-1.000000</td>\n",
       "      <td>34618.000000</td>\n",
       "      <td>3.000000</td>\n",
       "      <td>-1.000000</td>\n",
       "      <td>-1.000000</td>\n",
       "      <td>0.000000</td>\n",
       "      <td>0.000000</td>\n",
       "      <td>0.0</td>\n",
       "      <td>0.000000</td>\n",
       "      <td>0.000000</td>\n",
       "      <td>0.0</td>\n",
       "      <td>852.000000</td>\n",
       "    </tr>\n",
       "    <tr>\n",
       "      <th>25%</th>\n",
       "      <td>56.000000</td>\n",
       "      <td>-1.000000</td>\n",
       "      <td>-1.000000</td>\n",
       "      <td>89025.000000</td>\n",
       "      <td>3.650000</td>\n",
       "      <td>-1.000000</td>\n",
       "      <td>-1.000000</td>\n",
       "      <td>0.000000</td>\n",
       "      <td>0.000000</td>\n",
       "      <td>0.0</td>\n",
       "      <td>0.000000</td>\n",
       "      <td>0.000000</td>\n",
       "      <td>0.0</td>\n",
       "      <td>2819.000000</td>\n",
       "    </tr>\n",
       "    <tr>\n",
       "      <th>50%</th>\n",
       "      <td>104.000000</td>\n",
       "      <td>-1.000000</td>\n",
       "      <td>-1.000000</td>\n",
       "      <td>118804.000000</td>\n",
       "      <td>4.000000</td>\n",
       "      <td>2010.000000</td>\n",
       "      <td>6.000000</td>\n",
       "      <td>1.000000</td>\n",
       "      <td>0.000000</td>\n",
       "      <td>0.0</td>\n",
       "      <td>0.000000</td>\n",
       "      <td>0.000000</td>\n",
       "      <td>0.0</td>\n",
       "      <td>3669.000000</td>\n",
       "    </tr>\n",
       "    <tr>\n",
       "      <th>75%</th>\n",
       "      <td>156.500000</td>\n",
       "      <td>-1.000000</td>\n",
       "      <td>-1.000000</td>\n",
       "      <td>128843.000000</td>\n",
       "      <td>4.700000</td>\n",
       "      <td>2013.000000</td>\n",
       "      <td>11.000000</td>\n",
       "      <td>1.000000</td>\n",
       "      <td>0.000000</td>\n",
       "      <td>0.0</td>\n",
       "      <td>0.000000</td>\n",
       "      <td>1.000000</td>\n",
       "      <td>0.0</td>\n",
       "      <td>4858.000000</td>\n",
       "    </tr>\n",
       "    <tr>\n",
       "      <th>max</th>\n",
       "      <td>199.000000</td>\n",
       "      <td>150.000000</td>\n",
       "      <td>150.000000</td>\n",
       "      <td>152461.000000</td>\n",
       "      <td>5.000000</td>\n",
       "      <td>2019.000000</td>\n",
       "      <td>158.000000</td>\n",
       "      <td>1.000000</td>\n",
       "      <td>1.000000</td>\n",
       "      <td>0.0</td>\n",
       "      <td>1.000000</td>\n",
       "      <td>1.000000</td>\n",
       "      <td>0.0</td>\n",
       "      <td>8266.000000</td>\n",
       "    </tr>\n",
       "  </tbody>\n",
       "</table>\n",
       "</div>"
      ],
      "text/plain": [
       "       Unnamed: 0  Salary_min  Salary_max    Salary_mean     Rating  \\\n",
       "count   79.000000   79.000000   79.000000      79.000000  79.000000   \n",
       "mean   104.835443   10.468354   10.468354  111082.316456   4.055696   \n",
       "std     57.535369   40.258089   40.258089   29050.507032   0.589164   \n",
       "min      1.000000   -1.000000   -1.000000   34618.000000   3.000000   \n",
       "25%     56.000000   -1.000000   -1.000000   89025.000000   3.650000   \n",
       "50%    104.000000   -1.000000   -1.000000  118804.000000   4.000000   \n",
       "75%    156.500000   -1.000000   -1.000000  128843.000000   4.700000   \n",
       "max    199.000000  150.000000  150.000000  152461.000000   5.000000   \n",
       "\n",
       "           Founded         age     python          R  r_studio      spark  \\\n",
       "count    79.000000   79.000000  79.000000  79.000000      79.0  79.000000   \n",
       "mean   1360.582278   20.911392   0.734177   0.240506       0.0   0.075949   \n",
       "std     933.331235   45.151366   0.444593   0.430122       0.0   0.266610   \n",
       "min      -1.000000   -1.000000   0.000000   0.000000       0.0   0.000000   \n",
       "25%      -1.000000   -1.000000   0.000000   0.000000       0.0   0.000000   \n",
       "50%    2010.000000    6.000000   1.000000   0.000000       0.0   0.000000   \n",
       "75%    2013.000000   11.000000   1.000000   0.000000       0.0   0.000000   \n",
       "max    2019.000000  158.000000   1.000000   1.000000       0.0   1.000000   \n",
       "\n",
       "           excel   aws  desc_length  \n",
       "count  79.000000  79.0    79.000000  \n",
       "mean    0.379747   0.0  4011.025316  \n",
       "std     0.488425   0.0  2108.311841  \n",
       "min     0.000000   0.0   852.000000  \n",
       "25%     0.000000   0.0  2819.000000  \n",
       "50%     0.000000   0.0  3669.000000  \n",
       "75%     1.000000   0.0  4858.000000  \n",
       "max     1.000000   0.0  8266.000000  "
      ]
     },
     "execution_count": 181,
     "metadata": {},
     "output_type": "execute_result"
    }
   ],
   "source": [
    "data.describe()"
   ]
  },
  {
   "cell_type": "code",
   "execution_count": 170,
   "id": "195cd7d1",
   "metadata": {},
   "outputs": [
    {
     "data": {
      "text/plain": [
       "<AxesSubplot:>"
      ]
     },
     "execution_count": 170,
     "metadata": {},
     "output_type": "execute_result"
    },
    {
     "data": {
      "image/png": "[encoded data removed]",
      "text/plain": [
       "<Figure size 432x288 with 1 Axes>"
      ]
     },
     "metadata": {
      "needs_background": "light"
     },
     "output_type": "display_data"
    }
   ],
   "source": [
    "# Histogram for Average salary\n",
    "data[\"Salary_mean\"].hist()"
   ]
  },
  {
   "cell_type": "code",
   "execution_count": 171,
   "id": "c4597b48",
   "metadata": {},
   "outputs": [
    {
     "data": {
      "text/plain": [
       "<AxesSubplot:>"
      ]
     },
     "execution_count": 171,
     "metadata": {},
     "output_type": "execute_result"
    },
    {
     "data": {
      "image/png": "[encoded data removed]",
      "text/plain": [
       "<Figure size 432x288 with 1 Axes>"
      ]
     },
     "metadata": {
      "needs_background": "light"
     },
     "output_type": "display_data"
    }
   ],
   "source": [
    "# Histogram for ratings\n",
    "data[\"Rating\"].hist()"
   ]
  },
  {
   "cell_type": "code",
   "execution_count": 173,
   "id": "1d649108",
   "metadata": {},
   "outputs": [
    {
     "data": {
      "text/plain": [
       "<AxesSubplot:>"
      ]
     },
     "execution_count": 173,
     "metadata": {},
     "output_type": "execute_result"
    },
    {
     "data": {
      "image/png": "[encoded data removed]",
      "text/plain": [
       "<Figure size 432x288 with 1 Axes>"
      ]
     },
     "metadata": {
      "needs_background": "light"
     },
     "output_type": "display_data"
    }
   ],
   "source": [
    "# Boxplot for Average salary\n",
    "data.boxplot(column=\"Salary_mean\")"
   ]
  },
  {
   "cell_type": "code",
   "execution_count": 174,
   "id": "70cef4d0",
   "metadata": {},
   "outputs": [
    {
     "data": {
      "text/html": [
       "<div>\n",
       "<style scoped>\n",
       "    .dataframe tbody tr th:only-of-type {\n",
       "        vertical-align: middle;\n",
       "    }\n",
       "\n",
       "    .dataframe tbody tr th {\n",
       "        vertical-align: top;\n",
       "    }\n",
       "\n",
       "    .dataframe thead th {\n",
       "        text-align: right;\n",
       "    }\n",
       "</style>\n",
       "<table border=\"1\" class=\"dataframe\">\n",
       "  <thead>\n",
       "    <tr style=\"text-align: right;\">\n",
       "      <th></th>\n",
       "      <th>age</th>\n",
       "      <th>Salary_mean</th>\n",
       "      <th>Rating</th>\n",
       "      <th>desc_length</th>\n",
       "    </tr>\n",
       "  </thead>\n",
       "  <tbody>\n",
       "    <tr>\n",
       "      <th>age</th>\n",
       "      <td>1.000000</td>\n",
       "      <td>-0.352053</td>\n",
       "      <td>0.022936</td>\n",
       "      <td>0.589463</td>\n",
       "    </tr>\n",
       "    <tr>\n",
       "      <th>Salary_mean</th>\n",
       "      <td>-0.352053</td>\n",
       "      <td>1.000000</td>\n",
       "      <td>-0.327315</td>\n",
       "      <td>-0.482042</td>\n",
       "    </tr>\n",
       "    <tr>\n",
       "      <th>Rating</th>\n",
       "      <td>0.022936</td>\n",
       "      <td>-0.327315</td>\n",
       "      <td>1.000000</td>\n",
       "      <td>-0.003363</td>\n",
       "    </tr>\n",
       "    <tr>\n",
       "      <th>desc_length</th>\n",
       "      <td>0.589463</td>\n",
       "      <td>-0.482042</td>\n",
       "      <td>-0.003363</td>\n",
       "      <td>1.000000</td>\n",
       "    </tr>\n",
       "  </tbody>\n",
       "</table>\n",
       "</div>"
      ],
      "text/plain": [
       "                  age  Salary_mean    Rating  desc_length\n",
       "age          1.000000    -0.352053  0.022936     0.589463\n",
       "Salary_mean -0.352053     1.000000 -0.327315    -0.482042\n",
       "Rating       0.022936    -0.327315  1.000000    -0.003363\n",
       "desc_length  0.589463    -0.482042 -0.003363     1.000000"
      ]
     },
     "execution_count": 174,
     "metadata": {},
     "output_type": "execute_result"
    }
   ],
   "source": [
    "# Finding and plotting correlation\n",
    "data[[\"age\",\"Salary_mean\",\"Rating\",\"desc_length\"]].corr()"
   ]
  },
  {
   "cell_type": "code",
   "execution_count": 175,
   "id": "01476264",
   "metadata": {},
   "outputs": [
    {
     "data": {
      "text/plain": [
       "<AxesSubplot:>"
      ]
     },
     "execution_count": 175,
     "metadata": {},
     "output_type": "execute_result"
    },
    {
     "data": {
      "image/png": "[encoded data removed]",
      "text/plain": [
       "<Figure size 432x288 with 2 Axes>"
      ]
     },
     "metadata": {
      "needs_background": "light"
     },
     "output_type": "display_data"
    }
   ],
   "source": [
    "sns.heatmap(data[[\"age\",\"Salary_mean\",\"Rating\",\"desc_length\"]].corr())"
   ]
  },
  {
   "cell_type": "code",
   "execution_count": null,
   "id": "dc586f55",
   "metadata": {},
   "outputs": [],
   "source": []
  },
  {
   "cell_type": "code",
   "execution_count": 184,
   "id": "ba2979e7",
   "metadata": {},
   "outputs": [],
   "source": [
    "# Graphs for categorical variables\n",
    "df_cat=data[[\"Size\", \"Industry\",\"Revenue\",\"Location State\",\"python\",\"r_studio\",\"R\",\"spark\",\"aws\",\"excel\",\"clean_job_title\",\"seniority\"]]"
   ]
  },
  {
   "cell_type": "code",
   "execution_count": 185,
   "id": "db234ccd",
   "metadata": {
    "scrolled": false
   },
   "outputs": [
    {
     "name": "stdout",
     "output_type": "stream",
     "text": [
      "Bar plot for Size\n"
     ]
    },
    {
     "data": {
      "image/png": "[encoded data removed]",
      "text/plain": [
       "<Figure size 432x288 with 1 Axes>"
      ]
     },
     "metadata": {
      "needs_background": "light"
     },
     "output_type": "display_data"
    },
    {
     "name": "stdout",
     "output_type": "stream",
     "text": [
      "Bar plot for Industry\n"
     ]
    },
    {
     "data": {
      "image/png": "[encoded data removed]",
      "text/plain": [
       "<Figure size 432x288 with 1 Axes>"
      ]
     },
     "metadata": {
      "needs_background": "light"
     },
     "output_type": "display_data"
    },
    {
     "name": "stdout",
     "output_type": "stream",
     "text": [
      "Bar plot for Revenue\n"
     ]
    },
    {
     "data": {
      "image/png": "[encoded data removed]",
      "text/plain": [
       "<Figure size 432x288 with 1 Axes>"
      ]
     },
     "metadata": {
      "needs_background": "light"
     },
     "output_type": "display_data"
    },
    {
     "name": "stdout",
     "output_type": "stream",
     "text": [
      "Bar plot for Location State\n"
     ]
    },
    {
     "data": {
      "image/png": "[encoded data removed]",
      "text/plain": [
       "<Figure size 432x288 with 1 Axes>"
      ]
     },
     "metadata": {
      "needs_background": "light"
     },
     "output_type": "display_data"
    },
    {
     "name": "stdout",
     "output_type": "stream",
     "text": [
      "Bar plot for python\n"
     ]
    },
    {
     "data": {
      "image/png": "[encoded data removed]",
      "text/plain": [
       "<Figure size 432x288 with 1 Axes>"
      ]
     },
     "metadata": {
      "needs_background": "light"
     },
     "output_type": "display_data"
    },
    {
     "name": "stdout",
     "output_type": "stream",
     "text": [
      "Bar plot for r_studio\n"
     ]
    },
    {
     "data": {
      "image/png": "[encoded data removed]",
      "text/plain": [
       "<Figure size 432x288 with 1 Axes>"
      ]
     },
     "metadata": {
      "needs_background": "light"
     },
     "output_type": "display_data"
    },
    {
     "name": "stdout",
     "output_type": "stream",
     "text": [
      "Bar plot for R\n"
     ]
    },
    {
     "data": {
      "image/png": "[encoded data removed]",
      "text/plain": [
       "<Figure size 432x288 with 1 Axes>"
      ]
     },
     "metadata": {
      "needs_background": "light"
     },
     "output_type": "display_data"
    },
    {
     "name": "stdout",
     "output_type": "stream",
     "text": [
      "Bar plot for spark\n"
     ]
    },
    {
     "data": {
      "image/png": "[encoded data removed]",
      "text/plain": [
       "<Figure size 432x288 with 1 Axes>"
      ]
     },
     "metadata": {
      "needs_background": "light"
     },
     "output_type": "display_data"
    },
    {
     "name": "stdout",
     "output_type": "stream",
     "text": [
      "Bar plot for aws\n"
     ]
    },
    {
     "data": {
      "image/png": "[encoded data removed]",
      "text/plain": [
       "<Figure size 432x288 with 1 Axes>"
      ]
     },
     "metadata": {
      "needs_background": "light"
     },
     "output_type": "display_data"
    },
    {
     "name": "stdout",
     "output_type": "stream",
     "text": [
      "Bar plot for excel\n"
     ]
    },
    {
     "data": {
      "image/png": "[encoded data removed]",
      "text/plain": [
       "<Figure size 432x288 with 1 Axes>"
      ]
     },
     "metadata": {
      "needs_background": "light"
     },
     "output_type": "display_data"
    },
    {
     "name": "stdout",
     "output_type": "stream",
     "text": [
      "Bar plot for clean_job_title\n"
     ]
    },
    {
     "data": {
      "image/png": "[encoded data removed]",
      "text/plain": [
       "<Figure size 432x288 with 1 Axes>"
      ]
     },
     "metadata": {
      "needs_background": "light"
     },
     "output_type": "display_data"
    },
    {
     "name": "stdout",
     "output_type": "stream",
     "text": [
      "Bar plot for seniority\n"
     ]
    },
    {
     "data": {
      "image/png": "[encoded data removed]",
      "text/plain": [
       "<Figure size 432x288 with 1 Axes>"
      ]
     },
     "metadata": {
      "needs_background": "light"
     },
     "output_type": "display_data"
    }
   ],
   "source": [
    "for i in df_cat:\n",
    "    temp_x=df_cat[i].value_counts()\n",
    "    print(\"Bar plot for \"+i)\n",
    "    sns.barplot(x=temp_x, y=temp_x.index)\n",
    "    plt.show()"
   ]
  },
  {
   "cell_type": "code",
   "execution_count": 187,
   "id": "7a8b1529",
   "metadata": {},
   "outputs": [
    {
     "data": {
      "text/plain": [
       "clean_job_title  seniority\n",
       "data scientist   na           118362.642857\n",
       "manager          na            64321.000000\n",
       "na               na            53224.625000\n",
       "Name: Salary_mean, dtype: float64"
      ]
     },
     "execution_count": 187,
     "metadata": {},
     "output_type": "execute_result"
    }
   ],
   "source": [
    "data.groupby([\"clean_job_title\",\"seniority\"])[\"Salary_mean\"].mean()"
   ]
  },
  {
   "cell_type": "code",
   "execution_count": 188,
   "id": "a383cee0",
   "metadata": {},
   "outputs": [
    {
     "data": {
      "text/plain": [
       "python\n",
       "0     92825.095238\n",
       "1    117692.689655\n",
       "Name: Salary_mean, dtype: float64"
      ]
     },
     "execution_count": 188,
     "metadata": {},
     "output_type": "execute_result"
    }
   ],
   "source": [
    "data.groupby(\"python\")[\"Salary_mean\"].mean()"
   ]
  },
  {
   "cell_type": "code",
   "execution_count": 189,
   "id": "3a61256b",
   "metadata": {},
   "outputs": [],
   "source": [
    "# Creating a wordcloud for the job descriptions\n",
    "from wordcloud import WordCloud, ImageColorGenerator, STOPWORDS\n",
    "from nltk.corpus import stopwords\n",
    "from nltk.tokenize import word_tokenize"
   ]
  },
  {
   "cell_type": "code",
   "execution_count": 190,
   "id": "0a57baf9",
   "metadata": {},
   "outputs": [],
   "source": [
    "text = \" \".join(data[\"Job Description\"])"
   ]
  },
  {
   "cell_type": "code",
   "execution_count": 191,
   "id": "a825db6a",
   "metadata": {},
   "outputs": [
    {
     "data": {
      "image/png": "[encoded data removed]",
      "text/plain": [
       "<Figure size 432x288 with 1 Axes>"
      ]
     },
     "metadata": {
      "needs_background": "light"
     },
     "output_type": "display_data"
    }
   ],
   "source": [
    "wordcloud = WordCloud(background_color=\"white\", stopwords=STOPWORDS, max_words=2000, width=800, height=1500).generate(text)\n",
    "plt.imshow(wordcloud, interpolation='bilinear')\n",
    "plt.axis(\"off\")\n",
    "plt.show()"
   ]
  },
  {
   "cell_type": "code",
   "execution_count": 192,
   "id": "a2c290e5",
   "metadata": {},
   "outputs": [],
   "source": [
    "data.to_csv(\"cleaned_data.csv\")"
   ]
  },
  {
   "cell_type": "code",
   "execution_count": null,
   "id": "16780617",
   "metadata": {},
   "outputs": [],
   "source": []
  },
  {
   "cell_type": "code",
   "execution_count": null,
   "id": "4c1e7105",
   "metadata": {},
   "outputs": [],
   "source": []
  },
  {
   "cell_type": "code",
   "execution_count": null,
   "id": "592d87ee",
   "metadata": {},
   "outputs": [],
   "source": []
  },
  {
   "cell_type": "code",
   "execution_count": null,
   "id": "b58ab613",
   "metadata": {},
   "outputs": [],
   "source": []
  }
 ],
 "metadata": {
  "kernelspec": {
   "display_name": "Python 3 (ipykernel)",
   "language": "python",
   "name": "python3"
  },
  "language_info": {
   "codemirror_mode": {
    "name": "ipython",
    "version": 3
   },
   "file_extension": ".py",
   "mimetype": "text/x-python",
   "name": "python",
   "nbconvert_exporter": "python",
   "pygments_lexer": "ipython3",
   "version": "3.9.7"
  }
 },
 "nbformat": 4,
 "nbformat_minor": 5
}
